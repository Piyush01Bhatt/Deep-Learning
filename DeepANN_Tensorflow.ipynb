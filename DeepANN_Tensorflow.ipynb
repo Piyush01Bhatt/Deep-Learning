{
  "nbformat": 4,
  "nbformat_minor": 0,
  "metadata": {
    "colab": {
      "name": "DeepANN_Tensorflow.ipynb",
      "version": "0.3.2",
      "provenance": [],
      "include_colab_link": true
    },
    "kernelspec": {
      "name": "python3",
      "display_name": "Python 3"
    },
    "accelerator": "GPU"
  },
  "cells": [
    {
      "cell_type": "markdown",
      "metadata": {
        "id": "view-in-github",
        "colab_type": "text"
      },
      "source": [
        "<a href=\"https://colab.research.google.com/github/Piyush01Bhatt/Deep-Learning/blob/master/DeepANN_Tensorflow.ipynb\" target=\"_parent\"><img src=\"https://colab.research.google.com/assets/colab-badge.svg\" alt=\"Open In Colab\"/></a>"
      ]
    },
    {
      "metadata": {
        "id": "FEpwrmTfprrg",
        "colab_type": "text"
      },
      "cell_type": "markdown",
      "source": [
        "In this we will build a 3 layer deep Neural Network with Tensorflow for MNIST fashion\n",
        "dataset"
      ]
    },
    {
      "metadata": {
        "id": "1cYh0HT3p7sj",
        "colab_type": "code",
        "colab": {}
      },
      "cell_type": "code",
      "source": [
        "%matplotlib inline\n",
        "import tensorflow as tf\n",
        "import numpy as np\n",
        "import matplotlib.pyplot as plt\n",
        "from sklearn.metrics import confusion_matrix"
      ],
      "execution_count": 0,
      "outputs": []
    },
    {
      "metadata": {
        "id": "-Su4MGXyrRXX",
        "colab_type": "text"
      },
      "cell_type": "markdown",
      "source": [
        "**Load the dataset **"
      ]
    },
    {
      "metadata": {
        "id": "QI8ontEFqUE9",
        "colab_type": "code",
        "outputId": "72562623-fa43-41b7-abcf-8b83032b6cb9",
        "colab": {
          "base_uri": "https://localhost:8080/",
          "height": 35
        }
      },
      "cell_type": "code",
      "source": [
        "from keras.datasets import fashion_mnist\n",
        "\n",
        "(x_train, y_train), (x_test, y_test) = fashion_mnist.load_data()"
      ],
      "execution_count": 2,
      "outputs": [
        {
          "output_type": "stream",
          "text": [
            "Using TensorFlow backend.\n"
          ],
          "name": "stderr"
        }
      ]
    },
    {
      "metadata": {
        "id": "rF8DYpogrc6D",
        "colab_type": "code",
        "outputId": "d1ef4516-8bf3-4329-d6a8-d0cef3157c94",
        "colab": {
          "base_uri": "https://localhost:8080/",
          "height": 53
        }
      },
      "cell_type": "code",
      "source": [
        "print(f'Shape of x_train = {x_train.shape}')\n",
        "print(f'Shape of x_test = {x_test.shape}')"
      ],
      "execution_count": 3,
      "outputs": [
        {
          "output_type": "stream",
          "text": [
            "Shape of x_train = (60000, 28, 28)\n",
            "Shape of x_test = (10000, 28, 28)\n"
          ],
          "name": "stdout"
        }
      ]
    },
    {
      "metadata": {
        "id": "5L1AB1q-sfbW",
        "colab_type": "text"
      },
      "cell_type": "markdown",
      "source": [
        "\n",
        "\n",
        "1.   There are 60000 sample images in the training set each of 28 x 28 size\n",
        "2.   There are 10000 sample images in the test set with the same image size of 28 x 28\n",
        "\n"
      ]
    },
    {
      "metadata": {
        "id": "eqsmgfP8r11o",
        "colab_type": "code",
        "outputId": "8f7dbaba-5513-48c3-89a7-6f792a3fd955",
        "colab": {
          "base_uri": "https://localhost:8080/",
          "height": 35
        }
      },
      "cell_type": "code",
      "source": [
        "y_train[0:10]"
      ],
      "execution_count": 4,
      "outputs": [
        {
          "output_type": "execute_result",
          "data": {
            "text/plain": [
              "array([9, 0, 0, 3, 0, 2, 7, 2, 5, 5], dtype=uint8)"
            ]
          },
          "metadata": {
            "tags": []
          },
          "execution_count": 4
        }
      ]
    },
    {
      "metadata": {
        "id": "yoJy3v9ws6w9",
        "colab_type": "code",
        "outputId": "b43815b6-04a7-45b3-bdb2-a4f4d6898d83",
        "colab": {
          "base_uri": "https://localhost:8080/",
          "height": 35
        }
      },
      "cell_type": "code",
      "source": [
        "np.unique(y_train)"
      ],
      "execution_count": 5,
      "outputs": [
        {
          "output_type": "execute_result",
          "data": {
            "text/plain": [
              "array([0, 1, 2, 3, 4, 5, 6, 7, 8, 9], dtype=uint8)"
            ]
          },
          "metadata": {
            "tags": []
          },
          "execution_count": 5
        }
      ]
    },
    {
      "metadata": {
        "id": "rra4i8ENtCbu",
        "colab_type": "text"
      },
      "cell_type": "markdown",
      "source": [
        "\n",
        "\n",
        "1.   There are total of 10 labels to train from 0-9\n",
        "\n"
      ]
    },
    {
      "metadata": {
        "id": "tcYaCuqaK1oQ",
        "colab_type": "text"
      },
      "cell_type": "markdown",
      "source": [
        "**Set some variables to use**"
      ]
    },
    {
      "metadata": {
        "id": "L-1GawQks-jq",
        "colab_type": "code",
        "outputId": "8901f3f4-54c2-439d-b31a-e176bd914959",
        "colab": {
          "base_uri": "https://localhost:8080/",
          "height": 71
        }
      },
      "cell_type": "code",
      "source": [
        "img_flatten = x_train[0].shape[0] ** 2\n",
        "print(f'size of flatten image = {img_flatten}')\n",
        "img_shape = x_train[0].shape\n",
        "print(f'image shape = {img_shape}')\n",
        "num_classes = len(np.unique(y_train))\n",
        "print(f'number of classes to train = {num_classes}')"
      ],
      "execution_count": 6,
      "outputs": [
        {
          "output_type": "stream",
          "text": [
            "size of flatten image = 784\n",
            "image shape = (28, 28)\n",
            "number of classes to train = 10\n"
          ],
          "name": "stdout"
        }
      ]
    },
    {
      "metadata": {
        "id": "kqNV8mlgPqvk",
        "colab_type": "text"
      },
      "cell_type": "markdown",
      "source": [
        "For training purposes we need to one hot encode the labels"
      ]
    },
    {
      "metadata": {
        "id": "1v9CG9y4Pcbh",
        "colab_type": "code",
        "colab": {}
      },
      "cell_type": "code",
      "source": [
        "y_train_encoded = np.eye(num_classes)[y_train]\n",
        "y_test_encoded = np.eye(num_classes)[y_test]"
      ],
      "execution_count": 0,
      "outputs": []
    },
    {
      "metadata": {
        "id": "aMOSnj60P6aH",
        "colab_type": "code",
        "outputId": "63222438-983f-41c4-b2dc-526edaab7ca7",
        "colab": {
          "base_uri": "https://localhost:8080/",
          "height": 107
        }
      },
      "cell_type": "code",
      "source": [
        "y_train_encoded[0:5]"
      ],
      "execution_count": 8,
      "outputs": [
        {
          "output_type": "execute_result",
          "data": {
            "text/plain": [
              "array([[0., 0., 0., 0., 0., 0., 0., 0., 0., 1.],\n",
              "       [1., 0., 0., 0., 0., 0., 0., 0., 0., 0.],\n",
              "       [1., 0., 0., 0., 0., 0., 0., 0., 0., 0.],\n",
              "       [0., 0., 0., 1., 0., 0., 0., 0., 0., 0.],\n",
              "       [1., 0., 0., 0., 0., 0., 0., 0., 0., 0.]])"
            ]
          },
          "metadata": {
            "tags": []
          },
          "execution_count": 8
        }
      ]
    },
    {
      "metadata": {
        "id": "Tijzv7QHP-pp",
        "colab_type": "code",
        "outputId": "9349372b-a52a-4022-fd80-e429e2bbe242",
        "colab": {
          "base_uri": "https://localhost:8080/",
          "height": 35
        }
      },
      "cell_type": "code",
      "source": [
        "y_train[0:5]"
      ],
      "execution_count": 9,
      "outputs": [
        {
          "output_type": "execute_result",
          "data": {
            "text/plain": [
              "array([9, 0, 0, 3, 0], dtype=uint8)"
            ]
          },
          "metadata": {
            "tags": []
          },
          "execution_count": 9
        }
      ]
    },
    {
      "metadata": {
        "id": "FqlQmBnyQAyA",
        "colab_type": "code",
        "outputId": "b2af4391-504e-44d4-e592-1df8c03169de",
        "colab": {
          "base_uri": "https://localhost:8080/",
          "height": 35
        }
      },
      "cell_type": "code",
      "source": [
        "y_test[0:5]"
      ],
      "execution_count": 10,
      "outputs": [
        {
          "output_type": "execute_result",
          "data": {
            "text/plain": [
              "array([9, 2, 1, 1, 6], dtype=uint8)"
            ]
          },
          "metadata": {
            "tags": []
          },
          "execution_count": 10
        }
      ]
    },
    {
      "metadata": {
        "id": "myMGqYo2Qwf1",
        "colab_type": "code",
        "outputId": "f556aa3a-4277-457f-ba23-e9b65ba2d879",
        "colab": {
          "base_uri": "https://localhost:8080/",
          "height": 107
        }
      },
      "cell_type": "code",
      "source": [
        "y_test_encoded[0:5]"
      ],
      "execution_count": 11,
      "outputs": [
        {
          "output_type": "execute_result",
          "data": {
            "text/plain": [
              "array([[0., 0., 0., 0., 0., 0., 0., 0., 0., 1.],\n",
              "       [0., 0., 1., 0., 0., 0., 0., 0., 0., 0.],\n",
              "       [0., 1., 0., 0., 0., 0., 0., 0., 0., 0.],\n",
              "       [0., 1., 0., 0., 0., 0., 0., 0., 0., 0.],\n",
              "       [0., 0., 0., 0., 0., 0., 1., 0., 0., 0.]])"
            ]
          },
          "metadata": {
            "tags": []
          },
          "execution_count": 11
        }
      ]
    },
    {
      "metadata": {
        "id": "gZpz5WrfQ1bZ",
        "colab_type": "text"
      },
      "cell_type": "markdown",
      "source": [
        "**Helper function for plotting images**"
      ]
    },
    {
      "metadata": {
        "id": "bhNkWWwXQ5du",
        "colab_type": "code",
        "colab": {}
      },
      "cell_type": "code",
      "source": [
        "def plot_images(images, cls_true, cls_pred=None):\n",
        "  \n",
        "  f,ax = plt.subplots(3,3)\n",
        "  f.subplots_adjust(hspace=0.3, wspace=0.3)\n",
        "  \n",
        "  for i,ax in enumerate(ax.flat):\n",
        "    ax.imshow(images[i].reshape(img_shape), cmap='binary')\n",
        "    \n",
        "    if cls_pred is None:\n",
        "      xlabel = 'True: {0}'.format(cls_true[i])\n",
        "    else:\n",
        "      xlabel = 'True: {0}, Pred: {1}'.format(cls_true[i], cls_pred[i])\n",
        "    \n",
        "    ax.set_xlabel(xlabel)\n",
        "    \n",
        "    ax.set_xticks([])\n",
        "    ax.set_yticks([])\n",
        "    \n",
        "  plt.show()\n",
        "    "
      ],
      "execution_count": 0,
      "outputs": []
    },
    {
      "metadata": {
        "id": "FbLx860nYpW7",
        "colab_type": "code",
        "outputId": "6aff2ac8-e828-465e-e14c-f16527cd76a7",
        "colab": {
          "base_uri": "https://localhost:8080/",
          "height": 262
        }
      },
      "cell_type": "code",
      "source": [
        "images = x_train[0:10]\n",
        "labels = y_train[0:10]\n",
        "plot_images(images=images,cls_true=labels)"
      ],
      "execution_count": 13,
      "outputs": [
        {
          "output_type": "display_data",
          "data": {
            "image/png": "[encoded data removed]",
            "text/plain": [
              "<Figure size 432x288 with 9 Axes>"
            ]
          },
          "metadata": {
            "tags": []
          }
        }
      ]
    },
    {
      "metadata": {
        "id": "DCSyssmyahs_",
        "colab_type": "text"
      },
      "cell_type": "markdown",
      "source": [
        "**Tensorflow Graph**"
      ]
    },
    {
      "metadata": {
        "id": "ZEjla-blZRu4",
        "colab_type": "code",
        "colab": {}
      },
      "cell_type": "code",
      "source": [
        "#Setting The placeholder variables\n",
        "# 1. Placeholder for taking input images\n",
        "x = tf.placeholder(tf.float32, [None, img_flatten])\n",
        "# This will create a input tensor of [None, 784] dimension\n",
        "# That means any input samples of 784 dimension each"
      ],
      "execution_count": 0,
      "outputs": []
    },
    {
      "metadata": {
        "id": "VuDBMot3D-1O",
        "colab_type": "code",
        "colab": {}
      },
      "cell_type": "code",
      "source": [
        "# 2. Placeholder variable for output\n",
        "y = tf.placeholder(tf.float32, [None, num_classes])\n",
        "# This is for encoded output \n",
        "# for each input 10 float values for each class will be out\n",
        "# max value will be the true label"
      ],
      "execution_count": 0,
      "outputs": []
    },
    {
      "metadata": {
        "id": "gH2hhCPBEkF7",
        "colab_type": "code",
        "colab": {}
      },
      "cell_type": "code",
      "source": [
        "y_true_cls = tf.placeholder(tf.int64,[None])\n",
        "# Since this holds true values from either [0-9]\n",
        "# So its a 1-D tensor for getting true label for each output"
      ],
      "execution_count": 0,
      "outputs": []
    },
    {
      "metadata": {
        "id": "rZ-yJAkwHM6_",
        "colab_type": "text"
      },
      "cell_type": "markdown",
      "source": [
        "**Lets create helper functions to get Variables of weights and biases**"
      ]
    },
    {
      "metadata": {
        "id": "z5hC9_qKE2tT",
        "colab_type": "code",
        "colab": {}
      },
      "cell_type": "code",
      "source": [
        "def new_weights(shape):\n",
        "  return tf.Variable(tf.truncated_normal(shape, stddev=1))\n",
        "\n",
        "def new_biases(length):\n",
        "  return tf.Variable(tf.constant(0.05, shape=[length]))"
      ],
      "execution_count": 0,
      "outputs": []
    },
    {
      "metadata": {
        "id": "HXR7iRB0bGOQ",
        "colab_type": "text"
      },
      "cell_type": "markdown",
      "source": [
        "**Helper function to create inner layers**"
      ]
    },
    {
      "metadata": {
        "id": "IFmM31dIaw6H",
        "colab_type": "code",
        "colab": {}
      },
      "cell_type": "code",
      "source": [
        "def new_layer(input: 'input from previous layer',\n",
        "              shape: 'a list to define weights dimensions',\n",
        "              use_relu: 'Use ReLU as activation fuction'=True):\n",
        "  \n",
        "  w = new_weights(shape=shape)\n",
        "  b = new_biases(length=shape[1])\n",
        "  \n",
        "  layer = tf.matmul(input, w) + b\n",
        "  \n",
        "  if use_relu:\n",
        "    layer = tf.nn.relu(layer)\n",
        "   \n",
        "  return layer,w\n",
        "  "
      ],
      "execution_count": 0,
      "outputs": []
    },
    {
      "metadata": {
        "id": "b6r7Ryl-XlY_",
        "colab_type": "text"
      },
      "cell_type": "markdown",
      "source": [
        "**Defining layers**"
      ]
    },
    {
      "metadata": {
        "id": "dJ9nsBi4gwRh",
        "colab_type": "code",
        "colab": {
          "base_uri": "https://localhost:8080/",
          "height": 91
        },
        "outputId": "c5d13c08-8a7b-41b4-d330-ae9626fc1ca8"
      },
      "cell_type": "code",
      "source": [
        "layer1,w1 = new_layer(input=x,\n",
        "                   shape=[784,1000])"
      ],
      "execution_count": 19,
      "outputs": [
        {
          "output_type": "stream",
          "text": [
            "WARNING:tensorflow:From /usr/local/lib/python3.6/dist-packages/tensorflow/python/framework/op_def_library.py:263: colocate_with (from tensorflow.python.framework.ops) is deprecated and will be removed in a future version.\n",
            "Instructions for updating:\n",
            "Colocations handled automatically by placer.\n"
          ],
          "name": "stdout"
        }
      ]
    },
    {
      "metadata": {
        "id": "reJtrG-tW5IQ",
        "colab_type": "code",
        "colab": {
          "base_uri": "https://localhost:8080/",
          "height": 35
        },
        "outputId": "a0b04967-aa20-4303-ce4d-e6b641a6133c"
      },
      "cell_type": "code",
      "source": [
        "layer1 #hidden layer1"
      ],
      "execution_count": 20,
      "outputs": [
        {
          "output_type": "execute_result",
          "data": {
            "text/plain": [
              "<tf.Tensor 'Relu:0' shape=(?, 1000) dtype=float32>"
            ]
          },
          "metadata": {
            "tags": []
          },
          "execution_count": 20
        }
      ]
    },
    {
      "metadata": {
        "id": "-VIpmjKxdrdF",
        "colab_type": "code",
        "colab": {}
      },
      "cell_type": "code",
      "source": [
        "layer2,w2 = new_layer(input=layer1,\n",
        "                   shape=[1000,1200])"
      ],
      "execution_count": 0,
      "outputs": []
    },
    {
      "metadata": {
        "id": "GosJvbUYedbd",
        "colab_type": "code",
        "colab": {
          "base_uri": "https://localhost:8080/",
          "height": 35
        },
        "outputId": "7ca8bb4b-f269-409c-e381-d37e26368b6f"
      },
      "cell_type": "code",
      "source": [
        "layer2 # hidden layer2"
      ],
      "execution_count": 22,
      "outputs": [
        {
          "output_type": "execute_result",
          "data": {
            "text/plain": [
              "<tf.Tensor 'Relu_1:0' shape=(?, 1200) dtype=float32>"
            ]
          },
          "metadata": {
            "tags": []
          },
          "execution_count": 22
        }
      ]
    },
    {
      "metadata": {
        "id": "_5Hzohn4ee85",
        "colab_type": "code",
        "colab": {}
      },
      "cell_type": "code",
      "source": [
        "layer3,w3 = new_layer(input=layer2,\n",
        "                      shape=[1200,1000])"
      ],
      "execution_count": 0,
      "outputs": []
    },
    {
      "metadata": {
        "id": "rSltEJTierGv",
        "colab_type": "code",
        "colab": {
          "base_uri": "https://localhost:8080/",
          "height": 35
        },
        "outputId": "b7e49f74-0a6a-40ca-8b52-526b8a4f3579"
      },
      "cell_type": "code",
      "source": [
        "layer3 # hidden layer3"
      ],
      "execution_count": 24,
      "outputs": [
        {
          "output_type": "execute_result",
          "data": {
            "text/plain": [
              "<tf.Tensor 'Relu_2:0' shape=(?, 1000) dtype=float32>"
            ]
          },
          "metadata": {
            "tags": []
          },
          "execution_count": 24
        }
      ]
    },
    {
      "metadata": {
        "id": "ir18_5TXesL8",
        "colab_type": "code",
        "colab": {}
      },
      "cell_type": "code",
      "source": [
        "layer4,w4 = new_layer(input=layer3,\n",
        "                      shape=[1000,10],\n",
        "                      use_relu=False)"
      ],
      "execution_count": 0,
      "outputs": []
    },
    {
      "metadata": {
        "id": "Ogf1Jet-fFEZ",
        "colab_type": "code",
        "colab": {
          "base_uri": "https://localhost:8080/",
          "height": 35
        },
        "outputId": "0ca9a286-3ee9-45d2-f69f-be559e631ad4"
      },
      "cell_type": "code",
      "source": [
        "layer4 # output layer"
      ],
      "execution_count": 26,
      "outputs": [
        {
          "output_type": "execute_result",
          "data": {
            "text/plain": [
              "<tf.Tensor 'add_3:0' shape=(?, 10) dtype=float32>"
            ]
          },
          "metadata": {
            "tags": []
          },
          "execution_count": 26
        }
      ]
    },
    {
      "metadata": {
        "id": "OtBTFQ5sfIyy",
        "colab_type": "code",
        "colab": {}
      },
      "cell_type": "code",
      "source": [
        "y_pred = tf.nn.softmax(layer4)"
      ],
      "execution_count": 0,
      "outputs": []
    },
    {
      "metadata": {
        "id": "RTdvMlrQfedk",
        "colab_type": "code",
        "colab": {}
      },
      "cell_type": "code",
      "source": [
        "y_pred_cls = tf.argmax(y_pred, axis=1)"
      ],
      "execution_count": 0,
      "outputs": []
    },
    {
      "metadata": {
        "id": "GeIbAsbifpLi",
        "colab_type": "text"
      },
      "cell_type": "markdown",
      "source": [
        "**Cost Function to be optimised**"
      ]
    },
    {
      "metadata": {
        "id": "s3eMpWgzfjoE",
        "colab_type": "code",
        "colab": {}
      },
      "cell_type": "code",
      "source": [
        "cross_entropy = tf.nn.softmax_cross_entropy_with_logits_v2(logits=layer4,\n",
        "                                                           labels=y)"
      ],
      "execution_count": 0,
      "outputs": []
    },
    {
      "metadata": {
        "id": "XmVq_hoKhGQe",
        "colab_type": "code",
        "colab": {}
      },
      "cell_type": "code",
      "source": [
        "cost = tf.reduce_mean(cross_entropy)"
      ],
      "execution_count": 0,
      "outputs": []
    },
    {
      "metadata": {
        "id": "oDJzKw_xhL-F",
        "colab_type": "text"
      },
      "cell_type": "markdown",
      "source": [
        "**Optimization**"
      ]
    },
    {
      "metadata": {
        "id": "XoRUAtBXhKuE",
        "colab_type": "code",
        "colab": {}
      },
      "cell_type": "code",
      "source": [
        "optimizer = tf.train.AdamOptimizer(learning_rate=1e-4).minimize(cost)"
      ],
      "execution_count": 0,
      "outputs": []
    },
    {
      "metadata": {
        "id": "JENywJ1ihenf",
        "colab_type": "text"
      },
      "cell_type": "markdown",
      "source": [
        "**Performance Measures**"
      ]
    },
    {
      "metadata": {
        "id": "KqaCfo4shbAX",
        "colab_type": "code",
        "colab": {}
      },
      "cell_type": "code",
      "source": [
        "correct_prediction = tf.equal(y_pred_cls,y_true_cls)"
      ],
      "execution_count": 0,
      "outputs": []
    },
    {
      "metadata": {
        "id": "2haTY-jKh2db",
        "colab_type": "code",
        "colab": {}
      },
      "cell_type": "code",
      "source": [
        "accuracy = tf.reduce_mean(tf.cast(correct_prediction, tf.float32))"
      ],
      "execution_count": 0,
      "outputs": []
    },
    {
      "metadata": {
        "id": "3lQdJUyFiato",
        "colab_type": "text"
      },
      "cell_type": "markdown",
      "source": [
        "**Running Tensorflow**"
      ]
    },
    {
      "metadata": {
        "id": "exRFe9trh9cp",
        "colab_type": "code",
        "colab": {}
      },
      "cell_type": "code",
      "source": [
        "session = tf.Session()"
      ],
      "execution_count": 0,
      "outputs": []
    },
    {
      "metadata": {
        "id": "fpVy0_wymkD6",
        "colab_type": "text"
      },
      "cell_type": "markdown",
      "source": [
        "**Initialize variables**"
      ]
    },
    {
      "metadata": {
        "id": "EiaMDDWfigT5",
        "colab_type": "code",
        "colab": {}
      },
      "cell_type": "code",
      "source": [
        "session.run(tf.global_variables_initializer())"
      ],
      "execution_count": 0,
      "outputs": []
    },
    {
      "metadata": {
        "id": "c00lboBXmwr4",
        "colab_type": "text"
      },
      "cell_type": "markdown",
      "source": [
        "**Helper function to get train in batches**"
      ]
    },
    {
      "metadata": {
        "id": "qHo8TT-UmvW0",
        "colab_type": "code",
        "colab": {}
      },
      "cell_type": "code",
      "source": [
        "train_batch_size = 250"
      ],
      "execution_count": 0,
      "outputs": []
    },
    {
      "metadata": {
        "id": "7t_ujeHsm3rp",
        "colab_type": "code",
        "colab": {}
      },
      "cell_type": "code",
      "source": [
        "def next_batch(num, data, labels):\n",
        "  '''\n",
        "    Return a total of 'num' random samples and labels\n",
        "  '''\n",
        "  idx = np.arange(0, len(data))\n",
        "  np.random.shuffle(idx)\n",
        "  idx = idx[:num]\n",
        "  data_shuffle = [data[i] for i in idx]\n",
        "  labels_shuffle = [labels[i] for i in idx]\n",
        "  \n",
        "  return np.asarray(data_shuffle), np.asarray(labels_shuffle)"
      ],
      "execution_count": 0,
      "outputs": []
    },
    {
      "metadata": {
        "id": "mnC2xis6njZ-",
        "colab_type": "text"
      },
      "cell_type": "markdown",
      "source": [
        "**Helper function for optimization iterations**"
      ]
    },
    {
      "metadata": {
        "id": "WBFUCs6JqZeI",
        "colab_type": "code",
        "colab": {}
      },
      "cell_type": "code",
      "source": [
        "feed_dict_test = {\n",
        "    x: x_test.reshape(-1,784),\n",
        "    y: y_test_encoded,\n",
        "    y_true_cls: y_test\n",
        "}"
      ],
      "execution_count": 0,
      "outputs": []
    },
    {
      "metadata": {
        "id": "hIZBakH4qTOz",
        "colab_type": "code",
        "colab": {}
      },
      "cell_type": "code",
      "source": [
        "def print_accuracy():\n",
        "  acc = session.run(accuracy, feed_dict=feed_dict_test)\n",
        "  print(\"Accuracy on test-set: {0:.1%}\".format(acc))"
      ],
      "execution_count": 0,
      "outputs": []
    },
    {
      "metadata": {
        "id": "MEsuFu95nhXA",
        "colab_type": "code",
        "colab": {}
      },
      "cell_type": "code",
      "source": [
        "def optimize(num_iterations):\n",
        "  for i in range(1,num_iterations+1):\n",
        "    x_batch, y_true_batch = next_batch(num = train_batch_size,\n",
        "                                       data = x_train,\n",
        "                                       labels = y_train_encoded)\n",
        "    # setting placeholder values\n",
        "    feed_dict_train = {\n",
        "        x : x_batch.reshape(-1,784),\n",
        "        y : y_true_batch\n",
        "    }\n",
        "    \n",
        "    session.run(optimizer, feed_dict=feed_dict_train)\n",
        "    \n",
        "    if(i%100==0):\n",
        "      print_accuracy()"
      ],
      "execution_count": 0,
      "outputs": []
    },
    {
      "metadata": {
        "id": "xx_zmenjrObx",
        "colab_type": "code",
        "colab": {}
      },
      "cell_type": "code",
      "source": [
        "def print_confusion_matrix():\n",
        "    # Get the true classifications for the test-set.\n",
        "    cls_true = y_test\n",
        "    \n",
        "    # Get the predicted classifications for the test-set.\n",
        "    cls_pred = session.run(y_pred_cls, feed_dict=feed_dict_test)\n",
        "\n",
        "    # Get the confusion matrix using sklearn.\n",
        "    cm = confusion_matrix(y_true=cls_true,\n",
        "                          y_pred=cls_pred)\n",
        "\n",
        "    # Print the confusion matrix as text.\n",
        "    print(cm)\n",
        "\n",
        "    # Plot the confusion matrix as an image.\n",
        "    plt.imshow(cm, interpolation='nearest', cmap=plt.cm.Blues)\n",
        "\n",
        "    # Make various adjustments to the plot.\n",
        "    plt.tight_layout()\n",
        "    plt.colorbar()\n",
        "    tick_marks = np.arange(num_classes)\n",
        "    plt.xticks(tick_marks, range(num_classes))\n",
        "    plt.yticks(tick_marks, range(num_classes))\n",
        "    plt.xlabel('Predicted')\n",
        "    plt.ylabel('True')\n",
        "    \n",
        "    # Ensure the plot is shown correctly with multiple plots\n",
        "    # in a single Notebook cell.\n",
        "    plt.show()"
      ],
      "execution_count": 0,
      "outputs": []
    },
    {
      "metadata": {
        "id": "lByUVzCDsCbT",
        "colab_type": "code",
        "colab": {
          "base_uri": "https://localhost:8080/",
          "height": 35
        },
        "outputId": "381b49f8-d95c-491b-d6c5-3fc228478c8f"
      },
      "cell_type": "code",
      "source": [
        "print_accuracy()"
      ],
      "execution_count": 43,
      "outputs": [
        {
          "output_type": "stream",
          "text": [
            "Accuracy on test-set: 6.8%\n"
          ],
          "name": "stdout"
        }
      ]
    },
    {
      "metadata": {
        "id": "0kiKEeezsLsI",
        "colab_type": "code",
        "colab": {}
      },
      "cell_type": "code",
      "source": [
        "#optimization after one iteration\n",
        "optimize(1)"
      ],
      "execution_count": 0,
      "outputs": []
    },
    {
      "metadata": {
        "id": "uOMgjx2TyHdn",
        "colab_type": "code",
        "colab": {
          "base_uri": "https://localhost:8080/",
          "height": 35
        },
        "outputId": "fdcc1cf1-2dd0-43f1-9fe6-85a1320853b2"
      },
      "cell_type": "code",
      "source": [
        "print_accuracy()"
      ],
      "execution_count": 45,
      "outputs": [
        {
          "output_type": "stream",
          "text": [
            "Accuracy on test-set: 6.9%\n"
          ],
          "name": "stdout"
        }
      ]
    },
    {
      "metadata": {
        "id": "ZTQSYK0gsRJs",
        "colab_type": "code",
        "colab": {
          "base_uri": "https://localhost:8080/",
          "height": 35
        },
        "outputId": "4fbaebb6-a67f-453b-f225-3bd3e66e62dc"
      },
      "cell_type": "code",
      "source": [
        "optimize(100)"
      ],
      "execution_count": 46,
      "outputs": [
        {
          "output_type": "stream",
          "text": [
            "Accuracy on test-set: 56.8%\n"
          ],
          "name": "stdout"
        }
      ]
    },
    {
      "metadata": {
        "id": "H5KLdZkVsVox",
        "colab_type": "code",
        "colab": {
          "base_uri": "https://localhost:8080/",
          "height": 53
        },
        "outputId": "60996631-4947-441f-a57b-3be0d2de9154"
      },
      "cell_type": "code",
      "source": [
        "optimize(200)"
      ],
      "execution_count": 47,
      "outputs": [
        {
          "output_type": "stream",
          "text": [
            "Accuracy on test-set: 67.2%\n",
            "Accuracy on test-set: 71.3%\n"
          ],
          "name": "stdout"
        }
      ]
    },
    {
      "metadata": {
        "id": "zvGT1mL-sq83",
        "colab_type": "code",
        "colab": {
          "base_uri": "https://localhost:8080/",
          "height": 197
        },
        "outputId": "fe593f41-c382-4cf4-80f8-c5749103a06b"
      },
      "cell_type": "code",
      "source": [
        "optimize(1000)"
      ],
      "execution_count": 48,
      "outputs": [
        {
          "output_type": "stream",
          "text": [
            "Accuracy on test-set: 72.8%\n",
            "Accuracy on test-set: 74.3%\n",
            "Accuracy on test-set: 75.1%\n",
            "Accuracy on test-set: 76.2%\n",
            "Accuracy on test-set: 77.0%\n",
            "Accuracy on test-set: 77.4%\n",
            "Accuracy on test-set: 77.7%\n",
            "Accuracy on test-set: 78.0%\n",
            "Accuracy on test-set: 78.1%\n",
            "Accuracy on test-set: 78.4%\n"
          ],
          "name": "stdout"
        }
      ]
    },
    {
      "metadata": {
        "id": "RCFNya9Kw98-",
        "colab_type": "code",
        "colab": {
          "base_uri": "https://localhost:8080/",
          "height": 917
        },
        "outputId": "cc079bed-993a-4cdb-fa38-be54430a5fba"
      },
      "cell_type": "code",
      "source": [
        "optimize(5000)"
      ],
      "execution_count": 49,
      "outputs": [
        {
          "output_type": "stream",
          "text": [
            "Accuracy on test-set: 78.9%\n",
            "Accuracy on test-set: 79.2%\n",
            "Accuracy on test-set: 79.0%\n",
            "Accuracy on test-set: 79.1%\n",
            "Accuracy on test-set: 79.6%\n",
            "Accuracy on test-set: 79.5%\n",
            "Accuracy on test-set: 79.6%\n",
            "Accuracy on test-set: 80.0%\n",
            "Accuracy on test-set: 80.1%\n",
            "Accuracy on test-set: 80.1%\n",
            "Accuracy on test-set: 79.8%\n",
            "Accuracy on test-set: 80.6%\n",
            "Accuracy on test-set: 80.3%\n",
            "Accuracy on test-set: 80.6%\n",
            "Accuracy on test-set: 80.4%\n",
            "Accuracy on test-set: 80.6%\n",
            "Accuracy on test-set: 80.5%\n",
            "Accuracy on test-set: 80.4%\n",
            "Accuracy on test-set: 80.5%\n",
            "Accuracy on test-set: 80.5%\n",
            "Accuracy on test-set: 80.9%\n",
            "Accuracy on test-set: 80.7%\n",
            "Accuracy on test-set: 81.1%\n",
            "Accuracy on test-set: 81.0%\n",
            "Accuracy on test-set: 81.3%\n",
            "Accuracy on test-set: 81.4%\n",
            "Accuracy on test-set: 81.5%\n",
            "Accuracy on test-set: 81.4%\n",
            "Accuracy on test-set: 81.7%\n",
            "Accuracy on test-set: 81.4%\n",
            "Accuracy on test-set: 81.2%\n",
            "Accuracy on test-set: 81.2%\n",
            "Accuracy on test-set: 81.4%\n",
            "Accuracy on test-set: 80.8%\n",
            "Accuracy on test-set: 81.3%\n",
            "Accuracy on test-set: 81.6%\n",
            "Accuracy on test-set: 81.0%\n",
            "Accuracy on test-set: 81.5%\n",
            "Accuracy on test-set: 81.7%\n",
            "Accuracy on test-set: 81.6%\n",
            "Accuracy on test-set: 81.6%\n",
            "Accuracy on test-set: 81.4%\n",
            "Accuracy on test-set: 81.4%\n",
            "Accuracy on test-set: 81.7%\n",
            "Accuracy on test-set: 81.6%\n",
            "Accuracy on test-set: 81.6%\n",
            "Accuracy on test-set: 81.7%\n",
            "Accuracy on test-set: 81.5%\n",
            "Accuracy on test-set: 81.7%\n",
            "Accuracy on test-set: 81.6%\n"
          ],
          "name": "stdout"
        }
      ]
    },
    {
      "metadata": {
        "id": "DSxMef11xCaD",
        "colab_type": "code",
        "colab": {
          "base_uri": "https://localhost:8080/",
          "height": 35
        },
        "outputId": "ac0dde37-f7fc-4e16-d7aa-7f297d6ebcf3"
      },
      "cell_type": "code",
      "source": [
        "print_accuracy()"
      ],
      "execution_count": 50,
      "outputs": [
        {
          "output_type": "stream",
          "text": [
            "Accuracy on test-set: 81.6%\n"
          ],
          "name": "stdout"
        }
      ]
    },
    {
      "metadata": {
        "id": "m81Bu3d86_LV",
        "colab_type": "code",
        "colab": {
          "base_uri": "https://localhost:8080/",
          "height": 917
        },
        "outputId": "baedb6c1-1f6e-42bc-831a-f5aa5b07cc01"
      },
      "cell_type": "code",
      "source": [
        "optimize(5000)"
      ],
      "execution_count": 51,
      "outputs": [
        {
          "output_type": "stream",
          "text": [
            "Accuracy on test-set: 82.0%\n",
            "Accuracy on test-set: 82.0%\n",
            "Accuracy on test-set: 82.0%\n",
            "Accuracy on test-set: 81.8%\n",
            "Accuracy on test-set: 82.0%\n",
            "Accuracy on test-set: 81.8%\n",
            "Accuracy on test-set: 82.1%\n",
            "Accuracy on test-set: 82.0%\n",
            "Accuracy on test-set: 82.2%\n",
            "Accuracy on test-set: 82.3%\n",
            "Accuracy on test-set: 82.0%\n",
            "Accuracy on test-set: 82.2%\n",
            "Accuracy on test-set: 82.2%\n",
            "Accuracy on test-set: 82.3%\n",
            "Accuracy on test-set: 82.1%\n",
            "Accuracy on test-set: 82.2%\n",
            "Accuracy on test-set: 82.3%\n",
            "Accuracy on test-set: 82.5%\n",
            "Accuracy on test-set: 82.3%\n",
            "Accuracy on test-set: 82.3%\n",
            "Accuracy on test-set: 82.3%\n",
            "Accuracy on test-set: 81.9%\n",
            "Accuracy on test-set: 82.3%\n",
            "Accuracy on test-set: 82.4%\n",
            "Accuracy on test-set: 82.5%\n",
            "Accuracy on test-set: 82.4%\n",
            "Accuracy on test-set: 82.2%\n",
            "Accuracy on test-set: 82.0%\n",
            "Accuracy on test-set: 82.0%\n",
            "Accuracy on test-set: 82.5%\n",
            "Accuracy on test-set: 82.5%\n",
            "Accuracy on test-set: 82.5%\n",
            "Accuracy on test-set: 82.5%\n",
            "Accuracy on test-set: 82.6%\n",
            "Accuracy on test-set: 82.1%\n",
            "Accuracy on test-set: 82.1%\n",
            "Accuracy on test-set: 82.7%\n",
            "Accuracy on test-set: 82.7%\n",
            "Accuracy on test-set: 82.7%\n",
            "Accuracy on test-set: 82.8%\n",
            "Accuracy on test-set: 82.6%\n",
            "Accuracy on test-set: 82.1%\n",
            "Accuracy on test-set: 82.3%\n",
            "Accuracy on test-set: 82.2%\n",
            "Accuracy on test-set: 82.7%\n",
            "Accuracy on test-set: 82.7%\n",
            "Accuracy on test-set: 82.3%\n",
            "Accuracy on test-set: 82.5%\n",
            "Accuracy on test-set: 82.7%\n",
            "Accuracy on test-set: 82.7%\n"
          ],
          "name": "stdout"
        }
      ]
    },
    {
      "metadata": {
        "id": "5Kh7d2kn7Ceq",
        "colab_type": "code",
        "colab": {
          "base_uri": "https://localhost:8080/",
          "height": 35
        },
        "outputId": "19abc2c8-0ab9-443a-bab0-e60ee91fb39d"
      },
      "cell_type": "code",
      "source": [
        "print_accuracy()"
      ],
      "execution_count": 52,
      "outputs": [
        {
          "output_type": "stream",
          "text": [
            "Accuracy on test-set: 82.7%\n"
          ],
          "name": "stdout"
        }
      ]
    },
    {
      "metadata": {
        "id": "nh_sQ2vo7iBw",
        "colab_type": "code",
        "colab": {
          "base_uri": "https://localhost:8080/",
          "height": 917
        },
        "outputId": "31289a28-9925-4e1a-82f2-2280f94110c0"
      },
      "cell_type": "code",
      "source": [
        "optimize(5000)"
      ],
      "execution_count": 53,
      "outputs": [
        {
          "output_type": "stream",
          "text": [
            "Accuracy on test-set: 83.0%\n",
            "Accuracy on test-set: 82.6%\n",
            "Accuracy on test-set: 82.7%\n",
            "Accuracy on test-set: 82.9%\n",
            "Accuracy on test-set: 83.0%\n",
            "Accuracy on test-set: 82.0%\n",
            "Accuracy on test-set: 82.9%\n",
            "Accuracy on test-set: 82.5%\n",
            "Accuracy on test-set: 82.9%\n",
            "Accuracy on test-set: 82.7%\n",
            "Accuracy on test-set: 83.1%\n",
            "Accuracy on test-set: 82.3%\n",
            "Accuracy on test-set: 83.2%\n",
            "Accuracy on test-set: 83.1%\n",
            "Accuracy on test-set: 82.8%\n",
            "Accuracy on test-set: 82.9%\n",
            "Accuracy on test-set: 82.7%\n",
            "Accuracy on test-set: 82.4%\n",
            "Accuracy on test-set: 82.9%\n",
            "Accuracy on test-set: 82.7%\n",
            "Accuracy on test-set: 82.9%\n",
            "Accuracy on test-set: 82.9%\n",
            "Accuracy on test-set: 83.0%\n",
            "Accuracy on test-set: 82.7%\n",
            "Accuracy on test-set: 82.8%\n",
            "Accuracy on test-set: 82.9%\n",
            "Accuracy on test-set: 82.4%\n",
            "Accuracy on test-set: 82.9%\n",
            "Accuracy on test-set: 82.6%\n",
            "Accuracy on test-set: 82.9%\n",
            "Accuracy on test-set: 82.7%\n",
            "Accuracy on test-set: 82.8%\n",
            "Accuracy on test-set: 83.1%\n",
            "Accuracy on test-set: 82.6%\n",
            "Accuracy on test-set: 82.8%\n",
            "Accuracy on test-set: 83.0%\n",
            "Accuracy on test-set: 83.0%\n",
            "Accuracy on test-set: 83.0%\n",
            "Accuracy on test-set: 83.0%\n",
            "Accuracy on test-set: 82.6%\n",
            "Accuracy on test-set: 82.6%\n",
            "Accuracy on test-set: 83.1%\n",
            "Accuracy on test-set: 83.0%\n",
            "Accuracy on test-set: 83.0%\n",
            "Accuracy on test-set: 83.0%\n",
            "Accuracy on test-set: 83.1%\n",
            "Accuracy on test-set: 83.1%\n",
            "Accuracy on test-set: 83.1%\n",
            "Accuracy on test-set: 83.2%\n",
            "Accuracy on test-set: 83.4%\n"
          ],
          "name": "stdout"
        }
      ]
    },
    {
      "metadata": {
        "id": "Lr5VikM5713m",
        "colab_type": "text"
      },
      "cell_type": "markdown",
      "source": [
        "So final accuracy score for a 3 layer deep ANN is approx 83.5%. after 17000 iterations.\n",
        "I guess accuracy will improve with more iterations or increased hidden layers"
      ]
    },
    {
      "metadata": {
        "id": "95jYPY8q7lyO",
        "colab_type": "code",
        "colab": {}
      },
      "cell_type": "code",
      "source": [
        ""
      ],
      "execution_count": 0,
      "outputs": []
    }
  ]
}