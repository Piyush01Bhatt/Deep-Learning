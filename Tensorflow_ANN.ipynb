{
  "nbformat": 4,
  "nbformat_minor": 0,
  "metadata": {
    "colab": {
      "name": "Tensorflow_ANN.ipynb",
      "version": "0.3.2",
      "provenance": [],
      "include_colab_link": true
    },
    "kernelspec": {
      "name": "python3",
      "display_name": "Python 3"
    },
    "accelerator": "GPU"
  },
  "cells": [
    {
      "cell_type": "markdown",
      "metadata": {
        "id": "view-in-github",
        "colab_type": "text"
      },
      "source": [
        "<a href=\"https://colab.research.google.com/github/Piyush01Bhatt/Deep-Learning/blob/master/Tensorflow_ANN.ipynb\" target=\"_parent\"><img src=\"https://colab.research.google.com/assets/colab-badge.svg\" alt=\"Open In Colab\"/></a>"
      ]
    },
    {
      "metadata": {
        "id": "r-B30hBLg41-",
        "colab_type": "code",
        "colab": {}
      },
      "cell_type": "code",
      "source": [
        "%matplotlib inline\n",
        "import matplotlib.pyplot as plt\n",
        "import tensorflow as tf\n",
        "import numpy as np\n",
        "from sklearn.metrics import confusion_matrix"
      ],
      "execution_count": 0,
      "outputs": []
    },
    {
      "metadata": {
        "id": "sBkxftSliOTy",
        "colab_type": "code",
        "colab": {
          "base_uri": "https://localhost:8080/",
          "height": 35
        },
        "outputId": "8a012e66-e9e7-4a7a-d9a7-653a7ee1d56c"
      },
      "cell_type": "code",
      "source": [
        "tf.__version__"
      ],
      "execution_count": 25,
      "outputs": [
        {
          "output_type": "execute_result",
          "data": {
            "text/plain": [
              "'1.13.0-rc0'"
            ]
          },
          "metadata": {
            "tags": []
          },
          "execution_count": 25
        }
      ]
    },
    {
      "metadata": {
        "id": "BycVuPpCiWgf",
        "colab_type": "text"
      },
      "cell_type": "markdown",
      "source": [
        "**Loading The MNIST Handwritten digit dataset**"
      ]
    },
    {
      "metadata": {
        "id": "PyQNqEXViUga",
        "colab_type": "code",
        "colab": {}
      },
      "cell_type": "code",
      "source": [
        "mnist = tf.keras.datasets.mnist\n",
        "(X_train, y_train),(X_test, y_test) = mnist.load_data()"
      ],
      "execution_count": 0,
      "outputs": []
    },
    {
      "metadata": {
        "id": "XSI5pydiiRQk",
        "colab_type": "code",
        "colab": {
          "base_uri": "https://localhost:8080/",
          "height": 89
        },
        "outputId": "f0951865-27d8-4220-a3e5-897ebc446591"
      },
      "cell_type": "code",
      "source": [
        "print(f'Shape of X_train = {X_train.shape}')\n",
        "print(f'Shape of y_train = {y_train.shape}')\n",
        "print(f'Size of training set = {X_train.shape[0]}')\n",
        "print(f'Size of test set = {X_test.shape[0]}')"
      ],
      "execution_count": 27,
      "outputs": [
        {
          "output_type": "stream",
          "text": [
            "Shape of X_train = (60000, 28, 28)\n",
            "Shape of y_train = (60000,)\n",
            "Size of training set = 60000\n",
            "Size of test set = 10000\n"
          ],
          "name": "stdout"
        }
      ]
    },
    {
      "metadata": {
        "id": "dvyyw0aOkEmo",
        "colab_type": "code",
        "colab": {
          "base_uri": "https://localhost:8080/",
          "height": 35
        },
        "outputId": "b9cde6e0-1504-4bb0-85d3-6a815624a861"
      },
      "cell_type": "code",
      "source": [
        "y_train[0:10]"
      ],
      "execution_count": 28,
      "outputs": [
        {
          "output_type": "execute_result",
          "data": {
            "text/plain": [
              "array([5, 0, 4, 1, 9, 2, 1, 3, 1, 4], dtype=uint8)"
            ]
          },
          "metadata": {
            "tags": []
          },
          "execution_count": 28
        }
      ]
    },
    {
      "metadata": {
        "id": "zvZwThOikLoL",
        "colab_type": "code",
        "colab": {}
      },
      "cell_type": "code",
      "source": [
        "# size of flatten image\n",
        "img_size_flat = 28 * 28\n",
        "\n",
        "# shape of image\n",
        "img_shape = (28,28)\n",
        "\n",
        "# number of classes [0-9]\n",
        "num_classes = 10"
      ],
      "execution_count": 0,
      "outputs": []
    },
    {
      "metadata": {
        "id": "Sz0fMXV9lfVN",
        "colab_type": "text"
      },
      "cell_type": "markdown",
      "source": [
        "**One hot encoding the test and train labels**"
      ]
    },
    {
      "metadata": {
        "id": "bLgQr03lk8yd",
        "colab_type": "code",
        "colab": {}
      },
      "cell_type": "code",
      "source": [
        "y_train_encoded = np.eye(num_classes)[y_train] \n",
        "y_test_encoded = np.eye(num_classes)[y_test] "
      ],
      "execution_count": 0,
      "outputs": []
    },
    {
      "metadata": {
        "id": "K50sE5koly9A",
        "colab_type": "code",
        "colab": {
          "base_uri": "https://localhost:8080/",
          "height": 53
        },
        "outputId": "8518f521-eb80-4249-e9ca-b374dc314911"
      },
      "cell_type": "code",
      "source": [
        "print(f'Y_train_encoded shape = {y_train_encoded.shape}')\n",
        "print(f'Y_test_encoded shape = {y_test_encoded.shape}')"
      ],
      "execution_count": 31,
      "outputs": [
        {
          "output_type": "stream",
          "text": [
            "Y_train_encoded shape = (60000, 10)\n",
            "Y_test_encoded shape = (10000, 10)\n"
          ],
          "name": "stdout"
        }
      ]
    },
    {
      "metadata": {
        "id": "p0KxuqKEmJdg",
        "colab_type": "code",
        "colab": {
          "base_uri": "https://localhost:8080/",
          "height": 107
        },
        "outputId": "fc3151cb-08b0-4c74-fefe-f74d945d28bc"
      },
      "cell_type": "code",
      "source": [
        "y_train_encoded[0:5, :]"
      ],
      "execution_count": 32,
      "outputs": [
        {
          "output_type": "execute_result",
          "data": {
            "text/plain": [
              "array([[0., 0., 0., 0., 0., 1., 0., 0., 0., 0.],\n",
              "       [1., 0., 0., 0., 0., 0., 0., 0., 0., 0.],\n",
              "       [0., 0., 0., 0., 1., 0., 0., 0., 0., 0.],\n",
              "       [0., 1., 0., 0., 0., 0., 0., 0., 0., 0.],\n",
              "       [0., 0., 0., 0., 0., 0., 0., 0., 0., 1.]])"
            ]
          },
          "metadata": {
            "tags": []
          },
          "execution_count": 32
        }
      ]
    },
    {
      "metadata": {
        "id": "Dm3DAtKUmRkc",
        "colab_type": "code",
        "colab": {
          "base_uri": "https://localhost:8080/",
          "height": 35
        },
        "outputId": "9f039d04-87c9-4b44-f34d-6729784a3683"
      },
      "cell_type": "code",
      "source": [
        "y_train[0:5]"
      ],
      "execution_count": 33,
      "outputs": [
        {
          "output_type": "execute_result",
          "data": {
            "text/plain": [
              "array([5, 0, 4, 1, 9], dtype=uint8)"
            ]
          },
          "metadata": {
            "tags": []
          },
          "execution_count": 33
        }
      ]
    },
    {
      "metadata": {
        "id": "pTDdBajZmtqq",
        "colab_type": "text"
      },
      "cell_type": "markdown",
      "source": [
        "**Helper function for plotting images**"
      ]
    },
    {
      "metadata": {
        "id": "J_ZbV0MAmX4Z",
        "colab_type": "code",
        "colab": {}
      },
      "cell_type": "code",
      "source": [
        "def plot_images(images, cls_true, cls_pred=None):\n",
        "  assert len(images) == len(cls_true) == 9\n",
        "  \n",
        "  # Create figure with 3x3 sub-plots\n",
        "  f,ax = plt.subplots(3, 3)\n",
        "  f.subplots_adjust(hspace=0.3, wspace=0.3)\n",
        "  \n",
        "  for i, ax in enumerate(ax.flat):\n",
        "    # Plot image\n",
        "    ax.imshow(images[i].reshape(img_shape), cmap='binary')\n",
        "    \n",
        "    # Show true and predicted classes\n",
        "    if cls_pred is None:\n",
        "      xlabel = 'True: {0}'.format(cls_true[i])\n",
        "    else:\n",
        "      xlabel = 'True: {0}, Pred: {1}'.format(cls_true[i], cls_pred[i])\n",
        "    \n",
        "    # Show the classes as the label on the x-axis\n",
        "    ax.set_xlabel(xlabel)\n",
        "    \n",
        "    # Remove ticks from the plot\n",
        "    ax.set_xticks([])\n",
        "    ax.set_yticks([])\n",
        "    \n",
        "  # Ensure the plot is shown correctly with multiple plots\n",
        "  # in a single Notebook cell\n",
        "  plt.show()"
      ],
      "execution_count": 0,
      "outputs": []
    },
    {
      "metadata": {
        "id": "IBpXJBxjoDqT",
        "colab_type": "code",
        "colab": {
          "base_uri": "https://localhost:8080/",
          "height": 262
        },
        "outputId": "a5847275-6a2b-4b1a-aba9-950f958647a2"
      },
      "cell_type": "code",
      "source": [
        "images = X_train[0:9]\n",
        "cls_true = y_train[0:9]\n",
        "plot_images(images=images, cls_true=cls_true)"
      ],
      "execution_count": 35,
      "outputs": [
        {
          "output_type": "display_data",
          "data": {
            "image/png": "[encoded data removed]",
            "text/plain": [
              "<Figure size 432x288 with 9 Axes>"
            ]
          },
          "metadata": {
            "tags": []
          }
        }
      ]
    },
    {
      "metadata": {
        "id": "usWFMZgNpyA5",
        "colab_type": "text"
      },
      "cell_type": "markdown",
      "source": [
        "**Tensorflow Graph**\n",
        "\n",
        "A TensorFlow graph consists of the following parts which will be detailed below:\n",
        "\n",
        "  1. Placeholder variables used to feed input into the graph.\n",
        "  2. Model variables that are going to be optimized so as to make the model perform better.\n",
        "  3. The model which is essentially just a mathematical function that calculates some output given the input in the placeholder variables and the model variables.\n",
        "  4. A cost measure that can be used to guide the optimization of the variables.\n",
        "  5. An optimization method which updates the variables of the model."
      ]
    },
    {
      "metadata": {
        "id": "-AqVi-2vt0uQ",
        "colab_type": "text"
      },
      "cell_type": "markdown",
      "source": [
        "**1> Placeholder Variables**\n",
        "\n",
        "These serve as input to the tensor graph whose value may change"
      ]
    },
    {
      "metadata": {
        "id": "kiQmL62soS7c",
        "colab_type": "code",
        "colab": {}
      },
      "cell_type": "code",
      "source": [
        "# placeholder for input images\n",
        "x = tf.placeholder(tf.float32, [None, img_size_flat])\n",
        "# None is telling the tensor that this dimension is variable\n",
        "# As while training in batches any amount of input can be used\n",
        "# [None,784]"
      ],
      "execution_count": 0,
      "outputs": []
    },
    {
      "metadata": {
        "id": "LoZN-qhvoyAu",
        "colab_type": "code",
        "colab": {}
      },
      "cell_type": "code",
      "source": [
        "# placeholder for output variable\n",
        "y_true = tf.placeholder(tf.float32, [None, num_classes])\n",
        "# [None, 10]"
      ],
      "execution_count": 0,
      "outputs": []
    },
    {
      "metadata": {
        "id": "SSR5frT9o065",
        "colab_type": "code",
        "colab": {}
      },
      "cell_type": "code",
      "source": [
        "y_true_cls = tf.placeholder(tf.int64, [None])\n",
        "#This is a 1-d vector of true class labels"
      ],
      "execution_count": 0,
      "outputs": []
    },
    {
      "metadata": {
        "id": "Yijndx5qxCfC",
        "colab_type": "text"
      },
      "cell_type": "markdown",
      "source": [
        "**Variables to be optimised**"
      ]
    },
    {
      "metadata": {
        "id": "NUxWBCSDw_bD",
        "colab_type": "code",
        "colab": {}
      },
      "cell_type": "code",
      "source": [
        "weights = tf.Variable(tf.zeros([img_size_flat, num_classes]))\n",
        "biases = tf.Variable(tf.zeros([num_classes]))"
      ],
      "execution_count": 0,
      "outputs": []
    },
    {
      "metadata": {
        "id": "XVbI5TQZ0DFi",
        "colab_type": "text"
      },
      "cell_type": "markdown",
      "source": [
        "**Model**"
      ]
    },
    {
      "metadata": {
        "id": "hjs1BY4sy_KQ",
        "colab_type": "code",
        "colab": {}
      },
      "cell_type": "code",
      "source": [
        "# y = x * w + b\n",
        "\n",
        "logits = tf.matmul(x, weights) + biases"
      ],
      "execution_count": 0,
      "outputs": []
    },
    {
      "metadata": {
        "id": "QxMZuIQ-0YfT",
        "colab_type": "code",
        "colab": {}
      },
      "cell_type": "code",
      "source": [
        "# it is a way of normalising by making sum of inputs = 1\n",
        "y_pred = tf.nn.softmax(logits)"
      ],
      "execution_count": 0,
      "outputs": []
    },
    {
      "metadata": {
        "id": "CWJT2bJOIebT",
        "colab_type": "code",
        "colab": {}
      },
      "cell_type": "code",
      "source": [
        "# finding the maximum score in logits array\n",
        "y_pred_cls = tf.argmax(y_pred, axis=1)"
      ],
      "execution_count": 0,
      "outputs": []
    },
    {
      "metadata": {
        "id": "752X9hC1I2Im",
        "colab_type": "text"
      },
      "cell_type": "markdown",
      "source": [
        "**Cost function to be optimized**\n",
        "\n",
        "\n",
        "To make the model better at classifying the input images, we must somehow change the variables for weights and biases. To do this we first need to know how well the model currently performs by comparing the predicted output of the model y_pred to the desired output y_true.\n",
        "\n",
        "The cross-entropy is a performance measure used in classification. The cross-entropy is a continuous function that is always positive and if the predicted output of the model exactly matches the desired output then the cross-entropy equals zero. The goal of optimization is therefore to minimize the cross-entropy so it gets as close to zero as possible by changing the weights and biases of the model.\n",
        "\n",
        "TensorFlow has a built-in function for calculating the cross-entropy. Note that it uses the values of the logits because it also calculates the softmax internally."
      ]
    },
    {
      "metadata": {
        "id": "V7RYgrS_IowL",
        "colab_type": "code",
        "colab": {}
      },
      "cell_type": "code",
      "source": [
        "cross_entropy = tf.nn.softmax_cross_entropy_with_logits_v2(logits=logits,\n",
        "                                                           labels=y_true)"
      ],
      "execution_count": 0,
      "outputs": []
    },
    {
      "metadata": {
        "id": "lKbCvZHfKLwx",
        "colab_type": "text"
      },
      "cell_type": "markdown",
      "source": [
        "We have now calculated the cross-entropy for each of the image classifications so we have a measure of how well the model performs on each image individually. But in order to use the cross-entropy to guide the optimization of the model's variables we need a single scalar value, so we simply take the average of the cross-entropy for all the image classifications"
      ]
    },
    {
      "metadata": {
        "id": "O57R6cJrJ5zl",
        "colab_type": "code",
        "colab": {}
      },
      "cell_type": "code",
      "source": [
        "cost = tf.reduce_mean(cross_entropy)"
      ],
      "execution_count": 0,
      "outputs": []
    },
    {
      "metadata": {
        "id": "VW8M_LVOKaCB",
        "colab_type": "text"
      },
      "cell_type": "markdown",
      "source": [
        "**Optimization**\n",
        "\n",
        "Now that we have a cost measure that must be minimized, we can then create an optimizer. In this case it is the basic form of Gradient Descent where the step-size is set to 0.5.\n",
        "\n",
        "Note that optimization is not performed at this point. In fact, nothing is calculated at all, we just add the optimizer-object to the TensorFlow graph for later execution."
      ]
    },
    {
      "metadata": {
        "id": "XEYRZAUnKi1X",
        "colab_type": "code",
        "colab": {}
      },
      "cell_type": "code",
      "source": [
        "optimizer = tf.train.GradientDescentOptimizer(learning_rate=0.5).minimize(cost)"
      ],
      "execution_count": 0,
      "outputs": []
    },
    {
      "metadata": {
        "id": "HXC_TiyqLEu1",
        "colab_type": "text"
      },
      "cell_type": "markdown",
      "source": [
        "**Performance Measures**"
      ]
    },
    {
      "metadata": {
        "id": "vE-yrgT3K4Jv",
        "colab_type": "code",
        "colab": {}
      },
      "cell_type": "code",
      "source": [
        "correct_prediction = tf.equal(y_pred_cls, y_true_cls)"
      ],
      "execution_count": 0,
      "outputs": []
    },
    {
      "metadata": {
        "id": "GZgXnadvL7EF",
        "colab_type": "code",
        "colab": {}
      },
      "cell_type": "code",
      "source": [
        "accuracy = tf.reduce_mean(tf.cast(correct_prediction, tf.float32))"
      ],
      "execution_count": 0,
      "outputs": []
    },
    {
      "metadata": {
        "id": "_m2Vo8HxMIMp",
        "colab_type": "text"
      },
      "cell_type": "markdown",
      "source": [
        "**Running the tensorflow**"
      ]
    },
    {
      "metadata": {
        "id": "5G_QX2MmMMWc",
        "colab_type": "code",
        "colab": {}
      },
      "cell_type": "code",
      "source": [
        "# Running the tensorflow graph in a tensorflow session\n",
        "session = tf.Session()"
      ],
      "execution_count": 0,
      "outputs": []
    },
    {
      "metadata": {
        "id": "S_4ldjnyMWm6",
        "colab_type": "text"
      },
      "cell_type": "markdown",
      "source": [
        "**Initialize variables**"
      ]
    },
    {
      "metadata": {
        "id": "XMEJGWS3MVFm",
        "colab_type": "code",
        "colab": {}
      },
      "cell_type": "code",
      "source": [
        "# variables weights and biases must be initialised before optimization\n",
        "session.run(tf.global_variables_initializer())"
      ],
      "execution_count": 0,
      "outputs": []
    },
    {
      "metadata": {
        "id": "vO0vHWXdMpEH",
        "colab_type": "text"
      },
      "cell_type": "markdown",
      "source": [
        "**Helper function to get train in batches**"
      ]
    },
    {
      "metadata": {
        "id": "7P80C37kM55k",
        "colab_type": "code",
        "colab": {}
      },
      "cell_type": "code",
      "source": [
        "train_batch_size = 100"
      ],
      "execution_count": 0,
      "outputs": []
    },
    {
      "metadata": {
        "id": "RlumY7BgMkp0",
        "colab_type": "code",
        "colab": {}
      },
      "cell_type": "code",
      "source": [
        "\n",
        "# Helper function for getting batch size\n",
        "def next_batch(num, data, labels):\n",
        "    '''\n",
        "    Return a total of `num` random samples and labels. \n",
        "    '''\n",
        "    idx = np.arange(0 , len(data))\n",
        "    np.random.shuffle(idx)\n",
        "    idx = idx[:num]\n",
        "    data_shuffle = [data[ i] for i in idx]\n",
        "    labels_shuffle = [labels[ i] for i in idx]\n",
        "\n",
        "    return np.asarray(data_shuffle), np.asarray(labels_shuffle)"
      ],
      "execution_count": 0,
      "outputs": []
    },
    {
      "metadata": {
        "id": "o1aaFPh2NfUW",
        "colab_type": "text"
      },
      "cell_type": "markdown",
      "source": [
        "**Helper function for optimization iterations**"
      ]
    },
    {
      "metadata": {
        "id": "-dGc1fnmNaej",
        "colab_type": "code",
        "colab": {}
      },
      "cell_type": "code",
      "source": [
        "def optimize(num_iterations):\n",
        "  for i in range(num_iterations):\n",
        "    #get batch\n",
        "    x_batch, y_true_batch = next_batch(num = train_batch_size,\n",
        "                                       data = X_train,\n",
        "                                       labels = y_train_encoded)\n",
        "    #setting placeholder values\n",
        "    feed_dict_train = {\n",
        "        x : x_batch.reshape(-1,784),\n",
        "        y_true: y_true_batch\n",
        "    }\n",
        "    \n",
        "    #running optimizer\n",
        "    session.run(optimizer, feed_dict=feed_dict_train)\n",
        "    if(i%100==0):\n",
        "      print_accuracy()"
      ],
      "execution_count": 0,
      "outputs": []
    },
    {
      "metadata": {
        "id": "mhJTmKsmPWZB",
        "colab_type": "text"
      },
      "cell_type": "markdown",
      "source": [
        "**Helper function to show performance**"
      ]
    },
    {
      "metadata": {
        "id": "SBiChqBaPbUj",
        "colab_type": "code",
        "colab": {}
      },
      "cell_type": "code",
      "source": [
        "feed_dict_test = {\n",
        "    x: X_test.reshape(-1,784),\n",
        "    y_true: y_test_encoded,\n",
        "    y_true_cls: y_test\n",
        "}"
      ],
      "execution_count": 0,
      "outputs": []
    },
    {
      "metadata": {
        "id": "Oo_kAwIfPrGT",
        "colab_type": "code",
        "colab": {}
      },
      "cell_type": "code",
      "source": [
        "def print_accuracy():\n",
        "  acc = session.run(accuracy, feed_dict=feed_dict_test)\n",
        "  print(\"Accuracy on test-set: {0:.1%}\".format(acc))"
      ],
      "execution_count": 0,
      "outputs": []
    },
    {
      "metadata": {
        "id": "RK8oP5HdQCt_",
        "colab_type": "code",
        "colab": {}
      },
      "cell_type": "code",
      "source": [
        "def print_confusion_matrix():\n",
        "    # Get the true classifications for the test-set.\n",
        "    cls_true = y_test\n",
        "    \n",
        "    # Get the predicted classifications for the test-set.\n",
        "    cls_pred = session.run(y_pred_cls, feed_dict=feed_dict_test)\n",
        "\n",
        "    # Get the confusion matrix using sklearn.\n",
        "    cm = confusion_matrix(y_true=cls_true,\n",
        "                          y_pred=cls_pred)\n",
        "\n",
        "    # Print the confusion matrix as text.\n",
        "    print(cm)\n",
        "\n",
        "    # Plot the confusion matrix as an image.\n",
        "    plt.imshow(cm, interpolation='nearest', cmap=plt.cm.Blues)\n",
        "\n",
        "    # Make various adjustments to the plot.\n",
        "    plt.tight_layout()\n",
        "    plt.colorbar()\n",
        "    tick_marks = np.arange(num_classes)\n",
        "    plt.xticks(tick_marks, range(num_classes))\n",
        "    plt.yticks(tick_marks, range(num_classes))\n",
        "    plt.xlabel('Predicted')\n",
        "    plt.ylabel('True')\n",
        "    \n",
        "    # Ensure the plot is shown correctly with multiple plots\n",
        "    # in a single Notebook cell.\n",
        "    plt.show()"
      ],
      "execution_count": 0,
      "outputs": []
    },
    {
      "metadata": {
        "id": "8fUYrzNAQitJ",
        "colab_type": "code",
        "colab": {}
      },
      "cell_type": "code",
      "source": [
        "def plot_example_errors():\n",
        "    # Use TensorFlow to get a list of boolean values\n",
        "    # whether each test-image has been correctly classified,\n",
        "    # and a list for the predicted class of each image.\n",
        "    correct, cls_pred = session.run([correct_prediction, y_pred_cls],\n",
        "                                    feed_dict=feed_dict_test)\n",
        "\n",
        "    # Negate the boolean array.\n",
        "    incorrect = (correct == False)\n",
        "    \n",
        "    # Get the images from the test-set that have been\n",
        "    # incorrectly classified.\n",
        "    images = X_test[incorrect]\n",
        "    \n",
        "    # Get the predicted classes for those images.\n",
        "    cls_pred = cls_pred[incorrect]\n",
        "\n",
        "    # Get the true classes for those images.\n",
        "    cls_true = y_test[incorrect]\n",
        "    \n",
        "    # Plot the first 9 images.\n",
        "    plot_images(images=images[0:9],\n",
        "                cls_true=cls_true[0:9],\n",
        "                cls_pred=cls_pred[0:9])"
      ],
      "execution_count": 0,
      "outputs": []
    },
    {
      "metadata": {
        "id": "ll5OF8NxRa77",
        "colab_type": "code",
        "colab": {
          "base_uri": "https://localhost:8080/",
          "height": 35
        },
        "outputId": "becc0394-d05a-41e0-f075-d74c7c39cee9"
      },
      "cell_type": "code",
      "source": [
        "print_accuracy()"
      ],
      "execution_count": 58,
      "outputs": [
        {
          "output_type": "stream",
          "text": [
            "Accuracy on test-set: 9.8%\n"
          ],
          "name": "stdout"
        }
      ]
    },
    {
      "metadata": {
        "id": "zOf5Rb6uRf4c",
        "colab_type": "code",
        "colab": {
          "base_uri": "https://localhost:8080/",
          "height": 262
        },
        "outputId": "6d8c5847-3306-4d37-e0d7-3741d1175d16"
      },
      "cell_type": "code",
      "source": [
        "plot_example_errors()"
      ],
      "execution_count": 59,
      "outputs": [
        {
          "output_type": "display_data",
          "data": {
            "image/png": "[encoded data removed]",
            "text/plain": [
              "<Figure size 432x288 with 9 Axes>"
            ]
          },
          "metadata": {
            "tags": []
          }
        }
      ]
    },
    {
      "metadata": {
        "id": "mf5ExbdVRjkt",
        "colab_type": "code",
        "colab": {}
      },
      "cell_type": "code",
      "source": [
        "#optimisation after one iteration\n",
        "optimize(1)"
      ],
      "execution_count": 0,
      "outputs": []
    },
    {
      "metadata": {
        "id": "ULr-touRRyME",
        "colab_type": "code",
        "colab": {
          "base_uri": "https://localhost:8080/",
          "height": 35
        },
        "outputId": "92a54a3e-6586-4f15-d559-0c0f1a231ae8"
      },
      "cell_type": "code",
      "source": [
        "print_accuracy()"
      ],
      "execution_count": 63,
      "outputs": [
        {
          "output_type": "stream",
          "text": [
            "Accuracy on test-set: 33.4%\n"
          ],
          "name": "stdout"
        }
      ]
    },
    {
      "metadata": {
        "id": "zNgTanJTR-Qm",
        "colab_type": "code",
        "colab": {
          "base_uri": "https://localhost:8080/",
          "height": 262
        },
        "outputId": "ad40f76a-193e-4152-bca6-23ecbd4f192a"
      },
      "cell_type": "code",
      "source": [
        "plot_example_errors()"
      ],
      "execution_count": 64,
      "outputs": [
        {
          "output_type": "display_data",
          "data": {
            "image/png": "[encoded data removed]",
            "text/plain": [
              "<Figure size 432x288 with 9 Axes>"
            ]
          },
          "metadata": {
            "tags": []
          }
        }
      ]
    },
    {
      "metadata": {
        "id": "kokwxZn4SCee",
        "colab_type": "code",
        "colab": {}
      },
      "cell_type": "code",
      "source": [
        "optimize(100)"
      ],
      "execution_count": 0,
      "outputs": []
    },
    {
      "metadata": {
        "id": "C5zB3YsjSKVC",
        "colab_type": "code",
        "colab": {
          "base_uri": "https://localhost:8080/",
          "height": 35
        },
        "outputId": "3327135f-96e8-4245-cb4d-39c34dc2b58f"
      },
      "cell_type": "code",
      "source": [
        "print_accuracy()"
      ],
      "execution_count": 66,
      "outputs": [
        {
          "output_type": "stream",
          "text": [
            "Accuracy on test-set: 85.5%\n"
          ],
          "name": "stdout"
        }
      ]
    },
    {
      "metadata": {
        "id": "jl5T-wloSM5M",
        "colab_type": "code",
        "colab": {
          "base_uri": "https://localhost:8080/",
          "height": 197
        },
        "outputId": "83430fa5-aa76-4e9e-b4aa-e7b41cf1bacc"
      },
      "cell_type": "code",
      "source": [
        "optimize(1000)"
      ],
      "execution_count": 68,
      "outputs": [
        {
          "output_type": "stream",
          "text": [
            "Accuracy on test-set: 84.4%\n",
            "Accuracy on test-set: 83.7%\n",
            "Accuracy on test-set: 86.5%\n",
            "Accuracy on test-set: 85.0%\n",
            "Accuracy on test-set: 86.6%\n",
            "Accuracy on test-set: 90.0%\n",
            "Accuracy on test-set: 81.2%\n",
            "Accuracy on test-set: 81.1%\n",
            "Accuracy on test-set: 88.1%\n",
            "Accuracy on test-set: 88.5%\n"
          ],
          "name": "stdout"
        }
      ]
    },
    {
      "metadata": {
        "id": "hYVT1RD6SpPU",
        "colab_type": "code",
        "colab": {
          "base_uri": "https://localhost:8080/",
          "height": 1817
        },
        "outputId": "078a9864-9977-4435-802b-fd0ce3f3c0e7"
      },
      "cell_type": "code",
      "source": [
        "optimize(10000)"
      ],
      "execution_count": 69,
      "outputs": [
        {
          "output_type": "stream",
          "text": [
            "Accuracy on test-set: 88.7%\n",
            "Accuracy on test-set: 86.4%\n",
            "Accuracy on test-set: 86.8%\n",
            "Accuracy on test-set: 89.1%\n",
            "Accuracy on test-set: 86.7%\n",
            "Accuracy on test-set: 86.4%\n",
            "Accuracy on test-set: 89.0%\n",
            "Accuracy on test-set: 76.0%\n",
            "Accuracy on test-set: 88.7%\n",
            "Accuracy on test-set: 88.6%\n",
            "Accuracy on test-set: 87.4%\n",
            "Accuracy on test-set: 88.5%\n",
            "Accuracy on test-set: 90.4%\n",
            "Accuracy on test-set: 89.2%\n",
            "Accuracy on test-set: 89.6%\n",
            "Accuracy on test-set: 86.9%\n",
            "Accuracy on test-set: 90.6%\n",
            "Accuracy on test-set: 88.4%\n",
            "Accuracy on test-set: 87.9%\n",
            "Accuracy on test-set: 85.1%\n",
            "Accuracy on test-set: 89.8%\n",
            "Accuracy on test-set: 86.8%\n",
            "Accuracy on test-set: 90.9%\n",
            "Accuracy on test-set: 89.0%\n",
            "Accuracy on test-set: 90.5%\n",
            "Accuracy on test-set: 75.8%\n",
            "Accuracy on test-set: 85.4%\n",
            "Accuracy on test-set: 80.2%\n",
            "Accuracy on test-set: 88.1%\n",
            "Accuracy on test-set: 89.5%\n",
            "Accuracy on test-set: 89.5%\n",
            "Accuracy on test-set: 87.1%\n",
            "Accuracy on test-set: 89.3%\n",
            "Accuracy on test-set: 89.1%\n",
            "Accuracy on test-set: 89.4%\n",
            "Accuracy on test-set: 90.1%\n",
            "Accuracy on test-set: 90.3%\n",
            "Accuracy on test-set: 85.8%\n",
            "Accuracy on test-set: 87.8%\n",
            "Accuracy on test-set: 90.3%\n",
            "Accuracy on test-set: 88.6%\n",
            "Accuracy on test-set: 83.8%\n",
            "Accuracy on test-set: 89.4%\n",
            "Accuracy on test-set: 88.6%\n",
            "Accuracy on test-set: 90.4%\n",
            "Accuracy on test-set: 88.1%\n",
            "Accuracy on test-set: 90.4%\n",
            "Accuracy on test-set: 89.0%\n",
            "Accuracy on test-set: 90.8%\n",
            "Accuracy on test-set: 89.5%\n",
            "Accuracy on test-set: 83.4%\n",
            "Accuracy on test-set: 90.4%\n",
            "Accuracy on test-set: 89.7%\n",
            "Accuracy on test-set: 89.6%\n",
            "Accuracy on test-set: 90.7%\n",
            "Accuracy on test-set: 89.7%\n",
            "Accuracy on test-set: 88.0%\n",
            "Accuracy on test-set: 90.3%\n",
            "Accuracy on test-set: 88.8%\n",
            "Accuracy on test-set: 88.9%\n",
            "Accuracy on test-set: 85.0%\n",
            "Accuracy on test-set: 90.6%\n",
            "Accuracy on test-set: 88.5%\n",
            "Accuracy on test-set: 89.8%\n",
            "Accuracy on test-set: 88.6%\n",
            "Accuracy on test-set: 89.3%\n",
            "Accuracy on test-set: 77.9%\n",
            "Accuracy on test-set: 90.9%\n",
            "Accuracy on test-set: 87.4%\n",
            "Accuracy on test-set: 90.4%\n",
            "Accuracy on test-set: 84.9%\n",
            "Accuracy on test-set: 84.2%\n",
            "Accuracy on test-set: 87.7%\n",
            "Accuracy on test-set: 88.7%\n",
            "Accuracy on test-set: 89.3%\n",
            "Accuracy on test-set: 88.2%\n",
            "Accuracy on test-set: 87.7%\n",
            "Accuracy on test-set: 90.2%\n",
            "Accuracy on test-set: 87.6%\n",
            "Accuracy on test-set: 89.7%\n",
            "Accuracy on test-set: 89.0%\n",
            "Accuracy on test-set: 72.2%\n",
            "Accuracy on test-set: 88.4%\n",
            "Accuracy on test-set: 85.9%\n",
            "Accuracy on test-set: 82.3%\n",
            "Accuracy on test-set: 91.1%\n",
            "Accuracy on test-set: 89.5%\n",
            "Accuracy on test-set: 86.7%\n",
            "Accuracy on test-set: 87.6%\n",
            "Accuracy on test-set: 90.4%\n",
            "Accuracy on test-set: 90.3%\n",
            "Accuracy on test-set: 86.6%\n",
            "Accuracy on test-set: 90.2%\n",
            "Accuracy on test-set: 87.7%\n",
            "Accuracy on test-set: 81.9%\n",
            "Accuracy on test-set: 85.5%\n",
            "Accuracy on test-set: 89.7%\n",
            "Accuracy on test-set: 90.4%\n",
            "Accuracy on test-set: 87.7%\n",
            "Accuracy on test-set: 89.9%\n"
          ],
          "name": "stdout"
        }
      ]
    },
    {
      "metadata": {
        "id": "UG45ITycSwsz",
        "colab_type": "code",
        "colab": {
          "base_uri": "https://localhost:8080/",
          "height": 35
        },
        "outputId": "9bf5c832-95c2-4465-90b9-4c4abd5a5125"
      },
      "cell_type": "code",
      "source": [
        "print_accuracy()"
      ],
      "execution_count": 70,
      "outputs": [
        {
          "output_type": "stream",
          "text": [
            "Accuracy on test-set: 90.0%\n"
          ],
          "name": "stdout"
        }
      ]
    },
    {
      "metadata": {
        "id": "DjCRq0fjS-uN",
        "colab_type": "code",
        "colab": {
          "base_uri": "https://localhost:8080/",
          "height": 491
        },
        "outputId": "0a1d9d23-f584-4be2-a9d2-7b3a327cb176"
      },
      "cell_type": "code",
      "source": [
        "print_confusion_matrix()"
      ],
      "execution_count": 71,
      "outputs": [
        {
          "output_type": "stream",
          "text": [
            "[[ 932    0    3    1    4    4   15    7   13    1]\n",
            " [   0 1102   10    0    0    1    2    2   18    0]\n",
            " [   4    5  949    4    9    1   14   14   29    3]\n",
            " [   6    2   64  763    2   81    6   25   51   10]\n",
            " [   1    2   13    1  901    0   10    9   10   35]\n",
            " [   8    5   18   12   14  737   23   10   59    6]\n",
            " [   6    2   12    1    4   11  916    2    4    0]\n",
            " [   0    6   30    2    9    1    0  943    4   33]\n",
            " [   2    9   40    8   12   13   12   16  845   17]\n",
            " [   4    8    2    5   31    6    3   27   13  910]]\n"
          ],
          "name": "stdout"
        },
        {
          "output_type": "display_data",
          "data": {
            "image/png": "[encoded data removed]",
            "text/plain": [
              "<Figure size 432x288 with 2 Axes>"
            ]
          },
          "metadata": {
            "tags": []
          }
        }
      ]
    },
    {
      "metadata": {
        "id": "FZHr4n9YTFNs",
        "colab_type": "code",
        "colab": {}
      },
      "cell_type": "code",
      "source": [
        ""
      ],
      "execution_count": 0,
      "outputs": []
    }
  ]
}