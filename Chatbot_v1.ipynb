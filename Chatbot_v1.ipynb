{
  "nbformat": 4,
  "nbformat_minor": 0,
  "metadata": {
    "colab": {
      "name": "Chatbot_v1.ipynb",
      "version": "0.3.2",
      "provenance": [],
      "collapsed_sections": [
        "1TmO_-FE4ivf"
      ],
      "toc_visible": true,
      "machine_shape": "hm",
      "include_colab_link": true
    },
    "kernelspec": {
      "name": "python3",
      "display_name": "Python 3"
    },
    "accelerator": "GPU"
  },
  "cells": [
    {
      "cell_type": "markdown",
      "metadata": {
        "id": "view-in-github",
        "colab_type": "text"
      },
      "source": [
        "<a href=\"https://colab.research.google.com/github/Piyush01Bhatt/Deep-Learning/blob/master/Chatbot_v1.ipynb\" target=\"_parent\"><img src=\"https://colab.research.google.com/assets/colab-badge.svg\" alt=\"Open In Colab\"/></a>"
      ]
    },
    {
      "cell_type": "code",
      "metadata": {
        "id": "aWPiI2DEAmt-",
        "colab_type": "code",
        "outputId": "9e9507c1-ad09-4d57-a7b2-92e74e261e34",
        "colab": {
          "base_uri": "https://localhost:8080/",
          "height": 204
        }
      },
      "source": [
        "!wget http://www.cs.cornell.edu/~cristian/data/cornell_movie_dialogs_corpus.zip -O /tmp/movie_dialogs.zip"
      ],
      "execution_count": 1,
      "outputs": [
        {
          "output_type": "stream",
          "text": [
            "--2019-08-24 11:47:46--  http://www.cs.cornell.edu/~cristian/data/cornell_movie_dialogs_corpus.zip\n",
            "Resolving www.cs.cornell.edu (www.cs.cornell.edu)... 132.236.207.20\n",
            "Connecting to www.cs.cornell.edu (www.cs.cornell.edu)|132.236.207.20|:80... connected.\n",
            "HTTP request sent, awaiting response... 200 OK\n",
            "Length: 9916637 (9.5M) [application/zip]\n",
            "Saving to: ‘/tmp/movie_dialogs.zip’\n",
            "\n",
            "/tmp/movie_dialogs. 100%[===================>]   9.46M  3.46MB/s    in 2.7s    \n",
            "\n",
            "2019-08-24 11:47:49 (3.46 MB/s) - ‘/tmp/movie_dialogs.zip’ saved [9916637/9916637]\n",
            "\n"
          ],
          "name": "stdout"
        }
      ]
    },
    {
      "cell_type": "code",
      "metadata": {
        "id": "ceRZ9QTSB4C2",
        "colab_type": "code",
        "colab": {}
      },
      "source": [
        "import zipfile\n",
        "with zipfile.ZipFile(\"/tmp/movie_dialogs.zip\",\"r\") as zip_ref:\n",
        "    zip_ref.extractall(\"/tmp/movie_dialogs\")"
      ],
      "execution_count": 0,
      "outputs": []
    },
    {
      "cell_type": "code",
      "metadata": {
        "id": "_ijPQxXcCWWU",
        "colab_type": "code",
        "outputId": "ff9e273b-dbe6-4a81-ca2e-a67076196d17",
        "colab": {
          "base_uri": "https://localhost:8080/",
          "height": 68
        }
      },
      "source": [
        "pip install -q tensorflow-gpu==2.0.0-beta1"
      ],
      "execution_count": 3,
      "outputs": [
        {
          "output_type": "stream",
          "text": [
            "\u001b[K     |████████████████████████████████| 348.9MB 118kB/s \n",
            "\u001b[K     |████████████████████████████████| 3.1MB 39.1MB/s \n",
            "\u001b[K     |████████████████████████████████| 501kB 48.2MB/s \n",
            "\u001b[?25h"
          ],
          "name": "stdout"
        }
      ]
    },
    {
      "cell_type": "code",
      "metadata": {
        "id": "QZy3w0pDDspd",
        "colab_type": "code",
        "outputId": "9af2d336-ba66-46ac-c295-d2006f2d3160",
        "colab": {
          "base_uri": "https://localhost:8080/",
          "height": 34
        }
      },
      "source": [
        "import tensorflow as tf\n",
        "import numpy as np\n",
        "import re\n",
        "import time\n",
        "import os\n",
        "print(tf.__version__)"
      ],
      "execution_count": 4,
      "outputs": [
        {
          "output_type": "stream",
          "text": [
            "2.0.0-beta1\n"
          ],
          "name": "stdout"
        }
      ]
    },
    {
      "cell_type": "code",
      "metadata": {
        "id": "d7u6sGFuEHMf",
        "colab_type": "code",
        "colab": {}
      },
      "source": [
        "lines = open('/tmp/movie_dialogs/cornell movie-dialogs corpus/movie_lines.txt',\n",
        "            encoding = 'utf-8', errors='ignore').read().split('\\n')\n",
        "conversations = open('/tmp/movie_dialogs/cornell movie-dialogs corpus/movie_conversations.txt',\n",
        "            encoding = 'utf-8', errors='ignore').read().split('\\n')"
      ],
      "execution_count": 0,
      "outputs": []
    },
    {
      "cell_type": "code",
      "metadata": {
        "id": "C1MvTjFhcUk1",
        "colab_type": "code",
        "outputId": "fb718d7e-d080-4bc4-808c-1d53db2386a8",
        "colab": {
          "base_uri": "https://localhost:8080/",
          "height": 51
        }
      },
      "source": [
        "print(lines[0])\n",
        "print(conversations[0])"
      ],
      "execution_count": 6,
      "outputs": [
        {
          "output_type": "stream",
          "text": [
            "L1045 +++$+++ u0 +++$+++ m0 +++$+++ BIANCA +++$+++ They do not!\n",
            "u0 +++$+++ u2 +++$+++ m0 +++$+++ ['L194', 'L195', 'L196', 'L197']\n"
          ],
          "name": "stdout"
        }
      ]
    },
    {
      "cell_type": "code",
      "metadata": {
        "id": "JNBdhijRcog_",
        "colab_type": "code",
        "colab": {}
      },
      "source": [
        "# Creating a dictionary that maps each line and its id\n",
        "id2line = {}\n",
        "for line in lines:\n",
        "  _line = line.split(' +++$+++ ')\n",
        "  if len(_line) == 5:\n",
        "    id2line[_line[0]] = _line[4]"
      ],
      "execution_count": 0,
      "outputs": []
    },
    {
      "cell_type": "code",
      "metadata": {
        "id": "OJP8QOxedPRT",
        "colab_type": "code",
        "colab": {}
      },
      "source": [
        "# Creating a list of all of the conversations\n",
        "conversations_ids = []\n",
        "for conversation in conversations[:-1]:\n",
        "  _conversation = conversation.split(' +++$+++ ')[-1][1:-1].replace(\"'\", \"\").replace(\" \",\"\")\n",
        "  conversations_ids.append(_conversation.split(','))"
      ],
      "execution_count": 0,
      "outputs": []
    },
    {
      "cell_type": "code",
      "metadata": {
        "id": "X7UpXBWsfEDg",
        "colab_type": "code",
        "outputId": "8117cadf-4dcb-4eb7-f28e-3fdb7a981ba3",
        "colab": {
          "base_uri": "https://localhost:8080/",
          "height": 51
        }
      },
      "source": [
        "print(id2line['L1045'])\n",
        "print(conversations_ids[0])"
      ],
      "execution_count": 9,
      "outputs": [
        {
          "output_type": "stream",
          "text": [
            "They do not!\n",
            "['L194', 'L195', 'L196', 'L197']\n"
          ],
          "name": "stdout"
        }
      ]
    },
    {
      "cell_type": "code",
      "metadata": {
        "id": "1I5EA19KfuJP",
        "colab_type": "code",
        "colab": {}
      },
      "source": [
        "questions = []\n",
        "answers = []\n",
        "\n",
        "for ids in conversations_ids:\n",
        "  for i in range(len(ids)-1):\n",
        "    questions.append(id2line[ids[i]])\n",
        "    answers.append(id2line[ids[i+1]])\n",
        "    "
      ],
      "execution_count": 0,
      "outputs": []
    },
    {
      "cell_type": "code",
      "metadata": {
        "id": "o0T0ouuWiN-z",
        "colab_type": "code",
        "outputId": "ed3634d8-a9d3-4c14-cbc1-3bb216c9b74a",
        "colab": {
          "base_uri": "https://localhost:8080/",
          "height": 105
        }
      },
      "source": [
        "print(f'questions: \\n {questions[:5]}')\n",
        "print(f'answers: \\n {answers[:5]}')"
      ],
      "execution_count": 11,
      "outputs": [
        {
          "output_type": "stream",
          "text": [
            "questions: \n",
            " ['Can we make this quick?  Roxanne Korrine and Andrew Barrett are having an incredibly horrendous public break- up on the quad.  Again.', \"Well, I thought we'd start with pronunciation, if that's okay with you.\", 'Not the hacking and gagging and spitting part.  Please.', \"You're asking me out.  That's so cute. What's your name again?\", \"No, no, it's my fault -- we didn't have a proper introduction ---\"]\n",
            "answers: \n",
            " [\"Well, I thought we'd start with pronunciation, if that's okay with you.\", 'Not the hacking and gagging and spitting part.  Please.', \"Okay... then how 'bout we try out some French cuisine.  Saturday?  Night?\", 'Forget it.', 'Cameron.']\n"
          ],
          "name": "stdout"
        }
      ]
    },
    {
      "cell_type": "markdown",
      "metadata": {
        "id": "RwsRDy8VowI4",
        "colab_type": "text"
      },
      "source": [
        "#**EDA**"
      ]
    },
    {
      "cell_type": "code",
      "metadata": {
        "id": "V3rE7y2Mpukq",
        "colab_type": "code",
        "colab": {}
      },
      "source": [
        "from textblob import TextBlob\n",
        "import matplotlib.pyplot as plt\n",
        "import seaborn as sns"
      ],
      "execution_count": 0,
      "outputs": []
    },
    {
      "cell_type": "code",
      "metadata": {
        "id": "OtNSwxyBi94N",
        "colab_type": "code",
        "colab": {}
      },
      "source": [
        "lengths_of_questions = [len(text) for text in questions]\n",
        "lengths_of_answers = [len(text) for text in answers]\n",
        "polarity_questions = [TextBlob(text).sentiment.polarity for text in questions]\n",
        "polarity_answers = [TextBlob(text).sentiment.polarity for text in answers]\n",
        "wordcount_questions = [len(text.split(\" \")) for text in questions]\n",
        "wordcount_answers = [len(text.split(\" \")) for text in answers]"
      ],
      "execution_count": 0,
      "outputs": []
    },
    {
      "cell_type": "code",
      "metadata": {
        "id": "90T1vEQr17db",
        "colab_type": "code",
        "colab": {}
      },
      "source": [
        "wordcount_questions = np.array(wordcount_questions)\n",
        "wordcount_answers = np.array(wordcount_answers)"
      ],
      "execution_count": 0,
      "outputs": []
    },
    {
      "cell_type": "code",
      "metadata": {
        "id": "NQ2WARdB2Q6v",
        "colab_type": "code",
        "colab": {
          "base_uri": "https://localhost:8080/",
          "height": 51
        },
        "outputId": "50b830f4-52b0-409b-cb79-aecd8aaa8985"
      },
      "source": [
        "print(f'Number of sentences with len>250 {len(wordcount_questions[wordcount_questions>250])}')\n",
        "print(f'Number of sentences with len<250 {len(wordcount_questions[wordcount_questions<250])}')"
      ],
      "execution_count": 15,
      "outputs": [
        {
          "output_type": "stream",
          "text": [
            "Number of sentences with len>250 8\n",
            "Number of sentences with len<250 221608\n"
          ],
          "name": "stdout"
        }
      ]
    },
    {
      "cell_type": "code",
      "metadata": {
        "id": "PXHLCA-r22r0",
        "colab_type": "code",
        "colab": {
          "base_uri": "https://localhost:8080/",
          "height": 51
        },
        "outputId": "1ebe6279-f4ca-4125-c5bc-8dbed2f80a61"
      },
      "source": [
        "print(f'Number of answers with len>250 {len(wordcount_answers[wordcount_answers>250])}')\n",
        "print(f'Number of answers with len<250 {len(wordcount_answers[wordcount_answers<250])}')"
      ],
      "execution_count": 16,
      "outputs": [
        {
          "output_type": "stream",
          "text": [
            "Number of answers with len>250 18\n",
            "Number of answers with len<250 221598\n"
          ],
          "name": "stdout"
        }
      ]
    },
    {
      "cell_type": "code",
      "metadata": {
        "id": "F4GdOH7_3JyP",
        "colab_type": "code",
        "colab": {
          "base_uri": "https://localhost:8080/",
          "height": 51
        },
        "outputId": "d77a951f-0104-4fd3-ac3d-476ba6b05596"
      },
      "source": [
        "print(f'max len of questions = {max(wordcount_questions)}')\n",
        "print(f'max len of answers = {max(wordcount_answers)}')"
      ],
      "execution_count": 17,
      "outputs": [
        {
          "output_type": "stream",
          "text": [
            "max len of questions = 1121\n",
            "max len of answers = 1121\n"
          ],
          "name": "stdout"
        }
      ]
    },
    {
      "cell_type": "code",
      "metadata": {
        "id": "L1eTB2arrJdl",
        "colab_type": "code",
        "outputId": "5e8a77e8-cde9-4cb7-d671-1b1221d6ddf0",
        "colab": {
          "base_uri": "https://localhost:8080/",
          "height": 286
        }
      },
      "source": [
        "sns.distplot(polarity_questions, bins=50, kde=False)"
      ],
      "execution_count": 18,
      "outputs": [
        {
          "output_type": "execute_result",
          "data": {
            "text/plain": [
              "<matplotlib.axes._subplots.AxesSubplot at 0x7f4605086e80>"
            ]
          },
          "metadata": {
            "tags": []
          },
          "execution_count": 18
        },
        {
          "output_type": "display_data",
          "data": {
            "image/png": "[encoded data removed]",
            "text/plain": [
              "<Figure size 432x288 with 1 Axes>"
            ]
          },
          "metadata": {
            "tags": []
          }
        }
      ]
    },
    {
      "cell_type": "code",
      "metadata": {
        "id": "X_t1quzBtlf4",
        "colab_type": "code",
        "outputId": "709843ab-da33-40b9-a5f7-25d663792b19",
        "colab": {
          "base_uri": "https://localhost:8080/",
          "height": 68
        }
      },
      "source": [
        "polarity_questions = np.array(polarity_questions)\n",
        "print(f'Total negative polarity questions {len(polarity_questions[polarity_questions<0])}')\n",
        "print(f'Total positive polarity questions {len(polarity_questions[polarity_questions>0])}')\n",
        "print(f'Total neutral polarity questions {len(polarity_questions[polarity_questions==0])}')"
      ],
      "execution_count": 19,
      "outputs": [
        {
          "output_type": "stream",
          "text": [
            "Total negative polarity questions 33702\n",
            "Total positive polarity questions 53447\n",
            "Total neutral polarity questions 134467\n"
          ],
          "name": "stdout"
        }
      ]
    },
    {
      "cell_type": "code",
      "metadata": {
        "id": "Ngxm6UYIw4SX",
        "colab_type": "code",
        "outputId": "17d61c95-cc5d-48d1-a8cd-a3dfb93e7279",
        "colab": {
          "base_uri": "https://localhost:8080/",
          "height": 286
        }
      },
      "source": [
        "sns.distplot(polarity_answers, bins=50, kde=False)"
      ],
      "execution_count": 20,
      "outputs": [
        {
          "output_type": "execute_result",
          "data": {
            "text/plain": [
              "<matplotlib.axes._subplots.AxesSubplot at 0x7f4604f599e8>"
            ]
          },
          "metadata": {
            "tags": []
          },
          "execution_count": 20
        },
        {
          "output_type": "display_data",
          "data": {
            "image/png": "[encoded data removed]",
            "text/plain": [
              "<Figure size 432x288 with 1 Axes>"
            ]
          },
          "metadata": {
            "tags": []
          }
        }
      ]
    },
    {
      "cell_type": "code",
      "metadata": {
        "id": "a4WxvsMVxXtl",
        "colab_type": "code",
        "outputId": "423c796b-e8f6-45bb-fab2-0b9945926361",
        "colab": {
          "base_uri": "https://localhost:8080/",
          "height": 68
        }
      },
      "source": [
        "polarity_answers = np.array(polarity_answers)\n",
        "print(f'Total negative polarity answers {len(polarity_answers[polarity_answers<0])}')\n",
        "print(f'Total positive polarity answers {len(polarity_answers[polarity_answers>0])}')\n",
        "print(f'Total neutral polarity answers {len(polarity_answers[polarity_answers==0])}')"
      ],
      "execution_count": 21,
      "outputs": [
        {
          "output_type": "stream",
          "text": [
            "Total negative polarity answers 34304\n",
            "Total positive polarity answers 56397\n",
            "Total neutral polarity answers 130915\n"
          ],
          "name": "stdout"
        }
      ]
    },
    {
      "cell_type": "code",
      "metadata": {
        "id": "h7TkuJfhxvY7",
        "colab_type": "code",
        "outputId": "33a35734-876e-45e1-9420-baf0ed3714b1",
        "colab": {
          "base_uri": "https://localhost:8080/",
          "height": 286
        }
      },
      "source": [
        "sns.distplot(wordcount_questions,kde=False)"
      ],
      "execution_count": 22,
      "outputs": [
        {
          "output_type": "execute_result",
          "data": {
            "text/plain": [
              "<matplotlib.axes._subplots.AxesSubplot at 0x7f4604fd6f98>"
            ]
          },
          "metadata": {
            "tags": []
          },
          "execution_count": 22
        },
        {
          "output_type": "display_data",
          "data": {
            "image/png": "[encoded data removed]",
            "text/plain": [
              "<Figure size 432x288 with 1 Axes>"
            ]
          },
          "metadata": {
            "tags": []
          }
        }
      ]
    },
    {
      "cell_type": "code",
      "metadata": {
        "id": "_vxBerHYylco",
        "colab_type": "code",
        "outputId": "463e64fc-3549-4630-ec9c-92e81e9c0d6e",
        "colab": {
          "base_uri": "https://localhost:8080/",
          "height": 286
        }
      },
      "source": [
        "sns.distplot(wordcount_answers,kde=False)"
      ],
      "execution_count": 23,
      "outputs": [
        {
          "output_type": "execute_result",
          "data": {
            "text/plain": [
              "<matplotlib.axes._subplots.AxesSubplot at 0x7f4604fd6f28>"
            ]
          },
          "metadata": {
            "tags": []
          },
          "execution_count": 23
        },
        {
          "output_type": "display_data",
          "data": {
            "image/png": "[encoded data removed]",
            "text/plain": [
              "<Figure size 432x288 with 1 Axes>"
            ]
          },
          "metadata": {
            "tags": []
          }
        }
      ]
    },
    {
      "cell_type": "markdown",
      "metadata": {
        "id": "payRGn-n8dG_",
        "colab_type": "text"
      },
      "source": [
        "#**Data Cleaning**"
      ]
    },
    {
      "cell_type": "code",
      "metadata": {
        "id": "r9wE67pL7_wM",
        "colab_type": "code",
        "colab": {}
      },
      "source": [
        "def clean_text(text):\n",
        "  \n",
        "  text = text.lower()\n",
        "  text = re.sub(r\"i'm\",\"i am\", text)\n",
        "  text = re.sub(r\"he's\",\"he is\", text)\n",
        "  text = re.sub(r\"she's\",\"she is\", text)\n",
        "  text = re.sub(r\"that's\",\"that is\", text)\n",
        "  text = re.sub(r\"what's\",\"what is\", text)\n",
        "  text = re.sub(r\"where's\",\"where is\", text)\n",
        "  text = re.sub(r\"\\'ll\",\" will\", text)\n",
        "  text = re.sub(r\"\\'ve\",\" have\", text)\n",
        "  text = re.sub(r\"\\'d\",\" would\", text)\n",
        "  text = re.sub(r\"\\'re\",\" are\", text)\n",
        "  text = re.sub(r\"won't\",\"will not\", text)\n",
        "  text = re.sub(r\"can't\",\"cannot\", text)\n",
        "  text = re.sub(r\"don't\",\"do not\", text)\n",
        "  text = re.sub(r\"[-+(){}#|@=]+\",\"\", text)\n",
        "  text = re.sub(r\"([?.!,।])\",r\" \\1 \",text)\n",
        "  text = re.sub(r'[\" \"]+', \" \", text)\n",
        "  text = re.sub(r\"[^a-zA-Z?.!,]+\",\" \", text)\n",
        "  text = text.rstrip().strip()\n",
        "  text = '<start> ' + text + ' <end>'\n",
        " \n",
        "  return text"
      ],
      "execution_count": 0,
      "outputs": []
    },
    {
      "cell_type": "code",
      "metadata": {
        "id": "EgWYJW_5A05B",
        "colab_type": "code",
        "colab": {}
      },
      "source": [
        "clean_questions = []\n",
        "for ques in questions:\n",
        "  clean_questions.append(clean_text(ques))"
      ],
      "execution_count": 0,
      "outputs": []
    },
    {
      "cell_type": "code",
      "metadata": {
        "id": "aykLT1vo9CcA",
        "colab_type": "code",
        "colab": {}
      },
      "source": [
        "clean_answers = []\n",
        "for ans in answers:\n",
        "  clean_answers.append(clean_text(ans))"
      ],
      "execution_count": 0,
      "outputs": []
    },
    {
      "cell_type": "code",
      "metadata": {
        "id": "55SXJEvl-HIS",
        "colab_type": "code",
        "outputId": "98410670-a226-4ed1-e9c7-da00a74d722a",
        "colab": {
          "base_uri": "https://localhost:8080/",
          "height": 54
        }
      },
      "source": [
        "print(clean_questions[0:5])"
      ],
      "execution_count": 27,
      "outputs": [
        {
          "output_type": "stream",
          "text": [
            "['<start> can we make this quick ? roxanne korrine and andrew barrett are having an incredibly horrendous public break up on the quad . again . <end>', '<start> well , i thought we would start with pronunciation , if that is okay with you . <end>', '<start> not the hacking and gagging and spitting part . please . <end>', '<start> you are asking me out . that is so cute . what is your name again ? <end>', '<start> no , no , it s my fault we didn t have a proper introduction <end>']\n"
          ],
          "name": "stdout"
        }
      ]
    },
    {
      "cell_type": "code",
      "metadata": {
        "id": "s02JP6kx5TGR",
        "colab_type": "code",
        "colab": {}
      },
      "source": [
        "wordcount_clean_ques = np.array([len(text.split(\" \")) for text in clean_questions])\n",
        "wordcount_clean_ans = np.array([len(text.split(\" \")) for text in clean_answers])"
      ],
      "execution_count": 0,
      "outputs": []
    },
    {
      "cell_type": "code",
      "metadata": {
        "id": "uhOYSdVy5u4X",
        "colab_type": "code",
        "colab": {
          "base_uri": "https://localhost:8080/",
          "height": 51
        },
        "outputId": "0844eacb-71d5-4baf-d0a4-a24a7aedd5b5"
      },
      "source": [
        "print(f'max len of questions = {max(wordcount_clean_ques)}')\n",
        "print(f'max len of answers = {max(wordcount_clean_ans)}')"
      ],
      "execution_count": 29,
      "outputs": [
        {
          "output_type": "stream",
          "text": [
            "max len of questions = 390\n",
            "max len of answers = 740\n"
          ],
          "name": "stdout"
        }
      ]
    },
    {
      "cell_type": "code",
      "metadata": {
        "id": "Or7NRvy_6CuU",
        "colab_type": "code",
        "colab": {
          "base_uri": "https://localhost:8080/",
          "height": 51
        },
        "outputId": "ece9a71f-8fed-40eb-fd63-9363a90718aa"
      },
      "source": [
        "print(f'Number of sentences with len>0 {len(wordcount_clean_ques[(wordcount_clean_ques>10) & (wordcount_clean_ques<50)])}')\n",
        "print(f'Number of sentences with len<50 {len(wordcount_clean_ques[wordcount_clean_ques<20])}')"
      ],
      "execution_count": 45,
      "outputs": [
        {
          "output_type": "stream",
          "text": [
            "Number of sentences with len>0 111419\n",
            "Number of sentences with len<50 170813\n"
          ],
          "name": "stdout"
        }
      ]
    },
    {
      "cell_type": "code",
      "metadata": {
        "id": "Bj1j_qZF6gzY",
        "colab_type": "code",
        "colab": {
          "base_uri": "https://localhost:8080/",
          "height": 51
        },
        "outputId": "a10b065b-d7e9-417d-a894-2bb968dee7b5"
      },
      "source": [
        "print(f'Number of answers with len>250 {len(wordcount_clean_ans[wordcount_clean_ans>10])}')\n",
        "print(f'Number of answers with len<250 {len(wordcount_clean_ans[wordcount_clean_ans<20])}')"
      ],
      "execution_count": 44,
      "outputs": [
        {
          "output_type": "stream",
          "text": [
            "Number of answers with len>250 119898\n",
            "Number of answers with len<250 167669\n"
          ],
          "name": "stdout"
        }
      ]
    },
    {
      "cell_type": "code",
      "metadata": {
        "id": "KcbhQ-df61Ye",
        "colab_type": "code",
        "colab": {}
      },
      "source": [
        "clean_questions = np.array(clean_questions)\n",
        "clean_answers = np.array(clean_answers)"
      ],
      "execution_count": 0,
      "outputs": []
    },
    {
      "cell_type": "code",
      "metadata": {
        "id": "c0NrI0o17BzG",
        "colab_type": "code",
        "colab": {}
      },
      "source": [
        "mask = wordcount_clean_ans < 20\n",
        "clean_questions = clean_questions[mask]\n",
        "clean_answers = clean_answers[mask]"
      ],
      "execution_count": 0,
      "outputs": []
    },
    {
      "cell_type": "code",
      "metadata": {
        "id": "1jJgCn4u7jBc",
        "colab_type": "code",
        "colab": {
          "base_uri": "https://localhost:8080/",
          "height": 34
        },
        "outputId": "42a66068-0d06-4b01-f641-cf31955d4b52"
      },
      "source": [
        "len(clean_questions)"
      ],
      "execution_count": 48,
      "outputs": [
        {
          "output_type": "execute_result",
          "data": {
            "text/plain": [
              "167669"
            ]
          },
          "metadata": {
            "tags": []
          },
          "execution_count": 48
        }
      ]
    },
    {
      "cell_type": "code",
      "metadata": {
        "id": "F21-aH599VlY",
        "colab_type": "code",
        "colab": {}
      },
      "source": [
        "wordcount_clean_ques2 = np.array([len(text.split(\" \")) for text in clean_questions])"
      ],
      "execution_count": 0,
      "outputs": []
    },
    {
      "cell_type": "code",
      "metadata": {
        "id": "LQr5DZGG8qvI",
        "colab_type": "code",
        "colab": {}
      },
      "source": [
        "mask2 = wordcount_clean_ques2 < 20\n",
        "clean_questions = clean_questions[mask2]\n",
        "clean_answers = clean_answers[mask2]"
      ],
      "execution_count": 0,
      "outputs": []
    },
    {
      "cell_type": "code",
      "metadata": {
        "id": "E5HciTxPg8au",
        "colab_type": "code",
        "colab": {
          "base_uri": "https://localhost:8080/",
          "height": 34
        },
        "outputId": "2d22440e-2127-4249-cfc8-75597ce0d220"
      },
      "source": [
        "len(clean_questions)"
      ],
      "execution_count": 51,
      "outputs": [
        {
          "output_type": "execute_result",
          "data": {
            "text/plain": [
              "129512"
            ]
          },
          "metadata": {
            "tags": []
          },
          "execution_count": 51
        }
      ]
    },
    {
      "cell_type": "markdown",
      "metadata": {
        "id": "Oyd9w6U2z0Hk",
        "colab_type": "text"
      },
      "source": [
        "#**Tokenization**"
      ]
    },
    {
      "cell_type": "code",
      "metadata": {
        "id": "W1FlASXY-b74",
        "colab_type": "code",
        "colab": {}
      },
      "source": [
        "word_count = {}\n",
        "\n",
        "for ques in questions:\n",
        "  for word in ques.split(\" \"):\n",
        "    if word in word_count:\n",
        "      word_count[word] += 1\n",
        "    else:\n",
        "      word_count[word] = 1\n",
        "\n",
        "for ans in answers:\n",
        "  for word in ans.split(\" \"):\n",
        "    if word in word_count:\n",
        "      word_count[word] += 1\n",
        "    else:\n",
        "      word_count[word] = 1"
      ],
      "execution_count": 0,
      "outputs": []
    },
    {
      "cell_type": "code",
      "metadata": {
        "id": "u8cDMP5qhMnC",
        "colab_type": "code",
        "outputId": "e88c7b5e-62aa-4a15-9fe7-d310d35328f0",
        "colab": {
          "base_uri": "https://localhost:8080/",
          "height": 34
        }
      },
      "source": [
        "len(word_count)"
      ],
      "execution_count": 53,
      "outputs": [
        {
          "output_type": "execute_result",
          "data": {
            "text/plain": [
              "164255"
            ]
          },
          "metadata": {
            "tags": []
          },
          "execution_count": 53
        }
      ]
    },
    {
      "cell_type": "code",
      "metadata": {
        "id": "l748ZUVWzdax",
        "colab_type": "code",
        "colab": {}
      },
      "source": [
        "lang_tokenizer = tf.keras.preprocessing.text.Tokenizer(filters='',oov_token = '<oov>')\n",
        "lang_tokenizer.fit_on_texts(np.concatenate((clean_questions, clean_answers), axis=0))"
      ],
      "execution_count": 0,
      "outputs": []
    },
    {
      "cell_type": "code",
      "metadata": {
        "id": "k9XHeoUW1E2j",
        "colab_type": "code",
        "outputId": "a943f0f5-16e0-455a-cca5-ab9c0f21a867",
        "colab": {
          "base_uri": "https://localhost:8080/",
          "height": 34
        }
      },
      "source": [
        "vocab = lang_tokenizer.word_index\n",
        "len(vocab)"
      ],
      "execution_count": 62,
      "outputs": [
        {
          "output_type": "execute_result",
          "data": {
            "text/plain": [
              "31814"
            ]
          },
          "metadata": {
            "tags": []
          },
          "execution_count": 62
        }
      ]
    },
    {
      "cell_type": "code",
      "metadata": {
        "id": "khVQPBx51mb3",
        "colab_type": "code",
        "outputId": "275d8bfd-deeb-431a-bb17-5a4fad55ed12",
        "colab": {
          "base_uri": "https://localhost:8080/",
          "height": 51
        }
      },
      "source": [
        "ques_tensor = lang_tokenizer.texts_to_sequences(clean_questions)\n",
        "ques_tensor = tf.keras.preprocessing.sequence.pad_sequences(ques_tensor,padding='post')\n",
        "print(ques_tensor[0:1])"
      ],
      "execution_count": 55,
      "outputs": [
        {
          "output_type": "stream",
          "text": [
            "[[    3    61     7     8   134    25    51   351    47 21818     7    76\n",
            "     18    12    84    47     6     2     4]]\n"
          ],
          "name": "stdout"
        }
      ]
    },
    {
      "cell_type": "code",
      "metadata": {
        "id": "4yZC9kvV2kIL",
        "colab_type": "code",
        "outputId": "b3e8d48c-57e9-4d29-b111-95f1af4659c6",
        "colab": {
          "base_uri": "https://localhost:8080/",
          "height": 34
        }
      },
      "source": [
        "len(ques_tensor[0])"
      ],
      "execution_count": 56,
      "outputs": [
        {
          "output_type": "execute_result",
          "data": {
            "text/plain": [
              "19"
            ]
          },
          "metadata": {
            "tags": []
          },
          "execution_count": 56
        }
      ]
    },
    {
      "cell_type": "code",
      "metadata": {
        "id": "LUWB_DRuIj5S",
        "colab_type": "code",
        "outputId": "dcf7aaa8-894c-428e-9b9a-4471790c0240",
        "colab": {
          "base_uri": "https://localhost:8080/",
          "height": 34
        }
      },
      "source": [
        "ques_tensor_shape = ques_tensor.shape\n",
        "print(ques_tensor_shape)"
      ],
      "execution_count": 57,
      "outputs": [
        {
          "output_type": "stream",
          "text": [
            "(129512, 19)\n"
          ],
          "name": "stdout"
        }
      ]
    },
    {
      "cell_type": "code",
      "metadata": {
        "id": "otMDkWpf2wVj",
        "colab_type": "code",
        "outputId": "b2dcc9b9-43dd-4d59-8dfe-ac7fab3a31f3",
        "colab": {
          "base_uri": "https://localhost:8080/",
          "height": 51
        }
      },
      "source": [
        "ans_tensor = lang_tokenizer.texts_to_sequences(clean_answers)\n",
        "ans_tensor = tf.keras.preprocessing.sequence.pad_sequences(ans_tensor,padding='post')\n",
        "print(ans_tensor[0:1])"
      ],
      "execution_count": 58,
      "outputs": [
        {
          "output_type": "stream",
          "text": [
            "[[    3    17     9  6906    29 12263    29  8977   473     2   137     2\n",
            "      4     0     0     0     0     0     0]]\n"
          ],
          "name": "stdout"
        }
      ]
    },
    {
      "cell_type": "code",
      "metadata": {
        "id": "_mfGl65H3Nme",
        "colab_type": "code",
        "outputId": "d15c2d32-6df2-41af-ce9c-41d97bd92134",
        "colab": {
          "base_uri": "https://localhost:8080/",
          "height": 34
        }
      },
      "source": [
        "len(ans_tensor[0])"
      ],
      "execution_count": 59,
      "outputs": [
        {
          "output_type": "execute_result",
          "data": {
            "text/plain": [
              "19"
            ]
          },
          "metadata": {
            "tags": []
          },
          "execution_count": 59
        }
      ]
    },
    {
      "cell_type": "code",
      "metadata": {
        "id": "HnQx0ypzv8Rg",
        "colab_type": "code",
        "colab": {
          "base_uri": "https://localhost:8080/",
          "height": 34
        },
        "outputId": "098fe745-a43b-49a8-e877-6d1cc180ac92"
      },
      "source": [
        "ans_tensor_shape = ans_tensor.shape\n",
        "print(ans_tensor_shape)"
      ],
      "execution_count": 64,
      "outputs": [
        {
          "output_type": "stream",
          "text": [
            "(129512, 19)\n"
          ],
          "name": "stdout"
        }
      ]
    },
    {
      "cell_type": "code",
      "metadata": {
        "id": "U0J143x33S9m",
        "colab_type": "code",
        "colab": {}
      },
      "source": [
        "rev_word_index = {v:k for k,v in vocab.items()}"
      ],
      "execution_count": 0,
      "outputs": []
    },
    {
      "cell_type": "code",
      "metadata": {
        "id": "kDQazY9y32ac",
        "colab_type": "code",
        "colab": {}
      },
      "source": [
        "BUFFER_SIZE = len(ques_tensor)\n",
        "BATCH_SIZE = 32\n",
        "steps_per_epoch = len(ques_tensor)//BATCH_SIZE\n",
        "embedding_dim = 64\n",
        "units = 128\n",
        "vocab_input_size = len(vocab)+1\n",
        "vocab_tar_size = len(vocab)+1\n",
        "\n",
        "dataset = tf.data.Dataset.from_tensor_slices((ques_tensor,ans_tensor)).shuffle(BUFFER_SIZE)\n",
        "dataset = dataset.batch(BATCH_SIZE, drop_remainder=True)"
      ],
      "execution_count": 0,
      "outputs": []
    },
    {
      "cell_type": "code",
      "metadata": {
        "id": "gO0ylAK04UBv",
        "colab_type": "code",
        "outputId": "f842e443-ca8a-4d49-a796-199cc305a0c0",
        "colab": {
          "base_uri": "https://localhost:8080/",
          "height": 34
        }
      },
      "source": [
        "ex_inp_batch, ex_tar_batch = next(iter(dataset))\n",
        "ex_inp_batch.shape, ex_tar_batch.shape"
      ],
      "execution_count": 67,
      "outputs": [
        {
          "output_type": "execute_result",
          "data": {
            "text/plain": [
              "(TensorShape([32, 19]), TensorShape([32, 19]))"
            ]
          },
          "metadata": {
            "tags": []
          },
          "execution_count": 67
        }
      ]
    },
    {
      "cell_type": "markdown",
      "metadata": {
        "id": "1TmO_-FE4ivf",
        "colab_type": "text"
      },
      "source": [
        "#**Encoder Decoder with Attention(Bahdanau)**"
      ]
    },
    {
      "cell_type": "markdown",
      "metadata": {
        "id": "ubeVuJ-NIPYJ",
        "colab_type": "text"
      },
      "source": [
        "##**Encoder**"
      ]
    },
    {
      "cell_type": "code",
      "metadata": {
        "id": "dRSWwLKMIVDW",
        "colab_type": "code",
        "colab": {}
      },
      "source": [
        "class Encoder(tf.keras.Model):\n",
        "\n",
        "  def __init__(self, vocab_size, embedding_dim, enc_units, batch_sz):\n",
        "    super(Encoder, self).__init__()\n",
        "    self.batch_sz = batch_sz\n",
        "    self.enc_units = enc_units\n",
        "    self.embedding = tf.keras.layers.Embedding(vocab_size, embedding_dim)\n",
        "    self.gru1 = tf.keras.layers.GRU(self.enc_units,return_sequences = True,recurrent_initializer = 'glorot_uniform')\n",
        "    #self.gru2 = tf.keras.layers.GRU(self.enc_units,return_sequences = True,recurrent_initializer = 'glorot_uniform')\n",
        "    #self.gru3 = tf.keras.layers.GRU(self.enc_units,return_sequences = True,recurrent_initializer = 'glorot_uniform')\n",
        "    self.gru4 = tf.keras.layers.GRU(self.enc_units,return_sequences = True,return_state = True,recurrent_initializer = 'glorot_uniform')\n",
        "    \n",
        "  def call(self, x, hidden):\n",
        "    x = self.embedding(x)\n",
        "    x = self.gru1(x, initial_state = hidden)\n",
        "    #x = self.gru2(x)\n",
        "    #x = self.gru3(x)\n",
        "    output,state = self.gru4(x)\n",
        "    return output, state\n",
        "    \n",
        "  def initialize_hidden_state(self):\n",
        "    return tf.zeros((self.batch_sz, self.enc_units))"
      ],
      "execution_count": 0,
      "outputs": []
    },
    {
      "cell_type": "code",
      "metadata": {
        "id": "k-F1KpJtKpTc",
        "colab_type": "code",
        "outputId": "9792dbc7-fe0a-48b5-c48e-e5265fded055",
        "colab": {
          "base_uri": "https://localhost:8080/",
          "height": 51
        }
      },
      "source": [
        "encoder = Encoder(vocab_input_size, embedding_dim, units, BATCH_SIZE)\n",
        "\n",
        "# SAMPLE INPUT\n",
        "sample_hidden = encoder.initialize_hidden_state()\n",
        "sample_output, sample_hidden = encoder(ex_inp_batch, sample_hidden)\n",
        "\n",
        "print (f'Encoder output shape: (batch size, sequence length, units) {sample_output.shape}')\n",
        "print (f'Encoder Hidden state shape: (batch size, units) {sample_hidden.shape}')"
      ],
      "execution_count": 69,
      "outputs": [
        {
          "output_type": "stream",
          "text": [
            "Encoder output shape: (batch size, sequence length, units) (32, 19, 128)\n",
            "Encoder Hidden state shape: (batch size, units) (32, 128)\n"
          ],
          "name": "stdout"
        }
      ]
    },
    {
      "cell_type": "markdown",
      "metadata": {
        "id": "m8iVx4-JK0vH",
        "colab_type": "text"
      },
      "source": [
        "##**Attention**"
      ]
    },
    {
      "cell_type": "code",
      "metadata": {
        "id": "aLtzPxrYXspv",
        "colab_type": "code",
        "colab": {}
      },
      "source": [
        "class BahdanauAttention(tf.keras.Model):\n",
        "  def __init__(self, units):\n",
        "    super(BahdanauAttention,self).__init__()\n",
        "    self.W1 = tf.keras.layers.Dense(units)\n",
        "    self.W2 = tf.keras.layers.Dense(units)\n",
        "    self.V = tf.keras.layers.Dense(1)\n",
        "  \n",
        "  def call(self, query, values):\n",
        "    hidden_with_time_axis = tf.expand_dims(query,1) # dimension == (batch,1,hidden_size)\n",
        "    score = self.V(tf.nn.tanh(\n",
        "        self.W1(values) + self.W2(hidden_with_time_axis)\n",
        "    ))\n",
        "    attention_weights = tf.nn.softmax(score, axis=1) # dimension = (batch, max_seq_length, 1)\n",
        "\n",
        "    context_vector = attention_weights * values  # dimension = (batch, max_seq_length,hidden_size)\n",
        "    context_vector = tf.reduce_sum(context_vector, axis=1) #dimension = (batch, hidden_size)\n",
        "\n",
        "    return context_vector, attention_weights"
      ],
      "execution_count": 0,
      "outputs": []
    },
    {
      "cell_type": "code",
      "metadata": {
        "id": "FqQqGVUQLhlQ",
        "colab_type": "code",
        "outputId": "99a89ada-e2f5-41b1-e6c4-9ced912f7b2d",
        "colab": {
          "base_uri": "https://localhost:8080/",
          "height": 51
        }
      },
      "source": [
        "attention_layer = BahdanauAttention(10)\n",
        "attention_result, attention_weights = attention_layer(sample_hidden, sample_output)\n",
        "\n",
        "print(\"Attention result shape: (batch size, units) {}\".format(attention_result.shape))\n",
        "print(\"Attention weights shape: (batch_size, sequence_length, 1) {}\".format(attention_weights.shape))"
      ],
      "execution_count": 71,
      "outputs": [
        {
          "output_type": "stream",
          "text": [
            "Attention result shape: (batch size, units) (32, 128)\n",
            "Attention weights shape: (batch_size, sequence_length, 1) (32, 19, 1)\n"
          ],
          "name": "stdout"
        }
      ]
    },
    {
      "cell_type": "markdown",
      "metadata": {
        "id": "74eS3vGzL65W",
        "colab_type": "text"
      },
      "source": [
        "##**Decoder**"
      ]
    },
    {
      "cell_type": "code",
      "metadata": {
        "id": "3jMNfY9PLljP",
        "colab_type": "code",
        "colab": {}
      },
      "source": [
        "class Decoder(tf.keras.Model):\n",
        "  def __init__(self, vocab_size, embedding_dim, dec_units, batch_sz):\n",
        "    super(Decoder,self).__init__()\n",
        "    self.batch_sz = batch_sz\n",
        "    self.dec_units = dec_units\n",
        "    self.embedding = tf.keras.layers.Embedding(vocab_size, embedding_dim)\n",
        "    self.gru1 = tf.keras.layers.GRU(self.dec_units,return_sequences = True,recurrent_initializer = 'glorot_uniform')\n",
        "    #self.gru2 = tf.keras.layers.GRU(self.dec_units,return_sequences = True,recurrent_initializer = 'glorot_uniform')\n",
        "    #self.gru3 = tf.keras.layers.GRU(self.dec_units,return_sequences = True,recurrent_initializer = 'glorot_uniform')\n",
        "    self.gru4 = tf.keras.layers.GRU(self.dec_units,return_sequences = True,return_state = True,recurrent_initializer = 'glorot_uniform')\n",
        "    self.fc = tf.keras.layers.Dense(vocab_size)\n",
        "    self.attention = BahdanauAttention(self.dec_units)\n",
        "\n",
        "  def call(self, x, hidden, enc_output):\n",
        "    context_vector, attention_weights = self.attention(hidden, enc_output)\n",
        "    x = self.embedding(x) # dims_out = (batch, 1, embedding_dims)\n",
        "    x = tf.concat([tf.expand_dims(context_vector, axis=1),x], axis=-1)\n",
        "    x = self.gru1(x)\n",
        "    #x = self.gru2(x)\n",
        "    #x = self.gru3(x)\n",
        "    output,state = self.gru4(x)\n",
        "    # output shape == (batch_size * 1, hidden_size)\n",
        "    output = tf.reshape(output, (-1, output.shape[2]))\n",
        "    # output shape == (batch_size, vocab)\n",
        "    x = self.fc(output)\n",
        "    return x, state, attention_weights"
      ],
      "execution_count": 0,
      "outputs": []
    },
    {
      "cell_type": "code",
      "metadata": {
        "id": "qUFIa_rXRZpR",
        "colab_type": "code",
        "outputId": "4f14d295-2303-44a4-d8ab-c390ef5abea1",
        "colab": {
          "base_uri": "https://localhost:8080/",
          "height": 34
        }
      },
      "source": [
        "decoder = Decoder(vocab_tar_size, embedding_dim, units, BATCH_SIZE)\n",
        "\n",
        "sample_decoder_output, _, _ = decoder(tf.random.uniform((32, 1)),\n",
        "                                      sample_hidden, sample_output)\n",
        "\n",
        "print (f'Decoder output shape: (batch_size, vocab size) {sample_decoder_output.shape}')"
      ],
      "execution_count": 73,
      "outputs": [
        {
          "output_type": "stream",
          "text": [
            "Decoder output shape: (batch_size, vocab size) (32, 31815)\n"
          ],
          "name": "stdout"
        }
      ]
    },
    {
      "cell_type": "markdown",
      "metadata": {
        "id": "fIGirnxZSFox",
        "colab_type": "text"
      },
      "source": [
        "#**Training**"
      ]
    },
    {
      "cell_type": "markdown",
      "metadata": {
        "id": "gV81brRYSjUk",
        "colab_type": "text"
      },
      "source": [
        "##**Optimiser and Loss functions**"
      ]
    },
    {
      "cell_type": "code",
      "metadata": {
        "id": "WCAX33YNSAYG",
        "colab_type": "code",
        "colab": {}
      },
      "source": [
        "optimizer = tf.keras.optimizers.Adam()\n",
        "loss_object = tf.keras.losses.SparseCategoricalCrossentropy(\n",
        "    from_logits=True, reduction='none')\n",
        "\n",
        "def loss_function(real, pred):\n",
        "  mask = tf.math.logical_not(tf.math.equal(real, 0))\n",
        "  loss_ = loss_object(real, pred)\n",
        "\n",
        "  mask = tf.cast(mask, dtype=loss_.dtype)\n",
        "  loss_ *= mask\n",
        "\n",
        "  return tf.reduce_mean(loss_)"
      ],
      "execution_count": 0,
      "outputs": []
    },
    {
      "cell_type": "markdown",
      "metadata": {
        "id": "QK4SytUwULyp",
        "colab_type": "text"
      },
      "source": [
        "##**Creating Checkpoint**"
      ]
    },
    {
      "cell_type": "code",
      "metadata": {
        "id": "8Pc6rQV6UKYm",
        "colab_type": "code",
        "colab": {}
      },
      "source": [
        "checkpoint_dir = '/training_checkpoints'\n",
        "checkpoint_prefix = os.path.join(checkpoint_dir,'ckpt')\n",
        "checkpoint = tf.train.Checkpoint(optimizer=optimizer,\n",
        "                                 encoder=encoder,\n",
        "                                 decoder=decoder)"
      ],
      "execution_count": 0,
      "outputs": []
    },
    {
      "cell_type": "markdown",
      "metadata": {
        "id": "Z1cmbQVrUb5d",
        "colab_type": "text"
      },
      "source": [
        "##**Custom training using Gradient Tape**"
      ]
    },
    {
      "cell_type": "code",
      "metadata": {
        "id": "SJax-SQSUToF",
        "colab_type": "code",
        "colab": {}
      },
      "source": [
        "@tf.function\n",
        "def train_step(inp,tar,enc_hidden):\n",
        "  loss = 0\n",
        "\n",
        "  with tf.GradientTape() as tape:\n",
        "    enc_output, enc_hidden = encoder(inp,enc_hidden)\n",
        "    dec_hidden = enc_hidden\n",
        "    dec_input = tf.expand_dims([vocab['<start>']]*BATCH_SIZE,1)\n",
        "    for t in range(1, tar.shape[1]):\n",
        "      # passing enc_output to the decoder\n",
        "      predictions, dec_hidden, _ = decoder(dec_input, dec_hidden, enc_output)\n",
        "\n",
        "      loss += loss_function(tar[:, t], predictions)\n",
        "\n",
        "      # using teacher forcing\n",
        "      dec_input = tf.expand_dims(tar[:, t], 1)\n",
        "    \n",
        "    batch_loss = (loss / int(tar.shape[1]))\n",
        "\n",
        "    variables = encoder.trainable_variables + decoder.trainable_variables\n",
        "\n",
        "    gradients = tape.gradient(loss, variables)\n",
        "\n",
        "    optimizer.apply_gradients(zip(gradients, variables))\n",
        "\n",
        "    return batch_loss"
      ],
      "execution_count": 0,
      "outputs": []
    },
    {
      "cell_type": "code",
      "metadata": {
        "id": "4lv8gT8cUnWx",
        "colab_type": "code",
        "colab": {
          "base_uri": "https://localhost:8080/",
          "height": 1000
        },
        "outputId": "5418a227-728b-44ea-d2d6-3a8ff207c979"
      },
      "source": [
        "EPOCHS = 3\n",
        "\n",
        "for epoch in range(EPOCHS):\n",
        "  start = time.time()\n",
        "\n",
        "  enc_hidden = encoder.initialize_hidden_state()\n",
        "  total_loss = 0\n",
        "\n",
        "  for (batch, (inp, targ)) in enumerate(dataset.take(steps_per_epoch)):\n",
        "    batch_loss = train_step(inp, targ, enc_hidden)\n",
        "    total_loss += batch_loss\n",
        "\n",
        "    if batch % 200 == 0:\n",
        "        print('Epoch {} Batch {} Loss {:.4f}'.format(epoch + 1,\n",
        "                                                     batch,\n",
        "                                                     batch_loss.numpy()))\n",
        "  # saving (checkpoint) the model every 2 epochs\n",
        "  if (epoch + 1) % 2 == 0:\n",
        "    checkpoint.save(file_prefix = checkpoint_prefix)\n",
        "\n",
        "  print('Epoch {} Loss {:.4f}'.format(epoch + 1,\n",
        "                                      total_loss / steps_per_epoch))\n",
        "  print('Time taken for 1 epoch {} sec\\n'.format(time.time() - start))"
      ],
      "execution_count": 77,
      "outputs": [
        {
          "output_type": "stream",
          "text": [
            "Epoch 1 Batch 0 Loss 4.4506\n",
            "Epoch 1 Batch 20 Loss 3.6493\n",
            "Epoch 1 Batch 40 Loss 2.5771\n",
            "Epoch 1 Batch 60 Loss 2.8544\n",
            "Epoch 1 Batch 80 Loss 2.3769\n",
            "Epoch 1 Batch 100 Loss 2.8460\n",
            "Epoch 1 Batch 120 Loss 2.1686\n",
            "Epoch 1 Batch 140 Loss 2.5521\n",
            "Epoch 1 Batch 160 Loss 2.6798\n",
            "Epoch 1 Batch 180 Loss 2.3241\n",
            "Epoch 1 Batch 200 Loss 1.8703\n",
            "Epoch 1 Batch 220 Loss 2.4333\n",
            "Epoch 1 Batch 240 Loss 2.3488\n",
            "Epoch 1 Batch 260 Loss 2.4345\n",
            "Epoch 1 Batch 280 Loss 2.3692\n",
            "Epoch 1 Batch 300 Loss 2.2824\n",
            "Epoch 1 Batch 320 Loss 2.2667\n",
            "Epoch 1 Batch 340 Loss 1.9657\n",
            "Epoch 1 Batch 360 Loss 2.3611\n",
            "Epoch 1 Batch 380 Loss 2.2284\n",
            "Epoch 1 Batch 400 Loss 2.5678\n",
            "Epoch 1 Batch 420 Loss 2.6240\n",
            "Epoch 1 Batch 440 Loss 2.0561\n",
            "Epoch 1 Batch 460 Loss 2.3567\n",
            "Epoch 1 Batch 480 Loss 2.1303\n",
            "Epoch 1 Batch 500 Loss 2.8329\n",
            "Epoch 1 Batch 520 Loss 2.3910\n",
            "Epoch 1 Batch 540 Loss 2.1006\n",
            "Epoch 1 Batch 560 Loss 2.6414\n",
            "Epoch 1 Batch 580 Loss 2.5829\n",
            "Epoch 1 Batch 600 Loss 2.5536\n",
            "Epoch 1 Batch 620 Loss 2.4913\n",
            "Epoch 1 Batch 640 Loss 2.3187\n",
            "Epoch 1 Batch 660 Loss 2.1951\n",
            "Epoch 1 Batch 680 Loss 2.3163\n",
            "Epoch 1 Batch 700 Loss 2.2472\n",
            "Epoch 1 Batch 720 Loss 1.8233\n",
            "Epoch 1 Batch 740 Loss 2.8268\n",
            "Epoch 1 Batch 760 Loss 2.1997\n",
            "Epoch 1 Batch 780 Loss 2.3179\n",
            "Epoch 1 Batch 800 Loss 2.2121\n",
            "Epoch 1 Batch 820 Loss 2.4148\n",
            "Epoch 1 Batch 840 Loss 2.8436\n",
            "Epoch 1 Batch 860 Loss 2.4440\n",
            "Epoch 1 Batch 880 Loss 2.2079\n",
            "Epoch 1 Batch 900 Loss 2.3870\n",
            "Epoch 1 Batch 920 Loss 2.6348\n",
            "Epoch 1 Batch 940 Loss 2.0347\n",
            "Epoch 1 Batch 960 Loss 1.8113\n",
            "Epoch 1 Batch 980 Loss 2.3803\n",
            "Epoch 1 Batch 1000 Loss 2.3511\n",
            "Epoch 1 Batch 1020 Loss 2.4911\n",
            "Epoch 1 Batch 1040 Loss 2.0985\n",
            "Epoch 1 Batch 1060 Loss 2.3722\n",
            "Epoch 1 Batch 1080 Loss 2.0483\n",
            "Epoch 1 Batch 1100 Loss 2.2633\n",
            "Epoch 1 Batch 1120 Loss 2.0586\n",
            "Epoch 1 Batch 1140 Loss 2.2181\n",
            "Epoch 1 Batch 1160 Loss 2.2739\n",
            "Epoch 1 Batch 1180 Loss 1.8065\n",
            "Epoch 1 Batch 1200 Loss 2.3001\n",
            "Epoch 1 Batch 1220 Loss 1.9290\n",
            "Epoch 1 Batch 1240 Loss 2.3659\n",
            "Epoch 1 Batch 1260 Loss 2.2629\n",
            "Epoch 1 Batch 1280 Loss 1.9675\n",
            "Epoch 1 Batch 1300 Loss 2.2160\n",
            "Epoch 1 Batch 1320 Loss 2.2529\n",
            "Epoch 1 Batch 1340 Loss 1.8150\n",
            "Epoch 1 Batch 1360 Loss 2.5024\n",
            "Epoch 1 Batch 1380 Loss 2.3300\n",
            "Epoch 1 Batch 1400 Loss 1.8079\n",
            "Epoch 1 Batch 1420 Loss 2.0614\n",
            "Epoch 1 Batch 1440 Loss 1.7242\n",
            "Epoch 1 Batch 1460 Loss 1.9121\n",
            "Epoch 1 Batch 1480 Loss 2.2045\n",
            "Epoch 1 Batch 1500 Loss 2.0723\n",
            "Epoch 1 Batch 1520 Loss 1.9252\n",
            "Epoch 1 Batch 1540 Loss 2.0350\n",
            "Epoch 1 Batch 1560 Loss 1.9145\n",
            "Epoch 1 Batch 1580 Loss 1.6100\n",
            "Epoch 1 Batch 1600 Loss 1.8785\n",
            "Epoch 1 Batch 1620 Loss 1.9268\n",
            "Epoch 1 Batch 1640 Loss 2.0148\n",
            "Epoch 1 Batch 1660 Loss 2.2823\n",
            "Epoch 1 Batch 1680 Loss 1.9190\n",
            "Epoch 1 Batch 1700 Loss 1.7646\n",
            "Epoch 1 Batch 1720 Loss 2.1575\n",
            "Epoch 1 Batch 1740 Loss 2.0005\n",
            "Epoch 1 Batch 1760 Loss 2.0699\n",
            "Epoch 1 Batch 1780 Loss 2.3142\n",
            "Epoch 1 Batch 1800 Loss 2.0898\n",
            "Epoch 1 Batch 1820 Loss 1.9348\n",
            "Epoch 1 Batch 1840 Loss 1.8577\n",
            "Epoch 1 Batch 1860 Loss 1.8981\n",
            "Epoch 1 Batch 1880 Loss 2.1799\n",
            "Epoch 1 Batch 1900 Loss 2.3504\n",
            "Epoch 1 Batch 1920 Loss 2.0090\n",
            "Epoch 1 Batch 1940 Loss 2.3328\n",
            "Epoch 1 Batch 1960 Loss 1.9370\n",
            "Epoch 1 Batch 1980 Loss 1.9311\n",
            "Epoch 1 Batch 2000 Loss 1.7385\n",
            "Epoch 1 Batch 2020 Loss 1.9801\n",
            "Epoch 1 Batch 2040 Loss 1.9972\n",
            "Epoch 1 Batch 2060 Loss 2.4366\n",
            "Epoch 1 Batch 2080 Loss 1.8336\n",
            "Epoch 1 Batch 2100 Loss 2.1847\n",
            "Epoch 1 Batch 2120 Loss 1.9198\n",
            "Epoch 1 Batch 2140 Loss 2.2110\n",
            "Epoch 1 Batch 2160 Loss 2.0548\n",
            "Epoch 1 Batch 2180 Loss 2.0174\n",
            "Epoch 1 Batch 2200 Loss 1.7600\n",
            "Epoch 1 Batch 2220 Loss 2.0526\n",
            "Epoch 1 Batch 2240 Loss 2.1423\n",
            "Epoch 1 Batch 2260 Loss 2.1543\n",
            "Epoch 1 Batch 2280 Loss 2.0264\n",
            "Epoch 1 Batch 2300 Loss 2.2878\n",
            "Epoch 1 Batch 2320 Loss 1.7478\n",
            "Epoch 1 Batch 2340 Loss 1.8298\n",
            "Epoch 1 Batch 2360 Loss 2.2492\n",
            "Epoch 1 Batch 2380 Loss 1.8827\n",
            "Epoch 1 Batch 2400 Loss 2.1236\n",
            "Epoch 1 Batch 2420 Loss 2.0372\n",
            "Epoch 1 Batch 2440 Loss 2.1543\n",
            "Epoch 1 Batch 2460 Loss 2.1930\n",
            "Epoch 1 Batch 2480 Loss 1.8496\n",
            "Epoch 1 Batch 2500 Loss 1.8698\n",
            "Epoch 1 Batch 2520 Loss 2.0389\n",
            "Epoch 1 Batch 2540 Loss 1.9303\n",
            "Epoch 1 Batch 2560 Loss 2.0482\n",
            "Epoch 1 Batch 2580 Loss 1.8004\n",
            "Epoch 1 Batch 2600 Loss 2.3538\n",
            "Epoch 1 Batch 2620 Loss 2.3322\n",
            "Epoch 1 Batch 2640 Loss 1.7708\n",
            "Epoch 1 Batch 2660 Loss 1.8178\n",
            "Epoch 1 Batch 2680 Loss 1.8235\n",
            "Epoch 1 Batch 2700 Loss 2.2303\n",
            "Epoch 1 Batch 2720 Loss 1.8698\n",
            "Epoch 1 Batch 2740 Loss 1.5448\n",
            "Epoch 1 Batch 2760 Loss 1.7703\n",
            "Epoch 1 Batch 2780 Loss 1.9792\n",
            "Epoch 1 Batch 2800 Loss 1.7625\n",
            "Epoch 1 Batch 2820 Loss 1.8586\n",
            "Epoch 1 Batch 2840 Loss 2.0816\n",
            "Epoch 1 Batch 2860 Loss 2.1135\n",
            "Epoch 1 Batch 2880 Loss 1.7606\n",
            "Epoch 1 Batch 2900 Loss 1.8939\n",
            "Epoch 1 Batch 2920 Loss 1.7945\n",
            "Epoch 1 Batch 2940 Loss 1.8611\n",
            "Epoch 1 Batch 2960 Loss 2.0799\n",
            "Epoch 1 Batch 2980 Loss 2.1017\n",
            "Epoch 1 Batch 3000 Loss 2.3666\n",
            "Epoch 1 Batch 3020 Loss 1.8489\n",
            "Epoch 1 Batch 3040 Loss 2.2776\n",
            "Epoch 1 Batch 3060 Loss 2.2312\n",
            "Epoch 1 Batch 3080 Loss 2.0295\n",
            "Epoch 1 Batch 3100 Loss 2.1995\n",
            "Epoch 1 Batch 3120 Loss 1.8558\n",
            "Epoch 1 Batch 3140 Loss 2.0816\n",
            "Epoch 1 Batch 3160 Loss 1.9868\n",
            "Epoch 1 Batch 3180 Loss 1.9018\n",
            "Epoch 1 Batch 3200 Loss 1.6361\n",
            "Epoch 1 Batch 3220 Loss 1.3850\n",
            "Epoch 1 Batch 3240 Loss 1.9441\n",
            "Epoch 1 Batch 3260 Loss 2.2484\n",
            "Epoch 1 Batch 3280 Loss 2.1072\n",
            "Epoch 1 Batch 3300 Loss 1.7277\n",
            "Epoch 1 Batch 3320 Loss 1.6862\n",
            "Epoch 1 Batch 3340 Loss 1.8628\n",
            "Epoch 1 Batch 3360 Loss 1.9879\n",
            "Epoch 1 Batch 3380 Loss 1.8566\n",
            "Epoch 1 Batch 3400 Loss 2.2556\n",
            "Epoch 1 Batch 3420 Loss 1.9342\n",
            "Epoch 1 Batch 3440 Loss 1.8463\n",
            "Epoch 1 Batch 3460 Loss 1.6498\n",
            "Epoch 1 Batch 3480 Loss 1.7426\n",
            "Epoch 1 Batch 3500 Loss 2.1529\n",
            "Epoch 1 Batch 3520 Loss 1.8945\n",
            "Epoch 1 Batch 3540 Loss 1.9316\n",
            "Epoch 1 Batch 3560 Loss 2.2140\n",
            "Epoch 1 Batch 3580 Loss 2.0496\n",
            "Epoch 1 Batch 3600 Loss 2.0765\n",
            "Epoch 1 Batch 3620 Loss 1.9002\n",
            "Epoch 1 Batch 3640 Loss 2.0185\n",
            "Epoch 1 Batch 3660 Loss 1.7369\n",
            "Epoch 1 Batch 3680 Loss 1.7877\n",
            "Epoch 1 Batch 3700 Loss 2.2497\n",
            "Epoch 1 Batch 3720 Loss 2.1445\n",
            "Epoch 1 Batch 3740 Loss 2.0449\n",
            "Epoch 1 Batch 3760 Loss 1.9598\n",
            "Epoch 1 Batch 3780 Loss 2.1856\n",
            "Epoch 1 Batch 3800 Loss 1.8125\n",
            "Epoch 1 Batch 3820 Loss 1.6092\n",
            "Epoch 1 Batch 3840 Loss 2.0564\n",
            "Epoch 1 Batch 3860 Loss 1.8930\n",
            "Epoch 1 Batch 3880 Loss 2.0807\n",
            "Epoch 1 Batch 3900 Loss 1.7006\n",
            "Epoch 1 Batch 3920 Loss 1.8179\n",
            "Epoch 1 Batch 3940 Loss 2.2511\n",
            "Epoch 1 Batch 3960 Loss 1.9946\n",
            "Epoch 1 Batch 3980 Loss 2.1182\n",
            "Epoch 1 Batch 4000 Loss 1.7316\n",
            "Epoch 1 Batch 4020 Loss 1.8082\n",
            "Epoch 1 Batch 4040 Loss 1.9558\n",
            "Epoch 1 Loss 2.1462\n",
            "Time taken for 1 epoch 969.0967381000519 sec\n",
            "\n",
            "Epoch 2 Batch 0 Loss 1.8800\n",
            "Epoch 2 Batch 20 Loss 1.8101\n",
            "Epoch 2 Batch 40 Loss 1.8700\n",
            "Epoch 2 Batch 60 Loss 2.1322\n",
            "Epoch 2 Batch 80 Loss 1.7926\n",
            "Epoch 2 Batch 100 Loss 2.1398\n",
            "Epoch 2 Batch 120 Loss 1.5949\n",
            "Epoch 2 Batch 140 Loss 1.8993\n",
            "Epoch 2 Batch 160 Loss 2.0443\n",
            "Epoch 2 Batch 180 Loss 1.7281\n",
            "Epoch 2 Batch 200 Loss 1.3253\n",
            "Epoch 2 Batch 220 Loss 1.8408\n",
            "Epoch 2 Batch 240 Loss 1.7706\n",
            "Epoch 2 Batch 260 Loss 1.8185\n",
            "Epoch 2 Batch 280 Loss 1.7862\n",
            "Epoch 2 Batch 300 Loss 1.7648\n",
            "Epoch 2 Batch 320 Loss 1.7540\n",
            "Epoch 2 Batch 340 Loss 1.5199\n",
            "Epoch 2 Batch 360 Loss 1.9164\n",
            "Epoch 2 Batch 380 Loss 1.7952\n",
            "Epoch 2 Batch 400 Loss 2.1920\n",
            "Epoch 2 Batch 420 Loss 2.1528\n",
            "Epoch 2 Batch 440 Loss 1.6461\n",
            "Epoch 2 Batch 460 Loss 1.9014\n",
            "Epoch 2 Batch 480 Loss 1.7242\n",
            "Epoch 2 Batch 500 Loss 2.3832\n",
            "Epoch 2 Batch 520 Loss 2.0001\n",
            "Epoch 2 Batch 540 Loss 1.7417\n",
            "Epoch 2 Batch 560 Loss 2.2250\n",
            "Epoch 2 Batch 580 Loss 2.1632\n",
            "Epoch 2 Batch 600 Loss 2.0959\n",
            "Epoch 2 Batch 620 Loss 2.1196\n",
            "Epoch 2 Batch 640 Loss 1.9401\n",
            "Epoch 2 Batch 660 Loss 1.8244\n",
            "Epoch 2 Batch 680 Loss 1.8889\n",
            "Epoch 2 Batch 700 Loss 1.8449\n",
            "Epoch 2 Batch 720 Loss 1.4859\n",
            "Epoch 2 Batch 740 Loss 2.4054\n",
            "Epoch 2 Batch 760 Loss 1.8482\n",
            "Epoch 2 Batch 780 Loss 1.8938\n",
            "Epoch 2 Batch 800 Loss 1.9489\n",
            "Epoch 2 Batch 820 Loss 2.0343\n",
            "Epoch 2 Batch 840 Loss 2.4121\n",
            "Epoch 2 Batch 860 Loss 2.0607\n",
            "Epoch 2 Batch 880 Loss 1.8821\n",
            "Epoch 2 Batch 900 Loss 2.0110\n",
            "Epoch 2 Batch 920 Loss 2.2539\n",
            "Epoch 2 Batch 940 Loss 1.7277\n",
            "Epoch 2 Batch 960 Loss 1.5389\n",
            "Epoch 2 Batch 980 Loss 2.0261\n",
            "Epoch 2 Batch 1000 Loss 2.0714\n",
            "Epoch 2 Batch 1020 Loss 2.1398\n",
            "Epoch 2 Batch 1040 Loss 1.8093\n",
            "Epoch 2 Batch 1060 Loss 2.0902\n",
            "Epoch 2 Batch 1080 Loss 1.7586\n",
            "Epoch 2 Batch 1100 Loss 1.9556\n",
            "Epoch 2 Batch 1120 Loss 1.8006\n",
            "Epoch 2 Batch 1140 Loss 1.9309\n",
            "Epoch 2 Batch 1160 Loss 1.9608\n",
            "Epoch 2 Batch 1180 Loss 1.5746\n",
            "Epoch 2 Batch 1200 Loss 2.0196\n",
            "Epoch 2 Batch 1220 Loss 1.6637\n",
            "Epoch 2 Batch 1240 Loss 2.0301\n",
            "Epoch 2 Batch 1260 Loss 1.9193\n",
            "Epoch 2 Batch 1280 Loss 1.7034\n",
            "Epoch 2 Batch 1300 Loss 1.8873\n",
            "Epoch 2 Batch 1320 Loss 1.9478\n",
            "Epoch 2 Batch 1340 Loss 1.5869\n",
            "Epoch 2 Batch 1360 Loss 2.2010\n",
            "Epoch 2 Batch 1380 Loss 2.0758\n",
            "Epoch 2 Batch 1400 Loss 1.6142\n",
            "Epoch 2 Batch 1420 Loss 1.8096\n",
            "Epoch 2 Batch 1440 Loss 1.5249\n",
            "Epoch 2 Batch 1460 Loss 1.6690\n",
            "Epoch 2 Batch 1480 Loss 1.9367\n",
            "Epoch 2 Batch 1500 Loss 1.8573\n",
            "Epoch 2 Batch 1520 Loss 1.7419\n",
            "Epoch 2 Batch 1540 Loss 1.7877\n",
            "Epoch 2 Batch 1560 Loss 1.6644\n",
            "Epoch 2 Batch 1580 Loss 1.4350\n",
            "Epoch 2 Batch 1600 Loss 1.7046\n",
            "Epoch 2 Batch 1620 Loss 1.7440\n",
            "Epoch 2 Batch 1640 Loss 1.8310\n",
            "Epoch 2 Batch 1660 Loss 2.0243\n",
            "Epoch 2 Batch 1680 Loss 1.7190\n",
            "Epoch 2 Batch 1700 Loss 1.6208\n",
            "Epoch 2 Batch 1720 Loss 1.9306\n",
            "Epoch 2 Batch 1740 Loss 1.8201\n",
            "Epoch 2 Batch 1760 Loss 1.8754\n",
            "Epoch 2 Batch 1780 Loss 2.1060\n",
            "Epoch 2 Batch 1800 Loss 1.9191\n",
            "Epoch 2 Batch 1820 Loss 1.7401\n",
            "Epoch 2 Batch 1840 Loss 1.6934\n",
            "Epoch 2 Batch 1860 Loss 1.7464\n",
            "Epoch 2 Batch 1880 Loss 1.9736\n",
            "Epoch 2 Batch 1900 Loss 2.1703\n",
            "Epoch 2 Batch 1920 Loss 1.8402\n",
            "Epoch 2 Batch 1940 Loss 2.1689\n",
            "Epoch 2 Batch 1960 Loss 1.7571\n",
            "Epoch 2 Batch 1980 Loss 1.7912\n",
            "Epoch 2 Batch 2000 Loss 1.6093\n",
            "Epoch 2 Batch 2020 Loss 1.8473\n",
            "Epoch 2 Batch 2040 Loss 1.8145\n",
            "Epoch 2 Batch 2060 Loss 2.2634\n",
            "Epoch 2 Batch 2080 Loss 1.6711\n",
            "Epoch 2 Batch 2100 Loss 1.9886\n",
            "Epoch 2 Batch 2120 Loss 1.7272\n",
            "Epoch 2 Batch 2140 Loss 2.0475\n",
            "Epoch 2 Batch 2160 Loss 1.9035\n",
            "Epoch 2 Batch 2180 Loss 1.8938\n",
            "Epoch 2 Batch 2200 Loss 1.6276\n",
            "Epoch 2 Batch 2220 Loss 1.9022\n",
            "Epoch 2 Batch 2240 Loss 1.9644\n",
            "Epoch 2 Batch 2260 Loss 1.9862\n",
            "Epoch 2 Batch 2280 Loss 1.8442\n",
            "Epoch 2 Batch 2300 Loss 2.1238\n",
            "Epoch 2 Batch 2320 Loss 1.6463\n",
            "Epoch 2 Batch 2340 Loss 1.6856\n",
            "Epoch 2 Batch 2360 Loss 2.0798\n",
            "Epoch 2 Batch 2380 Loss 1.7463\n",
            "Epoch 2 Batch 2400 Loss 1.9659\n",
            "Epoch 2 Batch 2420 Loss 1.8256\n",
            "Epoch 2 Batch 2440 Loss 1.9459\n",
            "Epoch 2 Batch 2460 Loss 2.0649\n",
            "Epoch 2 Batch 2480 Loss 1.7000\n",
            "Epoch 2 Batch 2500 Loss 1.7362\n",
            "Epoch 2 Batch 2520 Loss 1.8708\n",
            "Epoch 2 Batch 2540 Loss 1.8001\n",
            "Epoch 2 Batch 2560 Loss 1.8738\n",
            "Epoch 2 Batch 2580 Loss 1.6756\n",
            "Epoch 2 Batch 2600 Loss 2.1462\n",
            "Epoch 2 Batch 2620 Loss 2.1668\n",
            "Epoch 2 Batch 2640 Loss 1.6731\n",
            "Epoch 2 Batch 2660 Loss 1.6853\n",
            "Epoch 2 Batch 2680 Loss 1.6781\n",
            "Epoch 2 Batch 2700 Loss 2.0615\n",
            "Epoch 2 Batch 2720 Loss 1.7296\n",
            "Epoch 2 Batch 2740 Loss 1.4413\n",
            "Epoch 2 Batch 2760 Loss 1.6676\n",
            "Epoch 2 Batch 2780 Loss 1.8235\n",
            "Epoch 2 Batch 2800 Loss 1.6286\n",
            "Epoch 2 Batch 2820 Loss 1.7543\n",
            "Epoch 2 Batch 2840 Loss 1.9978\n",
            "Epoch 2 Batch 2860 Loss 1.9763\n",
            "Epoch 2 Batch 2880 Loss 1.6385\n",
            "Epoch 2 Batch 2900 Loss 1.7636\n",
            "Epoch 2 Batch 2920 Loss 1.6652\n",
            "Epoch 2 Batch 2940 Loss 1.7571\n",
            "Epoch 2 Batch 2960 Loss 1.9190\n",
            "Epoch 2 Batch 2980 Loss 1.9445\n",
            "Epoch 2 Batch 3000 Loss 2.2101\n",
            "Epoch 2 Batch 3020 Loss 1.7103\n",
            "Epoch 2 Batch 3040 Loss 2.1384\n",
            "Epoch 2 Batch 3060 Loss 2.1306\n",
            "Epoch 2 Batch 3080 Loss 1.9343\n",
            "Epoch 2 Batch 3100 Loss 2.0638\n",
            "Epoch 2 Batch 3120 Loss 1.7288\n",
            "Epoch 2 Batch 3140 Loss 1.9516\n",
            "Epoch 2 Batch 3160 Loss 1.8560\n",
            "Epoch 2 Batch 3180 Loss 1.8089\n",
            "Epoch 2 Batch 3200 Loss 1.4947\n",
            "Epoch 2 Batch 3220 Loss 1.3175\n",
            "Epoch 2 Batch 3240 Loss 1.8617\n",
            "Epoch 2 Batch 3260 Loss 2.1169\n",
            "Epoch 2 Batch 3280 Loss 2.0173\n",
            "Epoch 2 Batch 3300 Loss 1.6147\n",
            "Epoch 2 Batch 3320 Loss 1.5532\n",
            "Epoch 2 Batch 3340 Loss 1.7443\n",
            "Epoch 2 Batch 3360 Loss 1.8822\n",
            "Epoch 2 Batch 3380 Loss 1.7439\n",
            "Epoch 2 Batch 3400 Loss 2.1347\n",
            "Epoch 2 Batch 3420 Loss 1.8182\n",
            "Epoch 2 Batch 3440 Loss 1.7249\n",
            "Epoch 2 Batch 3460 Loss 1.5785\n",
            "Epoch 2 Batch 3480 Loss 1.6463\n",
            "Epoch 2 Batch 3500 Loss 1.9928\n",
            "Epoch 2 Batch 3520 Loss 1.7666\n",
            "Epoch 2 Batch 3540 Loss 1.8047\n",
            "Epoch 2 Batch 3560 Loss 2.0874\n",
            "Epoch 2 Batch 3580 Loss 1.9296\n",
            "Epoch 2 Batch 3600 Loss 1.9821\n",
            "Epoch 2 Batch 3620 Loss 1.7830\n",
            "Epoch 2 Batch 3640 Loss 1.9023\n",
            "Epoch 2 Batch 3660 Loss 1.6301\n",
            "Epoch 2 Batch 3680 Loss 1.7095\n",
            "Epoch 2 Batch 3700 Loss 2.1243\n",
            "Epoch 2 Batch 3720 Loss 2.0224\n",
            "Epoch 2 Batch 3740 Loss 1.9436\n",
            "Epoch 2 Batch 3760 Loss 1.8640\n",
            "Epoch 2 Batch 3780 Loss 2.0697\n",
            "Epoch 2 Batch 3800 Loss 1.7416\n",
            "Epoch 2 Batch 3820 Loss 1.5197\n",
            "Epoch 2 Batch 3840 Loss 1.9483\n",
            "Epoch 2 Batch 3860 Loss 1.7865\n",
            "Epoch 2 Batch 3880 Loss 1.9872\n",
            "Epoch 2 Batch 3900 Loss 1.5862\n",
            "Epoch 2 Batch 3920 Loss 1.7186\n",
            "Epoch 2 Batch 3940 Loss 2.1636\n",
            "Epoch 2 Batch 3960 Loss 1.9011\n",
            "Epoch 2 Batch 3980 Loss 2.0026\n",
            "Epoch 2 Batch 4000 Loss 1.6516\n",
            "Epoch 2 Batch 4020 Loss 1.7150\n",
            "Epoch 2 Batch 4040 Loss 1.8707\n",
            "Epoch 2 Loss 1.8940\n",
            "Time taken for 1 epoch 881.9850373268127 sec\n",
            "\n",
            "Epoch 3 Batch 0 Loss 1.7858\n",
            "Epoch 3 Batch 20 Loss 1.7390\n",
            "Epoch 3 Batch 40 Loss 1.7895\n",
            "Epoch 3 Batch 60 Loss 2.0520\n",
            "Epoch 3 Batch 80 Loss 1.7114\n",
            "Epoch 3 Batch 100 Loss 2.0122\n",
            "Epoch 3 Batch 120 Loss 1.5303\n",
            "Epoch 3 Batch 140 Loss 1.8230\n",
            "Epoch 3 Batch 160 Loss 1.9647\n",
            "Epoch 3 Batch 180 Loss 1.6410\n",
            "Epoch 3 Batch 200 Loss 1.2860\n",
            "Epoch 3 Batch 220 Loss 1.7482\n",
            "Epoch 3 Batch 240 Loss 1.6896\n",
            "Epoch 3 Batch 260 Loss 1.7393\n",
            "Epoch 3 Batch 280 Loss 1.7182\n",
            "Epoch 3 Batch 300 Loss 1.6831\n",
            "Epoch 3 Batch 320 Loss 1.6779\n",
            "Epoch 3 Batch 340 Loss 1.4434\n",
            "Epoch 3 Batch 360 Loss 1.8254\n",
            "Epoch 3 Batch 380 Loss 1.7123\n",
            "Epoch 3 Batch 400 Loss 2.0829\n",
            "Epoch 3 Batch 420 Loss 2.0766\n",
            "Epoch 3 Batch 440 Loss 1.5718\n",
            "Epoch 3 Batch 460 Loss 1.8335\n",
            "Epoch 3 Batch 480 Loss 1.6687\n",
            "Epoch 3 Batch 500 Loss 2.2811\n",
            "Epoch 3 Batch 520 Loss 1.9027\n",
            "Epoch 3 Batch 540 Loss 1.6799\n",
            "Epoch 3 Batch 560 Loss 2.1169\n",
            "Epoch 3 Batch 580 Loss 2.0654\n",
            "Epoch 3 Batch 600 Loss 2.0151\n",
            "Epoch 3 Batch 620 Loss 2.0425\n",
            "Epoch 3 Batch 640 Loss 1.8550\n",
            "Epoch 3 Batch 660 Loss 1.7467\n",
            "Epoch 3 Batch 680 Loss 1.7977\n",
            "Epoch 3 Batch 700 Loss 1.7666\n",
            "Epoch 3 Batch 720 Loss 1.4193\n",
            "Epoch 3 Batch 740 Loss 2.3328\n",
            "Epoch 3 Batch 760 Loss 1.7691\n",
            "Epoch 3 Batch 780 Loss 1.7982\n",
            "Epoch 3 Batch 800 Loss 1.8637\n",
            "Epoch 3 Batch 820 Loss 1.9446\n",
            "Epoch 3 Batch 840 Loss 2.3193\n",
            "Epoch 3 Batch 860 Loss 1.9737\n",
            "Epoch 3 Batch 880 Loss 1.7994\n",
            "Epoch 3 Batch 900 Loss 1.9103\n",
            "Epoch 3 Batch 920 Loss 2.1845\n",
            "Epoch 3 Batch 940 Loss 1.6566\n",
            "Epoch 3 Batch 960 Loss 1.4856\n",
            "Epoch 3 Batch 980 Loss 1.9600\n",
            "Epoch 3 Batch 1000 Loss 2.0020\n",
            "Epoch 3 Batch 1020 Loss 2.0726\n",
            "Epoch 3 Batch 1040 Loss 1.7334\n",
            "Epoch 3 Batch 1060 Loss 2.0045\n",
            "Epoch 3 Batch 1080 Loss 1.6856\n",
            "Epoch 3 Batch 1100 Loss 1.8664\n",
            "Epoch 3 Batch 1120 Loss 1.7319\n",
            "Epoch 3 Batch 1140 Loss 1.8460\n",
            "Epoch 3 Batch 1160 Loss 1.8841\n",
            "Epoch 3 Batch 1180 Loss 1.5037\n",
            "Epoch 3 Batch 1200 Loss 1.9502\n",
            "Epoch 3 Batch 1220 Loss 1.6013\n",
            "Epoch 3 Batch 1240 Loss 1.9482\n",
            "Epoch 3 Batch 1260 Loss 1.8547\n",
            "Epoch 3 Batch 1280 Loss 1.6233\n",
            "Epoch 3 Batch 1300 Loss 1.8024\n",
            "Epoch 3 Batch 1320 Loss 1.8520\n",
            "Epoch 3 Batch 1340 Loss 1.5209\n",
            "Epoch 3 Batch 1360 Loss 2.1281\n",
            "Epoch 3 Batch 1380 Loss 1.9743\n",
            "Epoch 3 Batch 1400 Loss 1.5482\n",
            "Epoch 3 Batch 1420 Loss 1.7334\n",
            "Epoch 3 Batch 1440 Loss 1.4700\n",
            "Epoch 3 Batch 1460 Loss 1.6218\n",
            "Epoch 3 Batch 1480 Loss 1.8664\n",
            "Epoch 3 Batch 1500 Loss 1.7812\n",
            "Epoch 3 Batch 1520 Loss 1.6706\n",
            "Epoch 3 Batch 1540 Loss 1.7113\n",
            "Epoch 3 Batch 1560 Loss 1.5970\n",
            "Epoch 3 Batch 1580 Loss 1.3928\n",
            "Epoch 3 Batch 1600 Loss 1.6464\n",
            "Epoch 3 Batch 1620 Loss 1.6890\n",
            "Epoch 3 Batch 1640 Loss 1.7820\n",
            "Epoch 3 Batch 1660 Loss 1.9318\n",
            "Epoch 3 Batch 1680 Loss 1.6465\n",
            "Epoch 3 Batch 1700 Loss 1.5831\n",
            "Epoch 3 Batch 1720 Loss 1.8884\n",
            "Epoch 3 Batch 1740 Loss 1.7646\n",
            "Epoch 3 Batch 1760 Loss 1.8224\n",
            "Epoch 3 Batch 1780 Loss 2.0497\n",
            "Epoch 3 Batch 1800 Loss 1.8534\n",
            "Epoch 3 Batch 1820 Loss 1.6854\n",
            "Epoch 3 Batch 1840 Loss 1.6273\n",
            "Epoch 3 Batch 1860 Loss 1.6831\n",
            "Epoch 3 Batch 1880 Loss 1.8880\n",
            "Epoch 3 Batch 1900 Loss 2.0966\n",
            "Epoch 3 Batch 1920 Loss 1.7888\n",
            "Epoch 3 Batch 1940 Loss 2.1043\n",
            "Epoch 3 Batch 1960 Loss 1.7172\n",
            "Epoch 3 Batch 1980 Loss 1.7315\n",
            "Epoch 3 Batch 2000 Loss 1.5584\n",
            "Epoch 3 Batch 2020 Loss 1.7875\n",
            "Epoch 3 Batch 2040 Loss 1.7643\n",
            "Epoch 3 Batch 2060 Loss 2.1683\n",
            "Epoch 3 Batch 2080 Loss 1.6158\n",
            "Epoch 3 Batch 2100 Loss 1.9251\n",
            "Epoch 3 Batch 2120 Loss 1.6657\n",
            "Epoch 3 Batch 2140 Loss 1.9866\n",
            "Epoch 3 Batch 2160 Loss 1.8331\n",
            "Epoch 3 Batch 2180 Loss 1.8347\n",
            "Epoch 3 Batch 2200 Loss 1.5729\n",
            "Epoch 3 Batch 2220 Loss 1.8378\n",
            "Epoch 3 Batch 2240 Loss 1.9047\n",
            "Epoch 3 Batch 2260 Loss 1.9154\n",
            "Epoch 3 Batch 2280 Loss 1.7818\n",
            "Epoch 3 Batch 2300 Loss 2.0559\n",
            "Epoch 3 Batch 2320 Loss 1.6031\n",
            "Epoch 3 Batch 2340 Loss 1.6349\n",
            "Epoch 3 Batch 2360 Loss 2.0253\n",
            "Epoch 3 Batch 2380 Loss 1.6908\n",
            "Epoch 3 Batch 2400 Loss 1.8996\n",
            "Epoch 3 Batch 2420 Loss 1.7675\n",
            "Epoch 3 Batch 2440 Loss 1.8565\n",
            "Epoch 3 Batch 2460 Loss 2.0106\n",
            "Epoch 3 Batch 2480 Loss 1.6547\n",
            "Epoch 3 Batch 2500 Loss 1.6665\n",
            "Epoch 3 Batch 2520 Loss 1.8066\n",
            "Epoch 3 Batch 2540 Loss 1.7483\n",
            "Epoch 3 Batch 2560 Loss 1.8183\n",
            "Epoch 3 Batch 2580 Loss 1.6147\n",
            "Epoch 3 Batch 2600 Loss 2.0702\n",
            "Epoch 3 Batch 2620 Loss 2.0985\n",
            "Epoch 3 Batch 2640 Loss 1.6234\n",
            "Epoch 3 Batch 2660 Loss 1.6437\n",
            "Epoch 3 Batch 2680 Loss 1.6152\n",
            "Epoch 3 Batch 2700 Loss 2.0053\n",
            "Epoch 3 Batch 2720 Loss 1.6582\n",
            "Epoch 3 Batch 2740 Loss 1.4011\n",
            "Epoch 3 Batch 2760 Loss 1.6191\n",
            "Epoch 3 Batch 2780 Loss 1.7611\n",
            "Epoch 3 Batch 2800 Loss 1.5783\n",
            "Epoch 3 Batch 2820 Loss 1.6966\n",
            "Epoch 3 Batch 2840 Loss 1.9444\n",
            "Epoch 3 Batch 2860 Loss 1.9190\n",
            "Epoch 3 Batch 2880 Loss 1.5774\n",
            "Epoch 3 Batch 2900 Loss 1.7008\n",
            "Epoch 3 Batch 2920 Loss 1.6065\n",
            "Epoch 3 Batch 2940 Loss 1.6959\n",
            "Epoch 3 Batch 2960 Loss 1.8594\n",
            "Epoch 3 Batch 2980 Loss 1.8976\n",
            "Epoch 3 Batch 3000 Loss 2.1378\n",
            "Epoch 3 Batch 3020 Loss 1.6697\n",
            "Epoch 3 Batch 3040 Loss 2.0772\n",
            "Epoch 3 Batch 3060 Loss 2.0680\n",
            "Epoch 3 Batch 3080 Loss 1.8732\n",
            "Epoch 3 Batch 3100 Loss 1.9877\n",
            "Epoch 3 Batch 3120 Loss 1.6515\n",
            "Epoch 3 Batch 3140 Loss 1.8893\n",
            "Epoch 3 Batch 3160 Loss 1.8012\n",
            "Epoch 3 Batch 3180 Loss 1.7505\n",
            "Epoch 3 Batch 3200 Loss 1.4351\n",
            "Epoch 3 Batch 3220 Loss 1.2954\n",
            "Epoch 3 Batch 3240 Loss 1.8091\n",
            "Epoch 3 Batch 3260 Loss 2.0491\n",
            "Epoch 3 Batch 3280 Loss 1.9653\n",
            "Epoch 3 Batch 3300 Loss 1.5460\n",
            "Epoch 3 Batch 3320 Loss 1.5090\n",
            "Epoch 3 Batch 3340 Loss 1.6965\n",
            "Epoch 3 Batch 3360 Loss 1.8315\n",
            "Epoch 3 Batch 3380 Loss 1.7008\n",
            "Epoch 3 Batch 3400 Loss 2.0648\n",
            "Epoch 3 Batch 3420 Loss 1.7786\n",
            "Epoch 3 Batch 3440 Loss 1.6681\n",
            "Epoch 3 Batch 3460 Loss 1.5261\n",
            "Epoch 3 Batch 3480 Loss 1.6047\n",
            "Epoch 3 Batch 3500 Loss 1.9047\n",
            "Epoch 3 Batch 3520 Loss 1.6999\n",
            "Epoch 3 Batch 3540 Loss 1.7448\n",
            "Epoch 3 Batch 3560 Loss 2.0261\n",
            "Epoch 3 Batch 3580 Loss 1.8854\n",
            "Epoch 3 Batch 3600 Loss 1.9371\n",
            "Epoch 3 Batch 3620 Loss 1.7406\n",
            "Epoch 3 Batch 3640 Loss 1.8487\n",
            "Epoch 3 Batch 3660 Loss 1.5828\n",
            "Epoch 3 Batch 3680 Loss 1.6826\n",
            "Epoch 3 Batch 3700 Loss 2.0576\n",
            "Epoch 3 Batch 3720 Loss 1.9663\n",
            "Epoch 3 Batch 3740 Loss 1.8938\n",
            "Epoch 3 Batch 3760 Loss 1.8363\n",
            "Epoch 3 Batch 3780 Loss 2.0188\n",
            "Epoch 3 Batch 3800 Loss 1.6961\n",
            "Epoch 3 Batch 3820 Loss 1.4706\n",
            "Epoch 3 Batch 3840 Loss 1.8921\n",
            "Epoch 3 Batch 3860 Loss 1.7334\n",
            "Epoch 3 Batch 3880 Loss 1.9222\n",
            "Epoch 3 Batch 3900 Loss 1.5294\n",
            "Epoch 3 Batch 3920 Loss 1.6735\n",
            "Epoch 3 Batch 3940 Loss 2.1073\n",
            "Epoch 3 Batch 3960 Loss 1.8459\n",
            "Epoch 3 Batch 3980 Loss 1.9438\n",
            "Epoch 3 Batch 4000 Loss 1.6124\n",
            "Epoch 3 Batch 4020 Loss 1.6625\n",
            "Epoch 3 Batch 4040 Loss 1.8157\n",
            "Epoch 3 Loss 1.8282\n",
            "Time taken for 1 epoch 879.5591633319855 sec\n",
            "\n"
          ],
          "name": "stdout"
        }
      ]
    },
    {
      "cell_type": "code",
      "metadata": {
        "id": "0UhZG5Yb3G91",
        "colab_type": "code",
        "colab": {}
      },
      "source": [
        "max_length_inp = 19\n",
        "max_length_targ = 19\n",
        "\n",
        "def evaluate(sentence):\n",
        "    sentence = clean_text(sentence)\n",
        "\n",
        "    inputs = [vocab[i] for i in sentence.split(' ')]\n",
        "    inputs = tf.keras.preprocessing.sequence.pad_sequences([inputs],\n",
        "                                                           maxlen=max_length_inp,\n",
        "                                                           padding='post')\n",
        "    inputs = tf.convert_to_tensor(inputs)\n",
        "\n",
        "    result = ''\n",
        "\n",
        "    hidden = [tf.zeros((1, units))]\n",
        "    enc_out, enc_hidden = encoder(inputs, hidden)\n",
        "\n",
        "    dec_hidden = enc_hidden\n",
        "    dec_input = tf.expand_dims([vocab['<start>']], 0)\n",
        "\n",
        "    for t in range(max_length_targ):\n",
        "        predictions, dec_hidden, attention_weights = decoder(dec_input,\n",
        "                                                             dec_hidden,\n",
        "                                                             enc_out)\n",
        "\n",
        "        predicted_id = tf.argmax(predictions[0]).numpy()\n",
        "\n",
        "        result += rev_word_index[predicted_id] + ' '\n",
        "\n",
        "        if rev_word_index[predicted_id] == '<end>':\n",
        "            return result, sentence\n",
        "\n",
        "        # the predicted ID is fed back into the model\n",
        "        dec_input = tf.expand_dims([predicted_id], 0)\n",
        "\n",
        "    return result, sentence"
      ],
      "execution_count": 0,
      "outputs": []
    },
    {
      "cell_type": "code",
      "metadata": {
        "id": "UT8oxZ-Qo9qH",
        "colab_type": "code",
        "colab": {}
      },
      "source": [
        "def respond(sentence):\n",
        "    result, sentence = evaluate(sentence)\n",
        "\n",
        "    print('Input: %s' % (sentence))\n",
        "    print('Predicted translation: {}'.format(result))"
      ],
      "execution_count": 0,
      "outputs": []
    },
    {
      "cell_type": "code",
      "metadata": {
        "id": "DP1IRGFRtn3Z",
        "colab_type": "code",
        "colab": {
          "base_uri": "https://localhost:8080/",
          "height": 51
        },
        "outputId": "8cf6d8e8-a601-4002-edc2-725c7b96c620"
      },
      "source": [
        "respond('hello')"
      ],
      "execution_count": 83,
      "outputs": [
        {
          "output_type": "stream",
          "text": [
            "Input: <start> hello <end>\n",
            "Predicted translation: i am not going to be a little . <end> \n"
          ],
          "name": "stdout"
        }
      ]
    },
    {
      "cell_type": "code",
      "metadata": {
        "id": "QqzvoADPt5oc",
        "colab_type": "code",
        "colab": {
          "base_uri": "https://localhost:8080/",
          "height": 51
        },
        "outputId": "67b9d1ee-0231-4a80-8730-97273ce39f5d"
      },
      "source": [
        "respond('what a beautiful day')"
      ],
      "execution_count": 85,
      "outputs": [
        {
          "output_type": "stream",
          "text": [
            "Input: <start> what a beautiful day <end>\n",
            "Predicted translation: i am not going to be a little . <end> \n"
          ],
          "name": "stdout"
        }
      ]
    },
    {
      "cell_type": "code",
      "metadata": {
        "id": "BkgwG_0-1aa9",
        "colab_type": "code",
        "colab": {
          "base_uri": "https://localhost:8080/",
          "height": 51
        },
        "outputId": "c68bab57-0f64-4116-e222-3f2e46bbb5f5"
      },
      "source": [
        "respond('make this quick')"
      ],
      "execution_count": 86,
      "outputs": [
        {
          "output_type": "stream",
          "text": [
            "Input: <start> make this quick <end>\n",
            "Predicted translation: i am not going to be a little . <end> \n"
          ],
          "name": "stdout"
        }
      ]
    },
    {
      "cell_type": "code",
      "metadata": {
        "id": "Q6dZyHP21rRn",
        "colab_type": "code",
        "colab": {
          "base_uri": "https://localhost:8080/",
          "height": 34
        },
        "outputId": "fe409956-5c1c-4d58-b292-28376a2f3ae4"
      },
      "source": [
        "clean_questions[0]"
      ],
      "execution_count": 88,
      "outputs": [
        {
          "output_type": "execute_result",
          "data": {
            "text/plain": [
              "'<start> well , i thought we would start with pronunciation , if that is okay with you . <end>'"
            ]
          },
          "metadata": {
            "tags": []
          },
          "execution_count": 88
        }
      ]
    },
    {
      "cell_type": "code",
      "metadata": {
        "id": "ocNaW48s26BQ",
        "colab_type": "code",
        "colab": {
          "base_uri": "https://localhost:8080/",
          "height": 51
        },
        "outputId": "623b40c7-e4ba-4418-8024-a3a037ca335d"
      },
      "source": [
        "respond('well , i thought we would start with pronunciation , if that is okay with you')"
      ],
      "execution_count": 89,
      "outputs": [
        {
          "output_type": "stream",
          "text": [
            "Input: <start> well , i thought we would start with pronunciation , if that is okay with you <end>\n",
            "Predicted translation: i am not going to be a little . <end> \n"
          ],
          "name": "stdout"
        }
      ]
    },
    {
      "cell_type": "code",
      "metadata": {
        "id": "wuwCRS0d3FDt",
        "colab_type": "code",
        "colab": {}
      },
      "source": [
        ""
      ],
      "execution_count": 0,
      "outputs": []
    }
  ]
}