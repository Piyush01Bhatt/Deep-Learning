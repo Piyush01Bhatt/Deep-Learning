{
  "nbformat": 4,
  "nbformat_minor": 0,
  "metadata": {
    "colab": {
      "name": "Machine Translation.ipynb",
      "version": "0.3.2",
      "provenance": [],
      "collapsed_sections": [],
      "include_colab_link": true
    },
    "kernelspec": {
      "name": "python3",
      "display_name": "Python 3"
    },
    "accelerator": "GPU"
  },
  "cells": [
    {
      "cell_type": "markdown",
      "metadata": {
        "id": "view-in-github",
        "colab_type": "text"
      },
      "source": [
        "<a href=\"https://colab.research.google.com/github/Piyush01Bhatt/Deep-Learning/blob/master/Machine_Translation.ipynb\" target=\"_parent\"><img src=\"https://colab.research.google.com/assets/colab-badge.svg\" alt=\"Open In Colab\"/></a>"
      ]
    },
    {
      "cell_type": "code",
      "metadata": {
        "id": "37l2H5bfzi8h",
        "colab_type": "code",
        "outputId": "695b8604-5b59-4185-fee7-2cefdd584007",
        "colab": {
          "base_uri": "https://localhost:8080/",
          "height": 69
        }
      },
      "source": [
        "!pip install -q tensorflow-gpu==2.0.0-beta1"
      ],
      "execution_count": 0,
      "outputs": [
        {
          "output_type": "stream",
          "text": [
            "\u001b[K     |████████████████████████████████| 348.9MB 66kB/s \n",
            "\u001b[K     |████████████████████████████████| 501kB 39.2MB/s \n",
            "\u001b[K     |████████████████████████████████| 3.1MB 29.6MB/s \n",
            "\u001b[?25h"
          ],
          "name": "stdout"
        }
      ]
    },
    {
      "cell_type": "code",
      "metadata": {
        "id": "3K12HK2v0fFn",
        "colab_type": "code",
        "colab": {}
      },
      "source": [
        "import tensorflow as tf\n",
        "import matplotlib.pyplot as plt\n",
        "import matplotlib.ticker as ticker\n",
        "from sklearn.model_selection import train_test_split\n",
        "\n",
        "import unicodedata\n",
        "import re\n",
        "import numpy as np\n",
        "import os\n",
        "import io\n",
        "import time"
      ],
      "execution_count": 0,
      "outputs": []
    },
    {
      "cell_type": "code",
      "metadata": {
        "id": "eJOzENIw1ZqC",
        "colab_type": "code",
        "outputId": "12c8cc54-5efd-47c0-db5f-382dcb857464",
        "colab": {
          "base_uri": "https://localhost:8080/",
          "height": 34
        }
      },
      "source": [
        "tf.__version__"
      ],
      "execution_count": 0,
      "outputs": [
        {
          "output_type": "execute_result",
          "data": {
            "text/plain": [
              "'2.0.0-beta1'"
            ]
          },
          "metadata": {
            "tags": []
          },
          "execution_count": 3
        }
      ]
    },
    {
      "cell_type": "code",
      "metadata": {
        "id": "EPvW1g3w1dKt",
        "colab_type": "code",
        "outputId": "d127fb8f-5422-4bc3-82d0-f2d3ea1c4c56",
        "colab": {
          "base_uri": "https://localhost:8080/",
          "height": 208
        }
      },
      "source": [
        "!wget http://www.manythings.org/anki/hin-eng.zip"
      ],
      "execution_count": 0,
      "outputs": [
        {
          "output_type": "stream",
          "text": [
            "--2019-08-14 12:38:01--  http://www.manythings.org/anki/hin-eng.zip\n",
            "Resolving www.manythings.org (www.manythings.org)... 104.24.108.196, 104.24.109.196, 2606:4700:30::6818:6cc4, ...\n",
            "Connecting to www.manythings.org (www.manythings.org)|104.24.108.196|:80... connected.\n",
            "HTTP request sent, awaiting response... 200 OK\n",
            "Length: 89831 (88K) [application/zip]\n",
            "Saving to: ‘hin-eng.zip’\n",
            "\n",
            "\rhin-eng.zip           0%[                    ]       0  --.-KB/s               \rhin-eng.zip          57%[==========>         ]  50.41K   213KB/s               \rhin-eng.zip         100%[===================>]  87.73K   369KB/s    in 0.2s    \n",
            "\n",
            "2019-08-14 12:38:01 (369 KB/s) - ‘hin-eng.zip’ saved [89831/89831]\n",
            "\n"
          ],
          "name": "stdout"
        }
      ]
    },
    {
      "cell_type": "code",
      "metadata": {
        "id": "EFBFVeMr2J7n",
        "colab_type": "code",
        "outputId": "7a03d071-b888-4e07-af7a-11ace1244914",
        "colab": {
          "base_uri": "https://localhost:8080/",
          "height": 69
        }
      },
      "source": [
        "!unzip hin-eng.zip"
      ],
      "execution_count": 0,
      "outputs": [
        {
          "output_type": "stream",
          "text": [
            "Archive:  hin-eng.zip\n",
            "  inflating: hin.txt                 \n",
            "  inflating: _about.txt              \n"
          ],
          "name": "stdout"
        }
      ]
    },
    {
      "cell_type": "code",
      "metadata": {
        "id": "a2tWxEaO2PPR",
        "colab_type": "code",
        "outputId": "2db31695-65f3-4aa6-c9f9-4f66d60d7c35",
        "colab": {
          "base_uri": "https://localhost:8080/",
          "height": 34
        }
      },
      "source": [
        "with open('hin.txt','r') as f:\n",
        "  data = f.read().splitlines()\n",
        "print(data[0])"
      ],
      "execution_count": 0,
      "outputs": [
        {
          "output_type": "stream",
          "text": [
            "Wow!\tवाह!\n"
          ],
          "name": "stdout"
        }
      ]
    },
    {
      "cell_type": "code",
      "metadata": {
        "id": "oWEvy6pe5ohC",
        "colab_type": "code",
        "colab": {}
      },
      "source": [
        "eng,hin = data[2807].split('\\t')"
      ],
      "execution_count": 0,
      "outputs": []
    },
    {
      "cell_type": "code",
      "metadata": {
        "id": "AYh8uS6h52A-",
        "colab_type": "code",
        "outputId": "1a86c087-9e6e-4d90-dd89-daef418c0280",
        "colab": {
          "base_uri": "https://localhost:8080/",
          "height": 34
        }
      },
      "source": [
        "eng"
      ],
      "execution_count": 0,
      "outputs": [
        {
          "output_type": "execute_result",
          "data": {
            "text/plain": [
              "\"Make a good translation of the sentence that you are translating. Don't let translations into other languages influence you.\""
            ]
          },
          "metadata": {
            "tags": []
          },
          "execution_count": 8
        }
      ]
    },
    {
      "cell_type": "code",
      "metadata": {
        "id": "3t6ew4V96s5D",
        "colab_type": "code",
        "outputId": "da62b1bd-66dd-491f-e4ee-fe5da6b6b3ab",
        "colab": {
          "base_uri": "https://localhost:8080/",
          "height": 34
        }
      },
      "source": [
        "hin"
      ],
      "execution_count": 0,
      "outputs": [
        {
          "output_type": "execute_result",
          "data": {
            "text/plain": [
              "'आप जिस वाक्य का अनुवाद कर रहे हैं, उस ही का अच्छी तरह से अनुवाद करें। दूसरी भाषाओं के अनुवादों से प्रभावित न होने दें।'"
            ]
          },
          "metadata": {
            "tags": []
          },
          "execution_count": 9
        }
      ]
    },
    {
      "cell_type": "code",
      "metadata": {
        "id": "lnjNjRCA6u6m",
        "colab_type": "code",
        "outputId": "db85c914-aa83-422d-e82b-2ec1f012d5fd",
        "colab": {
          "base_uri": "https://localhost:8080/",
          "height": 34
        }
      },
      "source": [
        "hin[-1] == '।'"
      ],
      "execution_count": 0,
      "outputs": [
        {
          "output_type": "execute_result",
          "data": {
            "text/plain": [
              "True"
            ]
          },
          "metadata": {
            "tags": []
          },
          "execution_count": 10
        }
      ]
    },
    {
      "cell_type": "code",
      "metadata": {
        "id": "Bw4EEpok6xRp",
        "colab_type": "code",
        "outputId": "7aeba848-b711-4233-bcf3-4d5f0df4b992",
        "colab": {
          "base_uri": "https://localhost:8080/",
          "height": 34
        }
      },
      "source": [
        "len(data)"
      ],
      "execution_count": 0,
      "outputs": [
        {
          "output_type": "execute_result",
          "data": {
            "text/plain": [
              "2808"
            ]
          },
          "metadata": {
            "tags": []
          },
          "execution_count": 11
        }
      ]
    },
    {
      "cell_type": "code",
      "metadata": {
        "id": "wXXwThxK8aqf",
        "colab_type": "code",
        "colab": {}
      },
      "source": [
        "def preprocess_sentence(w,typ='hin'):\n",
        "  if typ == 'eng':\n",
        "    w = w.lower().strip()\n",
        "    w = re.sub(r\"i'm\",\"i am\", w)\n",
        "    w = re.sub(r\"he's\",\"he is\", w)\n",
        "    w = re.sub(r\"she's\",\"she is\", w)\n",
        "    w = re.sub(r\"that's\",\"that is\", w)\n",
        "    w = re.sub(r\"it's\",\"it is\", w)\n",
        "    w = re.sub(r\"what's\",\"what is\", w)\n",
        "    w = re.sub(r\"where's\",\"where is\", w)\n",
        "    w = re.sub(r\"who's\",\"who is\", w)\n",
        "    w = re.sub(r\"\\'ll\",\" will\", w)\n",
        "    w = re.sub(r\"\\'ve\",\" have\", w)\n",
        "    w = re.sub(r\"\\'d\",\" would\", w)\n",
        "    w = re.sub(r\"\\'re\",\" are\", w)\n",
        "    w = re.sub(r\"won't\",\"will not\", w)\n",
        "    w = re.sub(r\"can't\",\"cannot\", w)\n",
        "    w = re.sub(r\"don't\",\"do not\", w)\n",
        "    w = re.sub(r\"did't\",\"did not\", w)\n",
        "    \n",
        "  w = re.sub(r\"([?.!,।])\",r\" \\1 \",w)\n",
        "  w = re.sub(r'[\" \"]+', \" \", w)\n",
        "  \n",
        "  if typ == 'eng':\n",
        "    w = re.sub(r\"[^a-zA-Z?.!,]+\",\" \", w)\n",
        "  \n",
        "  w = w.rstrip().strip()\n",
        "  w = '<start> ' + w + ' <end>'\n",
        "  return w\n",
        "\n"
      ],
      "execution_count": 0,
      "outputs": []
    },
    {
      "cell_type": "code",
      "metadata": {
        "id": "ohQquDxfE4uE",
        "colab_type": "code",
        "outputId": "625c2d88-b03f-4865-8ae5-9c9b79a67f33",
        "colab": {
          "base_uri": "https://localhost:8080/",
          "height": 34
        }
      },
      "source": [
        "print(preprocess_sentence(hin))"
      ],
      "execution_count": 0,
      "outputs": [
        {
          "output_type": "stream",
          "text": [
            "<start> आप जिस वाक्य का अनुवाद कर रहे हैं , उस ही का अच्छी तरह से अनुवाद करें । दूसरी भाषाओं के अनुवादों से प्रभावित न होने दें । <end>\n"
          ],
          "name": "stdout"
        }
      ]
    },
    {
      "cell_type": "code",
      "metadata": {
        "id": "hmAkhnQHFmI4",
        "colab_type": "code",
        "outputId": "1f5f656a-b0d0-475e-c386-774c36bc5cc9",
        "colab": {
          "base_uri": "https://localhost:8080/",
          "height": 34
        }
      },
      "source": [
        "print(preprocess_sentence(eng,typ='eng'))"
      ],
      "execution_count": 0,
      "outputs": [
        {
          "output_type": "stream",
          "text": [
            "<start> make a good translation of the sentence that you are translating . do not let translations into other languages influence you . <end>\n"
          ],
          "name": "stdout"
        }
      ]
    },
    {
      "cell_type": "code",
      "metadata": {
        "id": "OUYmoXCRJn4Z",
        "colab_type": "code",
        "outputId": "b54c22ea-4182-4927-f67d-c00a0413516b",
        "colab": {
          "base_uri": "https://localhost:8080/",
          "height": 72
        }
      },
      "source": [
        "eng_data = []\n",
        "hin_data = []\n",
        "for line in data:\n",
        "  eng,hin = line.split('\\t')\n",
        "  eng_data.append(preprocess_sentence(eng,typ='eng'))\n",
        "  hin_data.append(preprocess_sentence(hin))\n",
        "print(eng_data[0:10])\n",
        "print(hin_data[0:10])"
      ],
      "execution_count": 0,
      "outputs": [
        {
          "output_type": "stream",
          "text": [
            "['<start> wow ! <end>', '<start> help ! <end>', '<start> jump . <end>', '<start> jump . <end>', '<start> jump . <end>', '<start> hello ! <end>', '<start> hello ! <end>', '<start> cheers ! <end>', '<start> cheers ! <end>', '<start> got it ? <end>']\n",
            "['<start> वाह ! <end>', '<start> बचाओ ! <end>', '<start> उछलो . <end>', '<start> कूदो . <end>', '<start> छलांग . <end>', '<start> नमस्ते । <end>', '<start> नमस्कार । <end>', '<start> वाह-वाह ! <end>', '<start> चियर्स ! <end>', '<start> समझे कि नहीं ? <end>']\n"
          ],
          "name": "stdout"
        }
      ]
    },
    {
      "cell_type": "code",
      "metadata": {
        "id": "610ihM01OSAp",
        "colab_type": "code",
        "colab": {}
      },
      "source": [
        "def tokenize(lang):\n",
        "  lang_tokenizer = tf.keras.preprocessing.text.Tokenizer(filters='',oov_token = '<oov>')\n",
        "  lang_tokenizer.fit_on_texts(lang,)\n",
        "  tensor = lang_tokenizer.texts_to_sequences(lang)\n",
        "  tensor = tf.keras.preprocessing.sequence.pad_sequences(tensor,padding='post')\n",
        "  return tensor, lang_tokenizer"
      ],
      "execution_count": 0,
      "outputs": []
    },
    {
      "cell_type": "code",
      "metadata": {
        "id": "tKEJW5FySNNm",
        "colab_type": "code",
        "colab": {}
      },
      "source": [
        "eng_data = np.array(eng_data)\n",
        "hin_data = np.array(hin_data)\n",
        "np.random.seed(5)\n",
        "msk = np.random.rand(len(eng_data)) < 0.8"
      ],
      "execution_count": 0,
      "outputs": []
    },
    {
      "cell_type": "code",
      "metadata": {
        "id": "ScH-i0BtVnII",
        "colab_type": "code",
        "outputId": "d3c4dec3-ea7d-41c4-bb86-18401f12d53a",
        "colab": {
          "base_uri": "https://localhost:8080/",
          "height": 34
        }
      },
      "source": [
        "msk"
      ],
      "execution_count": 0,
      "outputs": [
        {
          "output_type": "execute_result",
          "data": {
            "text/plain": [
              "array([ True, False,  True, ...,  True,  True,  True])"
            ]
          },
          "metadata": {
            "tags": []
          },
          "execution_count": 18
        }
      ]
    },
    {
      "cell_type": "code",
      "metadata": {
        "id": "Xig-BaT0W0Ja",
        "colab_type": "code",
        "colab": {}
      },
      "source": [
        "eng_tensor,eng_tokenizer = tokenize(eng_data)\n",
        "hin_tensor,hin_tokenizer = tokenize(hin_data)"
      ],
      "execution_count": 0,
      "outputs": []
    },
    {
      "cell_type": "code",
      "metadata": {
        "id": "6n9y2vIFYktK",
        "colab_type": "code",
        "outputId": "2d732f61-e267-4c1d-83bf-566f156febb8",
        "colab": {
          "base_uri": "https://localhost:8080/",
          "height": 34
        }
      },
      "source": [
        "len(eng_tokenizer.word_index)"
      ],
      "execution_count": 0,
      "outputs": [
        {
          "output_type": "execute_result",
          "data": {
            "text/plain": [
              "2329"
            ]
          },
          "metadata": {
            "tags": []
          },
          "execution_count": 20
        }
      ]
    },
    {
      "cell_type": "code",
      "metadata": {
        "id": "rxP1NhoBYtGQ",
        "colab_type": "code",
        "outputId": "3748388c-4ccf-40c6-e9e5-a79758c8bdfc",
        "colab": {
          "base_uri": "https://localhost:8080/",
          "height": 34
        }
      },
      "source": [
        "len(hin_tokenizer.word_index)"
      ],
      "execution_count": 0,
      "outputs": [
        {
          "output_type": "execute_result",
          "data": {
            "text/plain": [
              "2873"
            ]
          },
          "metadata": {
            "tags": []
          },
          "execution_count": 21
        }
      ]
    },
    {
      "cell_type": "code",
      "metadata": {
        "id": "vyuSs9V0Y7L8",
        "colab_type": "code",
        "colab": {}
      },
      "source": [
        "train_eng = eng_tensor[msk]\n",
        "train_hin = hin_tensor[msk]\n",
        "test_eng = eng_tensor[~msk]\n",
        "test_hin = hin_tensor[~msk]"
      ],
      "execution_count": 0,
      "outputs": []
    },
    {
      "cell_type": "code",
      "metadata": {
        "id": "dxgg4pj7abT2",
        "colab_type": "code",
        "outputId": "1a7ffbdf-aa88-4ed1-df9b-65c6afbd0333",
        "colab": {
          "base_uri": "https://localhost:8080/",
          "height": 52
        }
      },
      "source": [
        "test_eng[0]"
      ],
      "execution_count": 0,
      "outputs": [
        {
          "output_type": "execute_result",
          "data": {
            "text/plain": [
              "array([ 2, 95, 62,  3,  0,  0,  0,  0,  0,  0,  0,  0,  0,  0,  0,  0,  0,\n",
              "        0,  0,  0,  0,  0,  0,  0,  0,  0,  0,  0], dtype=int32)"
            ]
          },
          "metadata": {
            "tags": []
          },
          "execution_count": 23
        }
      ]
    },
    {
      "cell_type": "code",
      "metadata": {
        "id": "M_Ak9Q4Za7Zs",
        "colab_type": "code",
        "outputId": "4c79270d-75c5-4424-8968-adb31a2943d7",
        "colab": {
          "base_uri": "https://localhost:8080/",
          "height": 69
        }
      },
      "source": [
        "test_hin[0]"
      ],
      "execution_count": 0,
      "outputs": [
        {
          "output_type": "execute_result",
          "data": {
            "text/plain": [
              "array([   2, 1421,   75,    3,    0,    0,    0,    0,    0,    0,    0,\n",
              "          0,    0,    0,    0,    0,    0,    0,    0,    0,    0,    0,\n",
              "          0,    0,    0,    0,    0,    0,    0,    0], dtype=int32)"
            ]
          },
          "metadata": {
            "tags": []
          },
          "execution_count": 24
        }
      ]
    },
    {
      "cell_type": "code",
      "metadata": {
        "id": "v6ekDwRlcPRT",
        "colab_type": "code",
        "colab": {}
      },
      "source": [
        "reverse_eng_word_index = {v:k for k,v in eng_tokenizer.word_index.items()}\n",
        "reverse_hin_word_index = {v:k for k,v in hin_tokenizer.word_index.items()}"
      ],
      "execution_count": 0,
      "outputs": []
    },
    {
      "cell_type": "code",
      "metadata": {
        "id": "p8O7LTcva_ag",
        "colab_type": "code",
        "outputId": "ee8b6090-aa32-4684-8df7-5aea5a1b77ee",
        "colab": {
          "base_uri": "https://localhost:8080/",
          "height": 34
        }
      },
      "source": [
        "w = []\n",
        "for word in test_eng[0]:\n",
        "  if word in reverse_eng_word_index:\n",
        "    w.append(reverse_eng_word_index[word])\n",
        "print(w)"
      ],
      "execution_count": 0,
      "outputs": [
        {
          "output_type": "stream",
          "text": [
            "['<start>', 'help', '!', '<end>']\n"
          ],
          "name": "stdout"
        }
      ]
    },
    {
      "cell_type": "code",
      "metadata": {
        "id": "_v0Y-el6bzgA",
        "colab_type": "code",
        "outputId": "eec878a3-891e-4bb0-f5b5-19a2903a9a9d",
        "colab": {
          "base_uri": "https://localhost:8080/",
          "height": 34
        }
      },
      "source": [
        "w = []\n",
        "for word in test_hin[0]:\n",
        "  if word in reverse_hin_word_index:\n",
        "    w.append(reverse_hin_word_index[word])\n",
        "print(w)"
      ],
      "execution_count": 0,
      "outputs": [
        {
          "output_type": "stream",
          "text": [
            "['<start>', 'बचाओ', '!', '<end>']\n"
          ],
          "name": "stdout"
        }
      ]
    },
    {
      "cell_type": "code",
      "metadata": {
        "id": "lFMx8GQ6OJAm",
        "colab_type": "code",
        "colab": {}
      },
      "source": [
        "BUFFER_SIZE = len(eng_tensor)\n",
        "BATCH_SIZE = 64\n",
        "steps_per_epoch = len(eng_tensor)//BATCH_SIZE\n",
        "embedding_dim = 256\n",
        "units = 1024\n",
        "vocab_input_size = len(eng_tokenizer.word_index)+1\n",
        "vocab_tar_size = len(hin_tokenizer.word_index)+1\n",
        "\n",
        "dataset = tf.data.Dataset.from_tensor_slices((eng_tensor,hin_tensor)).shuffle(BUFFER_SIZE)\n",
        "dataset = dataset.batch(BATCH_SIZE, drop_remainder=True)"
      ],
      "execution_count": 0,
      "outputs": []
    },
    {
      "cell_type": "code",
      "metadata": {
        "id": "qEd2PPpwTOM8",
        "colab_type": "code",
        "outputId": "04ffcbca-36d4-4803-964f-abf883c02377",
        "colab": {
          "base_uri": "https://localhost:8080/",
          "height": 34
        }
      },
      "source": [
        "ex_inp_batch, ex_tar_batch = next(iter(dataset))\n",
        "ex_inp_batch.shape, ex_tar_batch.shape"
      ],
      "execution_count": 0,
      "outputs": [
        {
          "output_type": "execute_result",
          "data": {
            "text/plain": [
              "(TensorShape([64, 28]), TensorShape([64, 30]))"
            ]
          },
          "metadata": {
            "tags": []
          },
          "execution_count": 29
        }
      ]
    },
    {
      "cell_type": "markdown",
      "metadata": {
        "id": "wsnqkT5rPkjs",
        "colab_type": "text"
      },
      "source": [
        "**ENCODER**"
      ]
    },
    {
      "cell_type": "code",
      "metadata": {
        "id": "B2fcZAt8cFNV",
        "colab_type": "code",
        "colab": {}
      },
      "source": [
        "class Encoder(tf.keras.Model):\n",
        "\n",
        "  def __init__(self, vocab_size, embedding_dim, enc_units, batch_sz):\n",
        "    super(Encoder, self).__init__()\n",
        "    self.batch_sz = batch_sz\n",
        "    self.enc_units = enc_units\n",
        "    self.embedding = tf.keras.layers.Embedding(vocab_size, embedding_dim)\n",
        "    self.gru = tf.keras.layers.GRU(self.enc_units,\n",
        "                                   return_sequences = True,\n",
        "                                   return_state = True,\n",
        "                                   recurrent_initializer = 'glorot_uniform')\n",
        "    \n",
        "  def call(self, x, hidden):\n",
        "    x = self.embedding(x)\n",
        "    output, state = self.gru(x, initial_state = hidden)\n",
        "    return output, state\n",
        "    \n",
        "  def initialize_hidden_state(self):\n",
        "    return tf.zeros((self.batch_sz, self.enc_units))\n",
        "    "
      ],
      "execution_count": 0,
      "outputs": []
    },
    {
      "cell_type": "code",
      "metadata": {
        "id": "nNs_4XvwMU1e",
        "colab_type": "code",
        "outputId": "e2efccfb-2f88-4ff9-c727-f90cc89abde6",
        "colab": {
          "base_uri": "https://localhost:8080/",
          "height": 52
        }
      },
      "source": [
        "encoder = Encoder(vocab_input_size, embedding_dim, units, BATCH_SIZE)\n",
        "\n",
        "# SAMPLE INPUT\n",
        "sample_hidden = encoder.initialize_hidden_state()\n",
        "sample_output, sample_hidden = encoder(ex_inp_batch, sample_hidden)\n",
        "\n",
        "print (f'Encoder output shape: (batch size, sequence length, units) {sample_output.shape}')\n",
        "print (f'Encoder Hidden state shape: (batch size, units) {sample_hidden.shape}')"
      ],
      "execution_count": 0,
      "outputs": [
        {
          "output_type": "stream",
          "text": [
            "Encoder output shape: (batch size, sequence length, units) (64, 28, 1024)\n",
            "Encoder Hidden state shape: (batch size, units) (64, 1024)\n"
          ],
          "name": "stdout"
        }
      ]
    },
    {
      "cell_type": "markdown",
      "metadata": {
        "id": "lZDRabVkPtL5",
        "colab_type": "text"
      },
      "source": [
        "**Bahdanau Attention**"
      ]
    },
    {
      "cell_type": "code",
      "metadata": {
        "id": "QVqe7bc2WGk6",
        "colab_type": "code",
        "colab": {}
      },
      "source": [
        "class BahdanauAttention(tf.keras.Model):\n",
        "  def __init__(self, units):\n",
        "    super(BahdanauAttention,self).__init__()\n",
        "    self.W1 = tf.keras.layers.Dense(units)\n",
        "    self.W2 = tf.keras.layers.Dense(units)\n",
        "    self.V = tf.keras.layers.Dense(1)\n",
        "  \n",
        "  def call(self, query, values):\n",
        "    hidden_with_time_axis = tf.expand_dims(query,1) # dimension == (batch,1,hidden_size)\n",
        "    score = self.V(tf.nn.tanh(\n",
        "        self.W1(values) + self.W2(hidden_with_time_axis)\n",
        "    ))\n",
        "    attention_weights = tf.nn.softmax(score, axis=1) # dimension = (batch, max_seq_length, 1)\n",
        "\n",
        "    context_vector = attention_weights * values  # dimension = (batch, max_seq_length,hidden_size)\n",
        "    context_vector = tf.reduce_sum(context_vector, axis=1) #dimension = (batch, hidden_size)\n",
        "\n",
        "    return context_vector, attention_weights\n"
      ],
      "execution_count": 0,
      "outputs": []
    },
    {
      "cell_type": "code",
      "metadata": {
        "id": "N_OBZG06TVrR",
        "colab_type": "code",
        "outputId": "8f1f7930-0846-4f26-99e5-8ed5a73b265f",
        "colab": {
          "base_uri": "https://localhost:8080/",
          "height": 52
        }
      },
      "source": [
        "attention_layer = BahdanauAttention(10)\n",
        "attention_result, attention_weights = attention_layer(sample_hidden, sample_output)\n",
        "\n",
        "print(\"Attention result shape: (batch size, units) {}\".format(attention_result.shape))\n",
        "print(\"Attention weights shape: (batch_size, sequence_length, 1) {}\".format(attention_weights.shape))"
      ],
      "execution_count": 0,
      "outputs": [
        {
          "output_type": "stream",
          "text": [
            "Attention result shape: (batch size, units) (64, 1024)\n",
            "Attention weights shape: (batch_size, sequence_length, 1) (64, 28, 1)\n"
          ],
          "name": "stdout"
        }
      ]
    },
    {
      "cell_type": "markdown",
      "metadata": {
        "id": "OoCBggoZP2Q2",
        "colab_type": "text"
      },
      "source": [
        "**DECODER**"
      ]
    },
    {
      "cell_type": "code",
      "metadata": {
        "id": "P8E_fAjwTbj7",
        "colab_type": "code",
        "colab": {}
      },
      "source": [
        "class Decoder(tf.keras.Model):\n",
        "  def __init__(self, vocab_size, embedding_dim, dec_units, batch_sz):\n",
        "    super(Decoder,self).__init__()\n",
        "    self.batch_sz = batch_sz\n",
        "    self.dec_units = dec_units\n",
        "    self.embedding = tf.keras.layers.Embedding(vocab_size, embedding_dim)\n",
        "    self.gru = tf.keras.layers.GRU(self.dec_units,\n",
        "                                   return_sequences = True,\n",
        "                                   return_state = True,\n",
        "                                   recurrent_initializer = 'glorot_uniform')\n",
        "    self.fc = tf.keras.layers.Dense(vocab_size)\n",
        "    self.attention = BahdanauAttention(self.dec_units)\n",
        "\n",
        "  def call(self, x, hidden, enc_output):\n",
        "    context_vector, attention_weights = self.attention(hidden, enc_output)\n",
        "    x = self.embedding(x) # dims_out = (batch, 1, embedding_dims)\n",
        "    x = tf.concat([tf.expand_dims(context_vector, axis=1),x], axis=-1)\n",
        "    output,state = self.gru(x)\n",
        "    # output shape == (batch_size * 1, hidden_size)\n",
        "    output = tf.reshape(output, (-1, output.shape[2]))\n",
        "    # output shape == (batch_size, vocab)\n",
        "    x = self.fc(output)\n",
        "    return x, state, attention_weights"
      ],
      "execution_count": 0,
      "outputs": []
    },
    {
      "cell_type": "code",
      "metadata": {
        "id": "lu7agEMnYZU6",
        "colab_type": "code",
        "outputId": "5044b0b5-6a87-4545-9d37-a99aafb47508",
        "colab": {
          "base_uri": "https://localhost:8080/",
          "height": 34
        }
      },
      "source": [
        "decoder = Decoder(vocab_tar_size, embedding_dim, units, BATCH_SIZE)\n",
        "\n",
        "sample_decoder_output, _, _ = decoder(tf.random.uniform((64, 1)),\n",
        "                                      sample_hidden, sample_output)\n",
        "\n",
        "print (f'Decoder output shape: (batch_size, vocab size) {sample_decoder_output.shape}')"
      ],
      "execution_count": 0,
      "outputs": [
        {
          "output_type": "stream",
          "text": [
            "Decoder output shape: (batch_size, vocab size) (64, 2874)\n"
          ],
          "name": "stdout"
        }
      ]
    },
    {
      "cell_type": "markdown",
      "metadata": {
        "id": "kgje4Y7mY-mi",
        "colab_type": "text"
      },
      "source": [
        "**Optimizer and loss functions**"
      ]
    },
    {
      "cell_type": "code",
      "metadata": {
        "id": "zTF2rCTzYvdk",
        "colab_type": "code",
        "colab": {}
      },
      "source": [
        "optimizer = tf.keras.optimizers.Adam()\n",
        "loss_object = tf.keras.losses.SparseCategoricalCrossentropy(\n",
        "    from_logits=True, reduction='none')\n",
        "\n",
        "def loss_function(real, pred):\n",
        "  mask = tf.math.logical_not(tf.math.equal(real, 0))\n",
        "  loss_ = loss_object(real, pred)\n",
        "\n",
        "  mask = tf.cast(mask, dtype=loss_.dtype)\n",
        "  loss_ *= mask\n",
        "\n",
        "  return tf.reduce_mean(loss_)"
      ],
      "execution_count": 0,
      "outputs": []
    },
    {
      "cell_type": "markdown",
      "metadata": {
        "id": "I3VcvXKYOuQU",
        "colab_type": "text"
      },
      "source": [
        " **Creating Checkpoint**"
      ]
    },
    {
      "cell_type": "code",
      "metadata": {
        "id": "bgzC_9vJOsG_",
        "colab_type": "code",
        "colab": {}
      },
      "source": [
        "checkpoint_dir = '/training_checkpoints'\n",
        "checkpoint_prefix = os.path.join(checkpoint_dir,'ckpt')\n",
        "checkpoint = tf.train.Checkpoint(optimizer=optimizer,\n",
        "                                 encoder=encoder,\n",
        "                                 decoder=decoder)"
      ],
      "execution_count": 0,
      "outputs": []
    },
    {
      "cell_type": "markdown",
      "metadata": {
        "id": "0sUcg-CMP9-b",
        "colab_type": "text"
      },
      "source": [
        "**Training**"
      ]
    },
    {
      "cell_type": "code",
      "metadata": {
        "id": "pPCi_VUCOb1_",
        "colab_type": "code",
        "colab": {}
      },
      "source": [
        "@tf.function\n",
        "def train_step(inp,tar,enc_hidden):\n",
        "  loss = 0\n",
        "\n",
        "  with tf.GradientTape() as tape:\n",
        "    enc_output, enc_hidden = encoder(inp,enc_hidden)\n",
        "    dec_hidden = enc_hidden\n",
        "    dec_input = tf.expand_dims([hin_tokenizer.word_index['<start>']]*BATCH_SIZE,1)\n",
        "    for t in range(1, targ.shape[1]):\n",
        "      # passing enc_output to the decoder\n",
        "      predictions, dec_hidden, _ = decoder(dec_input, dec_hidden, enc_output)\n",
        "\n",
        "      loss += loss_function(targ[:, t], predictions)\n",
        "\n",
        "      # using teacher forcing\n",
        "      dec_input = tf.expand_dims(targ[:, t], 1)\n",
        "    \n",
        "    batch_loss = (loss / int(targ.shape[1]))\n",
        "\n",
        "    variables = encoder.trainable_variables + decoder.trainable_variables\n",
        "\n",
        "    gradients = tape.gradient(loss, variables)\n",
        "\n",
        "    optimizer.apply_gradients(zip(gradients, variables))\n",
        "\n",
        "    return batch_loss"
      ],
      "execution_count": 0,
      "outputs": []
    },
    {
      "cell_type": "code",
      "metadata": {
        "id": "FeSXg0v7UN91",
        "colab_type": "code",
        "outputId": "2595ed60-e444-44fb-974f-b2eaf1f657ef",
        "colab": {
          "base_uri": "https://localhost:8080/",
          "height": 1000
        }
      },
      "source": [
        "EPOCHS = 20\n",
        "\n",
        "for epoch in range(EPOCHS):\n",
        "  start = time.time()\n",
        "\n",
        "  enc_hidden = encoder.initialize_hidden_state()\n",
        "  total_loss = 0\n",
        "\n",
        "  for (batch, (inp, targ)) in enumerate(dataset.take(steps_per_epoch)):\n",
        "    batch_loss = train_step(inp, targ, enc_hidden)\n",
        "    total_loss += batch_loss\n",
        "\n",
        "    if batch % 2 == 0:\n",
        "        print('Epoch {} Batch {} Loss {:.4f}'.format(epoch + 1,\n",
        "                                                     batch,\n",
        "                                                     batch_loss.numpy()))\n",
        "  # saving (checkpoint) the model every 2 epochs\n",
        "  if (epoch + 1) % 2 == 0:\n",
        "    checkpoint.save(file_prefix = checkpoint_prefix)\n",
        "\n",
        "  print('Epoch {} Loss {:.4f}'.format(epoch + 1,\n",
        "                                      total_loss / steps_per_epoch))\n",
        "  print('Time taken for 1 epoch {} sec\\n'.format(time.time() - start))"
      ],
      "execution_count": 0,
      "outputs": [
        {
          "output_type": "stream",
          "text": [
            "Epoch 1 Batch 0 Loss 2.4054\n",
            "Epoch 1 Batch 2 Loss 2.3593\n",
            "Epoch 1 Batch 4 Loss 2.1187\n",
            "Epoch 1 Batch 6 Loss 1.5574\n",
            "Epoch 1 Batch 8 Loss 1.5463\n",
            "Epoch 1 Batch 10 Loss 1.5462\n",
            "Epoch 1 Batch 12 Loss 1.5421\n",
            "Epoch 1 Batch 14 Loss 1.5096\n",
            "Epoch 1 Batch 16 Loss 1.4582\n",
            "Epoch 1 Batch 18 Loss 1.4322\n",
            "Epoch 1 Batch 20 Loss 1.4313\n",
            "Epoch 1 Batch 22 Loss 1.4273\n",
            "Epoch 1 Batch 24 Loss 1.4043\n",
            "Epoch 1 Batch 26 Loss 1.3917\n",
            "Epoch 1 Batch 28 Loss 1.3801\n",
            "Epoch 1 Batch 30 Loss 1.3667\n",
            "Epoch 1 Batch 32 Loss 1.3522\n",
            "Epoch 1 Batch 34 Loss 1.3363\n",
            "Epoch 1 Batch 36 Loss 1.3207\n",
            "Epoch 1 Batch 38 Loss 1.3032\n",
            "Epoch 1 Batch 40 Loss 1.2854\n",
            "Epoch 1 Batch 42 Loss 1.2656\n",
            "Epoch 1 Loss 1.5217\n",
            "Time taken for 1 epoch 107.23817014694214 sec\n",
            "\n",
            "Epoch 2 Batch 0 Loss 1.2545\n",
            "Epoch 2 Batch 2 Loss 1.2325\n",
            "Epoch 2 Batch 4 Loss 1.2056\n",
            "Epoch 2 Batch 6 Loss 1.1755\n",
            "Epoch 2 Batch 8 Loss 1.1418\n",
            "Epoch 2 Batch 10 Loss 1.1064\n",
            "Epoch 2 Batch 12 Loss 1.0680\n",
            "Epoch 2 Batch 14 Loss 1.0280\n",
            "Epoch 2 Batch 16 Loss 0.9843\n",
            "Epoch 2 Batch 18 Loss 0.9411\n",
            "Epoch 2 Batch 20 Loss 0.8945\n",
            "Epoch 2 Batch 22 Loss 0.8535\n",
            "Epoch 2 Batch 24 Loss 0.8047\n",
            "Epoch 2 Batch 26 Loss 0.7641\n",
            "Epoch 2 Batch 28 Loss 0.7128\n",
            "Epoch 2 Batch 30 Loss 0.6757\n",
            "Epoch 2 Batch 32 Loss 0.6247\n",
            "Epoch 2 Batch 34 Loss 0.5837\n",
            "Epoch 2 Batch 36 Loss 0.5383\n",
            "Epoch 2 Batch 38 Loss 0.4981\n",
            "Epoch 2 Batch 40 Loss 0.4580\n",
            "Epoch 2 Batch 42 Loss 0.4219\n",
            "Epoch 2 Loss 0.8628\n",
            "Time taken for 1 epoch 23.17737650871277 sec\n",
            "\n",
            "Epoch 3 Batch 0 Loss 0.4080\n",
            "Epoch 3 Batch 2 Loss 0.3807\n",
            "Epoch 3 Batch 4 Loss 0.3531\n",
            "Epoch 3 Batch 6 Loss 0.3313\n",
            "Epoch 3 Batch 8 Loss 0.3119\n",
            "Epoch 3 Batch 10 Loss 0.2965\n",
            "Epoch 3 Batch 12 Loss 0.2881\n",
            "Epoch 3 Batch 14 Loss 0.3221\n",
            "Epoch 3 Batch 16 Loss 0.2917\n",
            "Epoch 3 Batch 18 Loss 0.2810\n",
            "Epoch 3 Batch 20 Loss 0.2657\n",
            "Epoch 3 Batch 22 Loss 0.2569\n",
            "Epoch 3 Batch 24 Loss 0.2518\n",
            "Epoch 3 Batch 26 Loss 0.2433\n",
            "Epoch 3 Batch 28 Loss 0.2389\n",
            "Epoch 3 Batch 30 Loss 0.2353\n",
            "Epoch 3 Batch 32 Loss 0.2296\n",
            "Epoch 3 Batch 34 Loss 0.2254\n",
            "Epoch 3 Batch 36 Loss 0.2218\n",
            "Epoch 3 Batch 38 Loss 0.2168\n",
            "Epoch 3 Batch 40 Loss 0.2134\n",
            "Epoch 3 Batch 42 Loss 0.2114\n",
            "Epoch 3 Loss 0.2738\n",
            "Time taken for 1 epoch 22.654402494430542 sec\n",
            "\n",
            "Epoch 4 Batch 0 Loss 0.2100\n",
            "Epoch 4 Batch 2 Loss 0.2084\n",
            "Epoch 4 Batch 4 Loss 0.2039\n",
            "Epoch 4 Batch 6 Loss 0.2021\n",
            "Epoch 4 Batch 8 Loss 0.2003\n",
            "Epoch 4 Batch 10 Loss 0.1962\n",
            "Epoch 4 Batch 12 Loss 0.1952\n",
            "Epoch 4 Batch 14 Loss 0.1950\n",
            "Epoch 4 Batch 16 Loss 0.3086\n",
            "Epoch 4 Batch 18 Loss 0.2866\n",
            "Epoch 4 Batch 20 Loss 0.2840\n",
            "Epoch 4 Batch 22 Loss 0.2551\n",
            "Epoch 4 Batch 24 Loss 0.2442\n",
            "Epoch 4 Batch 26 Loss 0.2353\n",
            "Epoch 4 Batch 28 Loss 0.2356\n",
            "Epoch 4 Batch 30 Loss 0.2187\n",
            "Epoch 4 Batch 32 Loss 0.2172\n",
            "Epoch 4 Batch 34 Loss 0.2126\n",
            "Epoch 4 Batch 36 Loss 0.2049\n",
            "Epoch 4 Batch 38 Loss 0.2023\n",
            "Epoch 4 Batch 40 Loss 0.1977\n",
            "Epoch 4 Batch 42 Loss 0.1946\n",
            "Epoch 4 Loss 0.2250\n",
            "Time taken for 1 epoch 23.19455647468567 sec\n",
            "\n",
            "Epoch 5 Batch 0 Loss 0.1932\n",
            "Epoch 5 Batch 2 Loss 0.1912\n",
            "Epoch 5 Batch 4 Loss 0.1888\n",
            "Epoch 5 Batch 6 Loss 0.1868\n",
            "Epoch 5 Batch 8 Loss 0.1846\n",
            "Epoch 5 Batch 10 Loss 0.1871\n",
            "Epoch 5 Batch 12 Loss 0.1817\n",
            "Epoch 5 Batch 14 Loss 0.1806\n",
            "Epoch 5 Batch 16 Loss 0.1806\n",
            "Epoch 5 Batch 18 Loss 0.1831\n",
            "Epoch 5 Batch 20 Loss 0.1769\n",
            "Epoch 5 Batch 22 Loss 0.1755\n",
            "Epoch 5 Batch 24 Loss 0.1751\n",
            "Epoch 5 Batch 26 Loss 0.1738\n",
            "Epoch 5 Batch 28 Loss 0.1728\n",
            "Epoch 5 Batch 30 Loss 0.1720\n",
            "Epoch 5 Batch 32 Loss 0.1713\n",
            "Epoch 5 Batch 34 Loss 0.1702\n",
            "Epoch 5 Batch 36 Loss 0.1694\n",
            "Epoch 5 Batch 38 Loss 0.1683\n",
            "Epoch 5 Batch 40 Loss 0.1678\n",
            "Epoch 5 Batch 42 Loss 0.1672\n",
            "Epoch 5 Loss 0.1779\n",
            "Time taken for 1 epoch 22.744906663894653 sec\n",
            "\n",
            "Epoch 6 Batch 0 Loss 0.1666\n",
            "Epoch 6 Batch 2 Loss 0.1658\n",
            "Epoch 6 Batch 4 Loss 0.1648\n",
            "Epoch 6 Batch 6 Loss 0.1644\n",
            "Epoch 6 Batch 8 Loss 0.1632\n",
            "Epoch 6 Batch 10 Loss 0.1649\n",
            "Epoch 6 Batch 12 Loss 0.1612\n",
            "Epoch 6 Batch 14 Loss 0.1613\n",
            "Epoch 6 Batch 16 Loss 0.1607\n",
            "Epoch 6 Batch 18 Loss 0.1630\n",
            "Epoch 6 Batch 20 Loss 0.1588\n",
            "Epoch 6 Batch 22 Loss 0.1576\n",
            "Epoch 6 Batch 24 Loss 0.1583\n",
            "Epoch 6 Batch 26 Loss 0.1569\n",
            "Epoch 6 Batch 28 Loss 0.1560\n",
            "Epoch 6 Batch 30 Loss 0.1552\n",
            "Epoch 6 Batch 32 Loss 0.1551\n",
            "Epoch 6 Batch 34 Loss 0.2008\n",
            "Epoch 6 Batch 36 Loss 0.1711\n",
            "Epoch 6 Batch 38 Loss 0.1709\n",
            "Epoch 6 Batch 40 Loss 0.3477\n",
            "Epoch 6 Batch 42 Loss 0.2747\n",
            "Epoch 6 Loss 0.1716\n",
            "Time taken for 1 epoch 23.19688582420349 sec\n",
            "\n",
            "Epoch 7 Batch 0 Loss 0.2241\n",
            "Epoch 7 Batch 2 Loss 0.1970\n",
            "Epoch 7 Batch 4 Loss 0.1938\n",
            "Epoch 7 Batch 6 Loss 0.1863\n",
            "Epoch 7 Batch 8 Loss 0.1830\n",
            "Epoch 7 Batch 10 Loss 0.1791\n",
            "Epoch 7 Batch 12 Loss 0.1774\n",
            "Epoch 7 Batch 14 Loss 0.1717\n",
            "Epoch 7 Batch 16 Loss 0.1719\n",
            "Epoch 7 Batch 18 Loss 0.1686\n",
            "Epoch 7 Batch 20 Loss 0.1656\n",
            "Epoch 7 Batch 22 Loss 0.1644\n",
            "Epoch 7 Batch 24 Loss 0.1631\n",
            "Epoch 7 Batch 26 Loss 0.1607\n",
            "Epoch 7 Batch 28 Loss 0.1594\n",
            "Epoch 7 Batch 30 Loss 0.1581\n",
            "Epoch 7 Batch 32 Loss 0.1581\n",
            "Epoch 7 Batch 34 Loss 0.1581\n",
            "Epoch 7 Batch 36 Loss 0.1565\n",
            "Epoch 7 Batch 38 Loss 0.1551\n",
            "Epoch 7 Batch 40 Loss 0.1552\n",
            "Epoch 7 Batch 42 Loss 0.1541\n",
            "Epoch 7 Loss 0.1702\n",
            "Time taken for 1 epoch 22.650508165359497 sec\n",
            "\n",
            "Epoch 8 Batch 0 Loss 0.1540\n",
            "Epoch 8 Batch 2 Loss 0.1534\n",
            "Epoch 8 Batch 4 Loss 0.1520\n",
            "Epoch 8 Batch 6 Loss 0.1518\n",
            "Epoch 8 Batch 8 Loss 0.1515\n",
            "Epoch 8 Batch 10 Loss 0.1510\n",
            "Epoch 8 Batch 12 Loss 0.1505\n",
            "Epoch 8 Batch 14 Loss 0.1503\n",
            "Epoch 8 Batch 16 Loss 0.1498\n",
            "Epoch 8 Batch 18 Loss 0.1492\n",
            "Epoch 8 Batch 20 Loss 0.1487\n",
            "Epoch 8 Batch 22 Loss 0.1490\n",
            "Epoch 8 Batch 24 Loss 0.1492\n",
            "Epoch 8 Batch 26 Loss 0.1477\n",
            "Epoch 8 Batch 28 Loss 0.1478\n",
            "Epoch 8 Batch 30 Loss 0.1468\n",
            "Epoch 8 Batch 32 Loss 0.1475\n",
            "Epoch 8 Batch 34 Loss 0.1468\n",
            "Epoch 8 Batch 36 Loss 0.1472\n",
            "Epoch 8 Batch 38 Loss 0.1454\n",
            "Epoch 8 Batch 40 Loss 0.1460\n",
            "Epoch 8 Batch 42 Loss 0.1476\n",
            "Epoch 8 Loss 0.1491\n",
            "Time taken for 1 epoch 23.156567096710205 sec\n",
            "\n",
            "Epoch 9 Batch 0 Loss 0.1462\n",
            "Epoch 9 Batch 2 Loss 0.1470\n",
            "Epoch 9 Batch 4 Loss 0.1459\n",
            "Epoch 9 Batch 6 Loss 0.1450\n",
            "Epoch 9 Batch 8 Loss 0.1441\n",
            "Epoch 9 Batch 10 Loss 0.1440\n",
            "Epoch 9 Batch 12 Loss 0.1430\n",
            "Epoch 9 Batch 14 Loss 0.1449\n",
            "Epoch 9 Batch 16 Loss 0.1446\n",
            "Epoch 9 Batch 18 Loss 0.1445\n",
            "Epoch 9 Batch 20 Loss 0.1441\n",
            "Epoch 9 Batch 22 Loss 0.1449\n",
            "Epoch 9 Batch 24 Loss 0.1453\n",
            "Epoch 9 Batch 26 Loss 0.1429\n",
            "Epoch 9 Batch 28 Loss 0.1444\n",
            "Epoch 9 Batch 30 Loss 0.1411\n",
            "Epoch 9 Batch 32 Loss 0.1419\n",
            "Epoch 9 Batch 34 Loss 0.1417\n",
            "Epoch 9 Batch 36 Loss 0.1440\n",
            "Epoch 9 Batch 38 Loss 0.1409\n",
            "Epoch 9 Batch 40 Loss 0.1396\n",
            "Epoch 9 Batch 42 Loss 0.1442\n",
            "Epoch 9 Loss 0.1436\n",
            "Time taken for 1 epoch 22.750842809677124 sec\n",
            "\n",
            "Epoch 10 Batch 0 Loss 0.1399\n",
            "Epoch 10 Batch 2 Loss 0.1485\n",
            "Epoch 10 Batch 4 Loss 0.1456\n",
            "Epoch 10 Batch 6 Loss 0.1439\n",
            "Epoch 10 Batch 8 Loss 0.1417\n",
            "Epoch 10 Batch 10 Loss 0.1417\n",
            "Epoch 10 Batch 12 Loss 0.1388\n",
            "Epoch 10 Batch 14 Loss 0.1415\n",
            "Epoch 10 Batch 16 Loss 0.1424\n",
            "Epoch 10 Batch 18 Loss 0.1393\n",
            "Epoch 10 Batch 20 Loss 0.1403\n",
            "Epoch 10 Batch 22 Loss 0.1422\n",
            "Epoch 10 Batch 24 Loss 0.1480\n",
            "Epoch 10 Batch 26 Loss 0.1406\n",
            "Epoch 10 Batch 28 Loss 0.1406\n",
            "Epoch 10 Batch 30 Loss 0.1381\n",
            "Epoch 10 Batch 32 Loss 0.1407\n",
            "Epoch 10 Batch 34 Loss 0.1406\n",
            "Epoch 10 Batch 36 Loss 0.1413\n",
            "Epoch 10 Batch 38 Loss 0.1369\n",
            "Epoch 10 Batch 40 Loss 0.1363\n",
            "Epoch 10 Batch 42 Loss 0.1383\n",
            "Epoch 10 Loss 0.1409\n",
            "Time taken for 1 epoch 23.236043691635132 sec\n",
            "\n",
            "Epoch 11 Batch 0 Loss 0.1352\n",
            "Epoch 11 Batch 2 Loss 0.1388\n",
            "Epoch 11 Batch 4 Loss 0.1394\n",
            "Epoch 11 Batch 6 Loss 0.1432\n",
            "Epoch 11 Batch 8 Loss 0.1382\n",
            "Epoch 11 Batch 10 Loss 0.1379\n",
            "Epoch 11 Batch 12 Loss 0.1372\n",
            "Epoch 11 Batch 14 Loss 0.1425\n",
            "Epoch 11 Batch 16 Loss 0.1407\n",
            "Epoch 11 Batch 18 Loss 0.1381\n",
            "Epoch 11 Batch 20 Loss 0.1440\n",
            "Epoch 11 Batch 22 Loss 0.1380\n",
            "Epoch 11 Batch 24 Loss 0.1482\n",
            "Epoch 11 Batch 26 Loss 0.1457\n",
            "Epoch 11 Batch 28 Loss 0.1417\n",
            "Epoch 11 Batch 30 Loss 0.1403\n",
            "Epoch 11 Batch 32 Loss 0.1382\n",
            "Epoch 11 Batch 34 Loss 0.1377\n",
            "Epoch 11 Batch 36 Loss 0.1395\n",
            "Epoch 11 Batch 38 Loss 0.1354\n",
            "Epoch 11 Batch 40 Loss 0.1350\n",
            "Epoch 11 Batch 42 Loss 0.1373\n",
            "Epoch 11 Loss 0.1397\n",
            "Time taken for 1 epoch 22.740074396133423 sec\n",
            "\n",
            "Epoch 12 Batch 0 Loss 0.1322\n",
            "Epoch 12 Batch 2 Loss 0.1363\n",
            "Epoch 12 Batch 4 Loss 0.1336\n",
            "Epoch 12 Batch 6 Loss 0.1334\n",
            "Epoch 12 Batch 8 Loss 0.1360\n",
            "Epoch 12 Batch 10 Loss 0.1486\n",
            "Epoch 12 Batch 12 Loss 0.1429\n",
            "Epoch 12 Batch 14 Loss 0.1405\n",
            "Epoch 12 Batch 16 Loss 0.1615\n",
            "Epoch 12 Batch 18 Loss 0.1370\n",
            "Epoch 12 Batch 20 Loss 0.1488\n",
            "Epoch 12 Batch 22 Loss 0.1383\n",
            "Epoch 12 Batch 24 Loss 0.1425\n",
            "Epoch 12 Batch 26 Loss 0.1369\n",
            "Epoch 12 Batch 28 Loss 0.1424\n",
            "Epoch 12 Batch 30 Loss 0.1354\n",
            "Epoch 12 Batch 32 Loss 0.1364\n",
            "Epoch 12 Batch 34 Loss 0.1352\n",
            "Epoch 12 Batch 36 Loss 0.1383\n",
            "Epoch 12 Batch 38 Loss 0.1351\n",
            "Epoch 12 Batch 40 Loss 0.1364\n",
            "Epoch 12 Batch 42 Loss 0.1347\n",
            "Epoch 12 Loss 0.1390\n",
            "Time taken for 1 epoch 23.59572696685791 sec\n",
            "\n",
            "Epoch 13 Batch 0 Loss 0.1320\n",
            "Epoch 13 Batch 2 Loss 0.1345\n",
            "Epoch 13 Batch 4 Loss 0.1357\n",
            "Epoch 13 Batch 6 Loss 0.1377\n",
            "Epoch 13 Batch 8 Loss 0.1307\n",
            "Epoch 13 Batch 10 Loss 0.1390\n",
            "Epoch 13 Batch 12 Loss 0.1401\n",
            "Epoch 13 Batch 14 Loss 0.1368\n",
            "Epoch 13 Batch 16 Loss 0.1379\n",
            "Epoch 13 Batch 18 Loss 0.1324\n",
            "Epoch 13 Batch 20 Loss 0.1368\n",
            "Epoch 13 Batch 22 Loss 0.1351\n",
            "Epoch 13 Batch 24 Loss 0.1341\n",
            "Epoch 13 Batch 26 Loss 0.1331\n",
            "Epoch 13 Batch 28 Loss 0.1401\n",
            "Epoch 13 Batch 30 Loss 0.1313\n",
            "Epoch 13 Batch 32 Loss 0.1343\n",
            "Epoch 13 Batch 34 Loss 0.1337\n",
            "Epoch 13 Batch 36 Loss 0.1412\n",
            "Epoch 13 Batch 38 Loss 0.1345\n",
            "Epoch 13 Batch 40 Loss 0.1344\n",
            "Epoch 13 Batch 42 Loss 0.1335\n",
            "Epoch 13 Loss 0.1349\n",
            "Time taken for 1 epoch 22.766319751739502 sec\n",
            "\n",
            "Epoch 14 Batch 0 Loss 0.1338\n",
            "Epoch 14 Batch 2 Loss 0.1324\n",
            "Epoch 14 Batch 4 Loss 0.1331\n",
            "Epoch 14 Batch 6 Loss 0.1293\n",
            "Epoch 14 Batch 8 Loss 0.1255\n",
            "Epoch 14 Batch 10 Loss 0.1332\n",
            "Epoch 14 Batch 12 Loss 0.1269\n",
            "Epoch 14 Batch 14 Loss 0.1318\n",
            "Epoch 14 Batch 16 Loss 0.1319\n",
            "Epoch 14 Batch 18 Loss 0.1273\n",
            "Epoch 14 Batch 20 Loss 0.1334\n",
            "Epoch 14 Batch 22 Loss 0.1315\n",
            "Epoch 14 Batch 24 Loss 0.1331\n",
            "Epoch 14 Batch 26 Loss 0.1280\n",
            "Epoch 14 Batch 28 Loss 0.1411\n",
            "Epoch 14 Batch 30 Loss 0.1258\n",
            "Epoch 14 Batch 32 Loss 0.1390\n",
            "Epoch 14 Batch 34 Loss 0.1304\n",
            "Epoch 14 Batch 36 Loss 0.1456\n",
            "Epoch 14 Batch 38 Loss 0.1335\n",
            "Epoch 14 Batch 40 Loss 0.1396\n",
            "Epoch 14 Batch 42 Loss 0.1313\n",
            "Epoch 14 Loss 0.1324\n",
            "Time taken for 1 epoch 23.24957823753357 sec\n",
            "\n",
            "Epoch 15 Batch 0 Loss 0.1311\n",
            "Epoch 15 Batch 2 Loss 0.1408\n",
            "Epoch 15 Batch 4 Loss 0.1295\n",
            "Epoch 15 Batch 6 Loss 0.1384\n",
            "Epoch 15 Batch 8 Loss 0.1261\n",
            "Epoch 15 Batch 10 Loss 0.1336\n",
            "Epoch 15 Batch 12 Loss 0.1283\n",
            "Epoch 15 Batch 14 Loss 0.1373\n",
            "Epoch 15 Batch 16 Loss 0.1314\n",
            "Epoch 15 Batch 18 Loss 0.1293\n",
            "Epoch 15 Batch 20 Loss 0.1298\n",
            "Epoch 15 Batch 22 Loss 0.1251\n",
            "Epoch 15 Batch 24 Loss 0.1271\n",
            "Epoch 15 Batch 26 Loss 0.1262\n",
            "Epoch 15 Batch 28 Loss 0.1325\n",
            "Epoch 15 Batch 30 Loss 0.1282\n",
            "Epoch 15 Batch 32 Loss 0.1284\n",
            "Epoch 15 Batch 34 Loss 0.1337\n",
            "Epoch 15 Batch 36 Loss 0.1355\n",
            "Epoch 15 Batch 38 Loss 0.1438\n",
            "Epoch 15 Batch 40 Loss 0.1304\n",
            "Epoch 15 Batch 42 Loss 0.1404\n",
            "Epoch 15 Loss 0.1321\n",
            "Time taken for 1 epoch 22.74647355079651 sec\n",
            "\n",
            "Epoch 16 Batch 0 Loss 0.1354\n",
            "Epoch 16 Batch 2 Loss 0.1309\n",
            "Epoch 16 Batch 4 Loss 0.1371\n",
            "Epoch 16 Batch 6 Loss 0.1258\n",
            "Epoch 16 Batch 8 Loss 0.1300\n",
            "Epoch 16 Batch 10 Loss 0.1308\n",
            "Epoch 16 Batch 12 Loss 0.1262\n",
            "Epoch 16 Batch 14 Loss 0.1315\n",
            "Epoch 16 Batch 16 Loss 0.1289\n",
            "Epoch 16 Batch 18 Loss 0.1230\n",
            "Epoch 16 Batch 20 Loss 0.1246\n",
            "Epoch 16 Batch 22 Loss 0.1229\n",
            "Epoch 16 Batch 24 Loss 0.1223\n",
            "Epoch 16 Batch 26 Loss 0.1197\n",
            "Epoch 16 Batch 28 Loss 0.1278\n",
            "Epoch 16 Batch 30 Loss 0.1187\n",
            "Epoch 16 Batch 32 Loss 0.1238\n",
            "Epoch 16 Batch 34 Loss 0.1219\n",
            "Epoch 16 Batch 36 Loss 0.1318\n",
            "Epoch 16 Batch 38 Loss 0.1344\n",
            "Epoch 16 Batch 40 Loss 0.1297\n",
            "Epoch 16 Batch 42 Loss 0.1277\n",
            "Epoch 16 Loss 0.1275\n",
            "Time taken for 1 epoch 23.281625747680664 sec\n",
            "\n",
            "Epoch 17 Batch 0 Loss 0.1281\n",
            "Epoch 17 Batch 2 Loss 0.1301\n",
            "Epoch 17 Batch 4 Loss 0.1275\n",
            "Epoch 17 Batch 6 Loss 0.1237\n",
            "Epoch 17 Batch 8 Loss 0.1187\n",
            "Epoch 17 Batch 10 Loss 0.1260\n",
            "Epoch 17 Batch 12 Loss 0.1246\n",
            "Epoch 17 Batch 14 Loss 0.1235\n",
            "Epoch 17 Batch 16 Loss 0.1295\n",
            "Epoch 17 Batch 18 Loss 0.1179\n",
            "Epoch 17 Batch 20 Loss 0.1226\n",
            "Epoch 17 Batch 22 Loss 0.1175\n",
            "Epoch 17 Batch 24 Loss 0.1206\n",
            "Epoch 17 Batch 26 Loss 0.1161\n",
            "Epoch 17 Batch 28 Loss 0.1226\n",
            "Epoch 17 Batch 30 Loss 0.1121\n",
            "Epoch 17 Batch 32 Loss 0.1203\n",
            "Epoch 17 Batch 34 Loss 0.1122\n",
            "Epoch 17 Batch 36 Loss 0.1253\n",
            "Epoch 17 Batch 38 Loss 0.1263\n",
            "Epoch 17 Batch 40 Loss 0.1234\n",
            "Epoch 17 Batch 42 Loss 0.1215\n",
            "Epoch 17 Loss 0.1224\n",
            "Time taken for 1 epoch 22.696632862091064 sec\n",
            "\n",
            "Epoch 18 Batch 0 Loss 0.1200\n",
            "Epoch 18 Batch 2 Loss 0.1329\n",
            "Epoch 18 Batch 4 Loss 0.1400\n",
            "Epoch 18 Batch 6 Loss 0.1306\n",
            "Epoch 18 Batch 8 Loss 0.1256\n",
            "Epoch 18 Batch 10 Loss 0.1298\n",
            "Epoch 18 Batch 12 Loss 0.1378\n",
            "Epoch 18 Batch 14 Loss 0.1290\n",
            "Epoch 18 Batch 16 Loss 0.1358\n",
            "Epoch 18 Batch 18 Loss 0.1200\n",
            "Epoch 18 Batch 20 Loss 0.1233\n",
            "Epoch 18 Batch 22 Loss 0.1190\n",
            "Epoch 18 Batch 24 Loss 0.1216\n",
            "Epoch 18 Batch 26 Loss 0.1181\n",
            "Epoch 18 Batch 28 Loss 0.1237\n",
            "Epoch 18 Batch 30 Loss 0.1123\n",
            "Epoch 18 Batch 32 Loss 0.1207\n",
            "Epoch 18 Batch 34 Loss 0.1119\n",
            "Epoch 18 Batch 36 Loss 0.1259\n",
            "Epoch 18 Batch 38 Loss 0.1264\n",
            "Epoch 18 Batch 40 Loss 0.1263\n",
            "Epoch 18 Batch 42 Loss 0.1185\n",
            "Epoch 18 Loss 0.1251\n",
            "Time taken for 1 epoch 23.543771028518677 sec\n",
            "\n",
            "Epoch 19 Batch 0 Loss 0.1227\n",
            "Epoch 19 Batch 2 Loss 0.1257\n",
            "Epoch 19 Batch 4 Loss 0.1264\n",
            "Epoch 19 Batch 6 Loss 0.1152\n",
            "Epoch 19 Batch 8 Loss 0.1164\n",
            "Epoch 19 Batch 10 Loss 0.1163\n",
            "Epoch 19 Batch 12 Loss 0.1230\n",
            "Epoch 19 Batch 14 Loss 0.1237\n",
            "Epoch 19 Batch 16 Loss 0.1217\n",
            "Epoch 19 Batch 18 Loss 0.1188\n",
            "Epoch 19 Batch 20 Loss 0.1159\n",
            "Epoch 19 Batch 22 Loss 0.1135\n",
            "Epoch 19 Batch 24 Loss 0.1194\n",
            "Epoch 19 Batch 26 Loss 0.1108\n",
            "Epoch 19 Batch 28 Loss 0.1218\n",
            "Epoch 19 Batch 30 Loss 0.1082\n",
            "Epoch 19 Batch 32 Loss 0.1183\n",
            "Epoch 19 Batch 34 Loss 0.1123\n",
            "Epoch 19 Batch 36 Loss 0.1171\n",
            "Epoch 19 Batch 38 Loss 0.1262\n",
            "Epoch 19 Batch 40 Loss 0.1198\n",
            "Epoch 19 Batch 42 Loss 0.1137\n",
            "Epoch 19 Loss 0.1189\n",
            "Time taken for 1 epoch 22.68550705909729 sec\n",
            "\n",
            "Epoch 20 Batch 0 Loss 0.1142\n",
            "Epoch 20 Batch 2 Loss 0.1187\n",
            "Epoch 20 Batch 4 Loss 0.1192\n",
            "Epoch 20 Batch 6 Loss 0.1159\n",
            "Epoch 20 Batch 8 Loss 0.1079\n",
            "Epoch 20 Batch 10 Loss 0.1162\n",
            "Epoch 20 Batch 12 Loss 0.1182\n",
            "Epoch 20 Batch 14 Loss 0.1207\n",
            "Epoch 20 Batch 16 Loss 0.1229\n",
            "Epoch 20 Batch 18 Loss 0.1126\n",
            "Epoch 20 Batch 20 Loss 0.1231\n",
            "Epoch 20 Batch 22 Loss 0.1100\n",
            "Epoch 20 Batch 24 Loss 0.1240\n",
            "Epoch 20 Batch 26 Loss 0.1209\n",
            "Epoch 20 Batch 28 Loss 0.1207\n",
            "Epoch 20 Batch 30 Loss 0.1154\n",
            "Epoch 20 Batch 32 Loss 0.1142\n",
            "Epoch 20 Batch 34 Loss 0.1155\n",
            "Epoch 20 Batch 36 Loss 0.1142\n",
            "Epoch 20 Batch 38 Loss 0.1254\n",
            "Epoch 20 Batch 40 Loss 0.1171\n",
            "Epoch 20 Batch 42 Loss 0.1114\n",
            "Epoch 20 Loss 0.1179\n",
            "Time taken for 1 epoch 23.255809545516968 sec\n",
            "\n"
          ],
          "name": "stdout"
        }
      ]
    },
    {
      "cell_type": "code",
      "metadata": {
        "id": "wpZ0WY-x09Tr",
        "colab_type": "code",
        "colab": {}
      },
      "source": [
        "max_length_targ = 30\n",
        "max_length_inp = 28\n",
        "def evaluate(sentence):\n",
        "  attention_plot = np.zeros((max_length_targ, max_length_inp))\n",
        "  sentence = preprocess_sentence(sentence)\n",
        "  inputs = [hin_tokenizer.word_index[i] for i in sentence.split(' ')]\n",
        "  inputs = tf.keras.preprocessing.sequence.pad_sequences([inputs],\n",
        "                                                          maxlen=max_length_inp,\n",
        "                                                          padding='post')\n",
        "  \n",
        "  inputs = tf.convert_to_tensor(inputs)\n",
        "  result = ''\n",
        "  hidden = [tf.zeros((1, units))]\n",
        "  enc_out, enc_hidden = encoder(inputs, hidden)\n",
        "\n",
        "  dec_hidden = enc_hidden\n",
        "  dec_input = tf.expand_dims([hin_tokenizer.word_index['<start>']], 0)\n",
        "  for t in range(max_length_targ):\n",
        "    predictions, dec_hidden, attention_weights = decoder(dec_input,\n",
        "                                                         dec_hidden,\n",
        "                                                         enc_out)\n",
        "    # storing the attention weights to plot later on\n",
        "    attention_weights = tf.reshape(attention_weights, (-1, ))\n",
        "    attention_plot[t] = attention_weights.numpy()\n",
        "\n",
        "    predicted_id = tf.argmax(predictions[0]).numpy()\n",
        "\n",
        "    result += reverse_eng_word_index[predicted_id] + ' '\n",
        "    #print(t)\n",
        "    #print(result)\n",
        "\n",
        "    if reverse_eng_word_index[predicted_id] == '<end>':\n",
        "      return result, sentence, attention_plot\n",
        "\n",
        "    # the predicted ID is fed back into the model\n",
        "    dec_input = tf.expand_dims([predicted_id], 0)\n",
        "\n",
        "  return result, sentence, attention_plot"
      ],
      "execution_count": 0,
      "outputs": []
    },
    {
      "cell_type": "code",
      "metadata": {
        "id": "-z3ONQ2U-x04",
        "colab_type": "code",
        "colab": {}
      },
      "source": [
        "# function for plotting the attention weights\n",
        "def plot_attention(attention, sentence, predicted_sentence):\n",
        "    fig = plt.figure(figsize=(10,10))\n",
        "    ax = fig.add_subplot(1, 1, 1)\n",
        "    ax.matshow(attention, cmap='viridis')\n",
        "\n",
        "    fontdict = {'fontsize': 14}\n",
        "\n",
        "    ax.set_xticklabels([''] + sentence, fontdict=fontdict, rotation=90)\n",
        "    ax.set_yticklabels([''] + predicted_sentence, fontdict=fontdict)\n",
        "\n",
        "    ax.xaxis.set_major_locator(ticker.MultipleLocator(1))\n",
        "    ax.yaxis.set_major_locator(ticker.MultipleLocator(1))\n",
        "\n",
        "    plt.show()"
      ],
      "execution_count": 0,
      "outputs": []
    },
    {
      "cell_type": "code",
      "metadata": {
        "id": "nrGgEftG-3Tf",
        "colab_type": "code",
        "colab": {}
      },
      "source": [
        "def translate(sentence):\n",
        "  result, sentence, attention_plot = evaluate(sentence)\n",
        "\n",
        "  print('Input: %s' % (sentence))\n",
        "  print('Predicted translation: {}'.format(result))\n",
        "\n",
        "  attention_plot = attention_plot[:len(result.split(' ')), :len(sentence.split(' '))]\n",
        "  plot_attention(attention_plot, sentence.split(' '), result.split(' '))"
      ],
      "execution_count": 0,
      "outputs": []
    },
    {
      "cell_type": "code",
      "metadata": {
        "id": "ySpA8TO7_RxV",
        "colab_type": "code",
        "outputId": "d1e4e3f5-1375-4f59-e09e-0f1f9e0eac73",
        "colab": {
          "base_uri": "https://localhost:8080/",
          "height": 34
        }
      },
      "source": [
        "# restoring the latest checkpoint in checkpoint_dir\n",
        "checkpoint.restore(tf.train.latest_checkpoint(checkpoint_dir))"
      ],
      "execution_count": 0,
      "outputs": [
        {
          "output_type": "execute_result",
          "data": {
            "text/plain": [
              "<tensorflow.python.training.tracking.util.CheckpointLoadStatus at 0x7fdac3e5af60>"
            ]
          },
          "metadata": {
            "tags": []
          },
          "execution_count": 43
        }
      ]
    },
    {
      "cell_type": "code",
      "metadata": {
        "id": "UOA4I7Ie_tTI",
        "colab_type": "code",
        "outputId": "03963dae-2db1-4aae-93c6-c19fe51acabc",
        "colab": {
          "base_uri": "https://localhost:8080/",
          "height": 676
        }
      },
      "source": [
        "translate(u'वह अगले स्टॉप पर उतर गई')"
      ],
      "execution_count": 0,
      "outputs": [
        {
          "output_type": "stream",
          "text": [
            "Input: <start> वह अगले स्टॉप पर उतर गई <end>\n",
            "Predicted translation: ? difference him robbed the . <end> \n"
          ],
          "name": "stdout"
        },
        {
          "output_type": "display_data",
          "data": {
            "image/png": "[encoded data removed]",
            "text/plain": [
              "<Figure size 720x720 with 1 Axes>"
            ]
          },
          "metadata": {
            "tags": []
          }
        }
      ]
    },
    {
      "cell_type": "code",
      "metadata": {
        "id": "VsZW6aGW_-7C",
        "colab_type": "code",
        "colab": {}
      },
      "source": [
        ""
      ],
      "execution_count": 0,
      "outputs": []
    }
  ]
}