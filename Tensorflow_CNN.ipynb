{
  "nbformat": 4,
  "nbformat_minor": 0,
  "metadata": {
    "colab": {
      "name": "Tensorflow-CNN.ipynb",
      "version": "0.3.2",
      "provenance": [],
      "collapsed_sections": [],
      "include_colab_link": true
    },
    "kernelspec": {
      "name": "python3",
      "display_name": "Python 3"
    },
    "accelerator": "GPU"
  },
  "cells": [
    {
      "cell_type": "markdown",
      "metadata": {
        "id": "view-in-github",
        "colab_type": "text"
      },
      "source": [
        "<a href=\"https://colab.research.google.com/github/Piyush01Bhatt/Deep-Learning/blob/master/Tensorflow_CNN.ipynb\" target=\"_parent\"><img src=\"https://colab.research.google.com/assets/colab-badge.svg\" alt=\"Open In Colab\"/></a>"
      ]
    },
    {
      "metadata": {
        "id": "K5LmcJrZ8CMW",
        "colab_type": "code",
        "colab": {}
      },
      "cell_type": "code",
      "source": [
        "%matplotlib inline\n",
        "import matplotlib.pyplot as plt\n",
        "import tensorflow as tf\n",
        "import numpy as np\n",
        "from sklearn.metrics import confusion_matrix\n",
        "import time\n",
        "from datetime import timedelta\n",
        "import math"
      ],
      "execution_count": 0,
      "outputs": []
    },
    {
      "metadata": {
        "id": "1LSbtKHVdCJ2",
        "colab_type": "code",
        "outputId": "9a5d9277-705d-40ea-affb-7d2cbfa6f279",
        "colab": {
          "base_uri": "https://localhost:8080/",
          "height": 35
        }
      },
      "cell_type": "code",
      "source": [
        "tf.__version__"
      ],
      "execution_count": 2,
      "outputs": [
        {
          "output_type": "execute_result",
          "data": {
            "text/plain": [
              "'1.13.0-rc0'"
            ]
          },
          "metadata": {
            "tags": []
          },
          "execution_count": 2
        }
      ]
    },
    {
      "metadata": {
        "id": "UfNThvcLdLbl",
        "colab_type": "text"
      },
      "cell_type": "markdown",
      "source": [
        "**Configuration**"
      ]
    },
    {
      "metadata": {
        "id": "KTCMpuZkdSFg",
        "colab_type": "code",
        "colab": {}
      },
      "cell_type": "code",
      "source": [
        "#Convolutional Layer 1\n",
        "filter_size1 = 5         #filter size 5x5\n",
        "n_filters1 = 16         #number of filters\n",
        "\n",
        "#Convolutional Layer 2\n",
        "filter_size2 = 5         #filter size 5x5\n",
        "n_filters2 = 36         #number of filters\n",
        "\n",
        "#Fully Connected Layer\n",
        "f_size = 128"
      ],
      "execution_count": 0,
      "outputs": []
    },
    {
      "metadata": {
        "id": "Qp19YmtPgC6k",
        "colab_type": "text"
      },
      "cell_type": "markdown",
      "source": [
        "**Load MNIST Handwritten Digit Dataset**"
      ]
    },
    {
      "metadata": {
        "id": "xhiG9hZngBb0",
        "colab_type": "code",
        "colab": {
          "base_uri": "https://localhost:8080/",
          "height": 53
        },
        "outputId": "fcb90501-58b2-450b-bc5d-d65b0cb6ed56"
      },
      "cell_type": "code",
      "source": [
        "mnist = tf.keras.datasets.mnist\n",
        "(X_train, y_train),(X_test, y_test) = mnist.load_data()"
      ],
      "execution_count": 4,
      "outputs": [
        {
          "output_type": "stream",
          "text": [
            "Downloading data from https://storage.googleapis.com/tensorflow/tf-keras-datasets/mnist.npz\n",
            "11493376/11490434 [==============================] - 0s 0us/step\n"
          ],
          "name": "stdout"
        }
      ]
    },
    {
      "metadata": {
        "id": "NKjmkUibgSN3",
        "colab_type": "code",
        "outputId": "46b4ef99-0710-4ce8-d812-8610944e1a66",
        "colab": {
          "base_uri": "https://localhost:8080/",
          "height": 71
        }
      },
      "cell_type": "code",
      "source": [
        "print('Size of:')\n",
        "print(f'- Training-set = {X_train.shape[0]}')\n",
        "print(f'- Test-set = {X_test.shape[0]}')"
      ],
      "execution_count": 5,
      "outputs": [
        {
          "output_type": "stream",
          "text": [
            "Size of:\n",
            "- Training-set = 60000\n",
            "- Test-set = 10000\n"
          ],
          "name": "stdout"
        }
      ]
    },
    {
      "metadata": {
        "id": "eSasjB97iOa9",
        "colab_type": "code",
        "outputId": "ccaacb8f-02b8-44f3-8a3c-a8a4373f4bcf",
        "colab": {
          "base_uri": "https://localhost:8080/",
          "height": 107
        }
      },
      "cell_type": "code",
      "source": [
        "#image shape\n",
        "img_shape = X_train[0].shape\n",
        "print(f'Shape of image = {img_shape}')\n",
        "\n",
        "#number of pixels in each dimension of image\n",
        "img_size = X_train[0].shape[0]\n",
        "print(f'Dimension of image = {img_size}x{img_size}')\n",
        "\n",
        "#images if stored in one-D array\n",
        "img_flat_size = img_size * img_size\n",
        "print(f'Size of flatten image = {img_flat_size}')\n",
        "\n",
        "# Number of color channels\n",
        "num_channels = 1 # since images are grey scale\n",
        "print(f'Number of color channels = {num_channels}')\n",
        "\n",
        "# Number of classes\n",
        "num_classes = np.unique(y_train)\n",
        "print(f'Number of classes = {num_classes}')"
      ],
      "execution_count": 6,
      "outputs": [
        {
          "output_type": "stream",
          "text": [
            "Shape of image = (28, 28)\n",
            "Dimension of image = 28x28\n",
            "Size of flatten image = 784\n",
            "Number of color channels = 1\n",
            "Number of classes = [0 1 2 3 4 5 6 7 8 9]\n"
          ],
          "name": "stdout"
        }
      ]
    },
    {
      "metadata": {
        "id": "wsU5qVdQmfvM",
        "colab_type": "text"
      },
      "cell_type": "markdown",
      "source": [
        "**Helper Function for plotting images**"
      ]
    },
    {
      "metadata": {
        "id": "srCWsxHBiwAO",
        "colab_type": "code",
        "colab": {}
      },
      "cell_type": "code",
      "source": [
        "def plot_images(images, cls_true, cls_pred=None):\n",
        "  assert len(images) == len(cls_true) == 9\n",
        "  \n",
        "  # Create figure with 3x3 sub-plots\n",
        "  f,ax = plt.subplots(3, 3)\n",
        "  f.subplots_adjust(hspace=0.3, wspace=0.3)\n",
        "  \n",
        "  for i, ax in enumerate(ax.flat):\n",
        "    # Plot image\n",
        "    ax.imshow(images[i].reshape(img_shape), cmap='binary')\n",
        "    \n",
        "    # Show true and predicted classes\n",
        "    if cls_pred is None:\n",
        "      xlabel = 'True: {0}'.format(cls_true[i])\n",
        "    else:\n",
        "      xlabel = 'True: {0}, Pred: {1}'.format(cls_true[i], cls_pred[i])\n",
        "    \n",
        "    # Show the classes as the label on the x-axis\n",
        "    ax.set_xlabel(xlabel)\n",
        "    \n",
        "    # Remove ticks from the plot\n",
        "    ax.set_xticks([])\n",
        "    ax.set_yticks([])\n",
        "    \n",
        "  # Ensure the plot is shown correctly with multiple plots\n",
        "  # in a single Notebook cell\n",
        "  plt.show()"
      ],
      "execution_count": 0,
      "outputs": []
    },
    {
      "metadata": {
        "id": "O9m8RdiVQfn7",
        "colab_type": "text"
      },
      "cell_type": "markdown",
      "source": [
        "**Plot a few images to see if data is correct**"
      ]
    },
    {
      "metadata": {
        "id": "TsD3ByvnjgEJ",
        "colab_type": "code",
        "outputId": "523a556b-0ce3-443d-ae3b-04d443873843",
        "colab": {
          "base_uri": "https://localhost:8080/",
          "height": 262
        }
      },
      "cell_type": "code",
      "source": [
        "# Get the first images from the test-set\n",
        "images = X_train[0:9]\n",
        "\n",
        "# Get the true classes for those images\n",
        "cls_true = y_train[0:9]\n",
        "\n",
        "# Plot the images and labels using our helper-function above\n",
        "plot_images(images=images, cls_true=cls_true)"
      ],
      "execution_count": 8,
      "outputs": [
        {
          "output_type": "display_data",
          "data": {
            "image/png": "[encoded data removed]",
            "text/plain": [
              "<Figure size 432x288 with 9 Axes>"
            ]
          },
          "metadata": {
            "tags": []
          }
        }
      ]
    },
    {
      "metadata": {
        "id": "_WGXQB82VGZJ",
        "colab_type": "text"
      },
      "cell_type": "markdown",
      "source": [
        "**Tensorflow Graph**"
      ]
    },
    {
      "metadata": {
        "id": "u2zI6VRBWsc1",
        "colab_type": "text"
      },
      "cell_type": "markdown",
      "source": [
        "A TensorFlow graph consists of the following parts which will be detailed below:\n",
        "\n",
        "  1. Placeholder variables used for inputting    data to the graph.\n",
        "  2. Variables that are going to be optimized so as to make the convolutional network perform better.\n",
        "  3. The mathematical formulas for the convolutional network.\n",
        "  4. A cost measure that can be used to guide the optimization of the variables.\n",
        "  5. An optimization method which updates the variables.\n",
        "\n",
        "\n",
        "\n",
        "\n"
      ]
    },
    {
      "metadata": {
        "id": "ZocbHzh9ZUj0",
        "colab_type": "text"
      },
      "cell_type": "markdown",
      "source": [
        "**Helper functions for creating new Variable**"
      ]
    },
    {
      "metadata": {
        "id": "_PhWZGpjSyth",
        "colab_type": "code",
        "colab": {}
      },
      "cell_type": "code",
      "source": [
        "def new_weights(shape):\n",
        "  return tf.Variable(tf.truncated_normal(shape, stddev=0.05))"
      ],
      "execution_count": 0,
      "outputs": []
    },
    {
      "metadata": {
        "id": "Odicjb1kXolz",
        "colab_type": "code",
        "colab": {}
      },
      "cell_type": "code",
      "source": [
        "def new_biases(length):\n",
        "  return tf.Variable(tf.constant(0.05, shape=[length]))"
      ],
      "execution_count": 0,
      "outputs": []
    },
    {
      "metadata": {
        "id": "MZWIUGNsZY3Y",
        "colab_type": "text"
      },
      "cell_type": "markdown",
      "source": [
        "**Helper function for creating a new Convolutional Layer**"
      ]
    },
    {
      "metadata": {
        "id": "fgKD9djoZ2Cc",
        "colab_type": "text"
      },
      "cell_type": "markdown",
      "source": [
        "This function creates a new convolutional layer in the computational graph for Tensorflow\n",
        "\n",
        "It is assumed that the input is a 4-d tensor with following dimensions -:\n",
        "\n",
        "1.   Image number\n",
        "2.   Y-axis of each image\n",
        "3.   X-axis of each image\n",
        "4.   Channels of each image\n",
        "\n",
        "Note -: Input channels may either be color-channels, or it may be filter-channels if the input is produced from a previous convolutional layer.\n",
        "\n",
        "The output is another 4-d tensor with the following dimensions -:\n",
        "\n",
        "1.   Image number, same as input\n",
        "2.   Y-axis of each image. h and w reduces by 2 if 2x2 pooling is used\n",
        "3.   X-axis of each image. same\n",
        "4.   Channels produced by the convolutional filters\n",
        "\n",
        "\n",
        "\n"
      ]
    },
    {
      "metadata": {
        "id": "XwamJCcZYdmI",
        "colab_type": "code",
        "colab": {}
      },
      "cell_type": "code",
      "source": [
        "def new_conv_layer(input:'input from previous layer',\n",
        "                  num_input_channels:'Num of channels in previous layer',\n",
        "                  filter_size:'Width and height of each filter',\n",
        "                  num_filters:'Number of filters',\n",
        "                  use_pooling:'Use 2x2 max-pooling'=True)->'returns both resulting layer and filter-weights':\n",
        "  \n",
        "  # Shape of the filter weights of the convolution\n",
        "  shape = [filter_size, filter_size, num_input_channels, num_filters]\n",
        "  \n",
        "  # Create new weights of filters\n",
        "  weights = new_weights(shape=shape)\n",
        "  \n",
        "  # Create new biases, one for each filter\n",
        "  biases = new_biases(length=num_filters)\n",
        "  \n",
        "  '''\n",
        "    * Create tensorflow operation for convolution\n",
        "    * Strides are set to 1\n",
        "    * First and last stride must always be 1\n",
        "    * First is for image number and last is for input-channel\n",
        "    * [1,2,2,1] stride means filter is moved 2 pixels along x&y axis\n",
        "    * Padding is set 'same'\n",
        "  '''\n",
        "  \n",
        "  layer = tf.nn.conv2d(input = input,\n",
        "                      filter = weights,\n",
        "                      strides = [1,1,1,1],\n",
        "                      padding = 'SAME')\n",
        "  \n",
        "  # Add the biases to the results of the convolution.\n",
        "  # A bias-value is added to each filter-channel.\n",
        "  layer += biases\n",
        "  \n",
        "  if use_pooling:\n",
        "    layer = tf.nn.max_pool(value=layer,\n",
        "                          ksize=[1,2,2,1],\n",
        "                          strides=[1,2,2,1],\n",
        "                          padding='SAME')\n",
        "    \n",
        "  layer = tf.nn.relu(layer)\n",
        "  \n",
        "  return layer, weights\n",
        "  \n",
        "  "
      ],
      "execution_count": 0,
      "outputs": []
    },
    {
      "metadata": {
        "id": "P6PY_sNmpfoW",
        "colab_type": "text"
      },
      "cell_type": "markdown",
      "source": [
        "**Helper-function for flattening a layer**"
      ]
    },
    {
      "metadata": {
        "id": "s1pcre7vpPTy",
        "colab_type": "code",
        "colab": {}
      },
      "cell_type": "code",
      "source": [
        "def flatten_layer(layer):\n",
        "  layer_shape = layer.get_shape()\n",
        "  # layer_shape = [num_images, img_height, img_width, num_channels]\n",
        "  num_features = layer_shape[1:4].num_elements()\n",
        "  # num of features is : img_height * img_width * num_channels\n",
        "  \n",
        "  layer_flat = tf.reshape(layer, [-1,num_features])\n",
        "  # Reshape the layer to [num_images, num_features]\n",
        "  # The shape of The flattened layer is now:\n",
        "  # [num_images, img_height * img_width * num_channels]\n",
        "  # Return both flattened layer and the number of features\n",
        "  return layer_flat, num_features"
      ],
      "execution_count": 0,
      "outputs": []
    },
    {
      "metadata": {
        "id": "fOXh7LSbrhBA",
        "colab_type": "text"
      },
      "cell_type": "markdown",
      "source": [
        "**Helper function for creating a fully connected layer**"
      ]
    },
    {
      "metadata": {
        "id": "Cx-Di4Ppredv",
        "colab_type": "code",
        "colab": {}
      },
      "cell_type": "code",
      "source": [
        "def new_fc_layer(input:'The previous layer',\n",
        "                 num_inputs:'Num. inputs fro prev layer',\n",
        "                 num_outputs:'Num outputs',\n",
        "                 use_relu:'Use Rectified Linear Unit (ReLU)'=True):\n",
        "  # Create new weights and biases\n",
        "  weights = new_weights(shape=[num_inputs,num_outputs])\n",
        "  biases = new_biases(length=num_outputs)\n",
        "  \n",
        "  # Calculate layer as mat mul of inputs&weights and add biases\n",
        "  layer = tf.matmul(input, weights) + biases\n",
        "  \n",
        "  # Use ReLU\n",
        "  if use_relu:\n",
        "    layer = tf.nn.relu(layer)\n",
        "    \n",
        "  return layer"
      ],
      "execution_count": 0,
      "outputs": []
    },
    {
      "metadata": {
        "id": "zZEMx4cBtyHV",
        "colab_type": "text"
      },
      "cell_type": "markdown",
      "source": [
        "**Placeholder variables**\n",
        "\n",
        "Placeholder vaeiables serve as the input the Tensorflow computational graph that we may change each time we execute the graph"
      ]
    },
    {
      "metadata": {
        "id": "zHzFHVCWtwer",
        "colab_type": "code",
        "colab": {}
      },
      "cell_type": "code",
      "source": [
        "x = tf.placeholder(tf.float32, shape=[None, img_flat_size], name='x')"
      ],
      "execution_count": 0,
      "outputs": []
    },
    {
      "metadata": {
        "id": "_AGcheDnvP7j",
        "colab_type": "text"
      },
      "cell_type": "markdown",
      "source": [
        "The convolutional layers expect x to be encoded as a 4-dim tensor so we have to reshape it so its shape is instead [num_images, img_height, img_width, num_channels]. Note that img_height == img_width == img_size and num_images can be inferred automatically by using -1 for the size of the first dimension. So the reshape operation is:"
      ]
    },
    {
      "metadata": {
        "id": "k_eNTxkguWXV",
        "colab_type": "code",
        "colab": {}
      },
      "cell_type": "code",
      "source": [
        "x_image = tf.reshape(x, [-1, img_size, img_size, num_channels])"
      ],
      "execution_count": 0,
      "outputs": []
    },
    {
      "metadata": {
        "id": "Y3gTBWPnwTXI",
        "colab_type": "text"
      },
      "cell_type": "markdown",
      "source": [
        "Next we have the placeholder variable for the true labels associated with the images that were input in the placeholder variable x. The shape of this placeholder variable is [None, num_classes] which means it may hold an arbitrary number of labels and each label is a vector of length num_classes which is 10 in this case."
      ]
    },
    {
      "metadata": {
        "id": "hR7z4cZowR1p",
        "colab_type": "code",
        "colab": {}
      },
      "cell_type": "code",
      "source": [
        "y_true = tf.placeholder(tf.float32, shape=[None, len(num_classes)], name='y_true')"
      ],
      "execution_count": 0,
      "outputs": []
    },
    {
      "metadata": {
        "id": "7HkeU82qxQ0y",
        "colab_type": "text"
      },
      "cell_type": "markdown",
      "source": [
        "We could also have a placeholder variable for the class-number, but we will instead calculate it using argmax. Note that this is a TensorFlow operator so nothing is calculated at this point"
      ]
    },
    {
      "metadata": {
        "id": "iiwXbDdcwiu2",
        "colab_type": "code",
        "colab": {}
      },
      "cell_type": "code",
      "source": [
        "y_true_cls = tf.argmax(y_true, axis=1)"
      ],
      "execution_count": 0,
      "outputs": []
    },
    {
      "metadata": {
        "id": "hXlYDIKNxbZ1",
        "colab_type": "text"
      },
      "cell_type": "markdown",
      "source": [
        "**Convolutional Layer1**"
      ]
    },
    {
      "metadata": {
        "id": "FhqHfkWSxY58",
        "colab_type": "code",
        "colab": {
          "base_uri": "https://localhost:8080/",
          "height": 91
        },
        "outputId": "af675415-4a9b-4791-e9d7-6f1749bc6214"
      },
      "cell_type": "code",
      "source": [
        "layer_conv1, weights_conv1 = new_conv_layer(input=x_image,\n",
        "                                           num_input_channels=num_channels,\n",
        "                                           filter_size=filter_size1,\n",
        "                                           num_filters=n_filters1,\n",
        "                                           use_pooling=True)"
      ],
      "execution_count": 18,
      "outputs": [
        {
          "output_type": "stream",
          "text": [
            "WARNING:tensorflow:From /usr/local/lib/python3.6/dist-packages/tensorflow/python/framework/op_def_library.py:263: colocate_with (from tensorflow.python.framework.ops) is deprecated and will be removed in a future version.\n",
            "Instructions for updating:\n",
            "Colocations handled automatically by placer.\n"
          ],
          "name": "stdout"
        }
      ]
    },
    {
      "metadata": {
        "id": "ZNU2Cl_4x8Qs",
        "colab_type": "code",
        "outputId": "829bedf8-f7fe-46e6-f5b4-80a86c537f32",
        "colab": {
          "base_uri": "https://localhost:8080/",
          "height": 35
        }
      },
      "cell_type": "code",
      "source": [
        "layer_conv1"
      ],
      "execution_count": 19,
      "outputs": [
        {
          "output_type": "execute_result",
          "data": {
            "text/plain": [
              "<tf.Tensor 'Relu:0' shape=(?, 14, 14, 16) dtype=float32>"
            ]
          },
          "metadata": {
            "tags": []
          },
          "execution_count": 19
        }
      ]
    },
    {
      "metadata": {
        "id": "RyQHNqwozJrh",
        "colab_type": "text"
      },
      "cell_type": "markdown",
      "source": [
        "**Convolutional Layer 2**\n",
        "\n",
        "Create the second convolutional layer, which takes as input the output from the first convolutional layer. The number of input channels corresponds to the number of filters in the first convolutional layer."
      ]
    },
    {
      "metadata": {
        "id": "Rwr1cx84zDi9",
        "colab_type": "code",
        "colab": {}
      },
      "cell_type": "code",
      "source": [
        "layer_conv2, weights = \\\n",
        "  new_conv_layer(input=layer_conv1,\n",
        "                num_input_channels=n_filters1,\n",
        "                filter_size = filter_size2,\n",
        "                num_filters = n_filters2,\n",
        "                use_pooling=True)"
      ],
      "execution_count": 0,
      "outputs": []
    },
    {
      "metadata": {
        "id": "dzUscZeC2cZ1",
        "colab_type": "code",
        "outputId": "d3651ace-3c29-4205-c21a-b4a62cb333c5",
        "colab": {
          "base_uri": "https://localhost:8080/",
          "height": 35
        }
      },
      "cell_type": "code",
      "source": [
        "layer_conv2"
      ],
      "execution_count": 21,
      "outputs": [
        {
          "output_type": "execute_result",
          "data": {
            "text/plain": [
              "<tf.Tensor 'Relu_1:0' shape=(?, 7, 7, 36) dtype=float32>"
            ]
          },
          "metadata": {
            "tags": []
          },
          "execution_count": 21
        }
      ]
    },
    {
      "metadata": {
        "id": "89jhvuH92hVd",
        "colab_type": "text"
      },
      "cell_type": "markdown",
      "source": [
        "**Flatten Layer**\n",
        "\n",
        "The convolutional layers output 4-dim tensors. We now wish to use these as input in a fully-connected network, which requires for the tensors to be reshaped or flattened to 2-dim tensors"
      ]
    },
    {
      "metadata": {
        "id": "U4ljZgj92eed",
        "colab_type": "code",
        "colab": {}
      },
      "cell_type": "code",
      "source": [
        "layer_flat, num_features = flatten_layer(layer_conv2)"
      ],
      "execution_count": 0,
      "outputs": []
    },
    {
      "metadata": {
        "id": "ZFZPAgsc2udT",
        "colab_type": "code",
        "outputId": "96329384-8bf4-45f2-b6c9-1db3a1e5ea1c",
        "colab": {
          "base_uri": "https://localhost:8080/",
          "height": 35
        }
      },
      "cell_type": "code",
      "source": [
        "layer_flat # shape 7 * 7 * 36"
      ],
      "execution_count": 23,
      "outputs": [
        {
          "output_type": "execute_result",
          "data": {
            "text/plain": [
              "<tf.Tensor 'Reshape_1:0' shape=(?, 1764) dtype=float32>"
            ]
          },
          "metadata": {
            "tags": []
          },
          "execution_count": 23
        }
      ]
    },
    {
      "metadata": {
        "id": "uGVlAOVK27Ba",
        "colab_type": "text"
      },
      "cell_type": "markdown",
      "source": [
        "**Fully Connected Layer 1**\n",
        "\n",
        "Add a fully-connected layer to the network. The input is the flattened layer from the previous convolution. The number of neurons or nodes in the fully-connected layer is fc_size. ReLU is used so we can learn non-linear relations."
      ]
    },
    {
      "metadata": {
        "id": "U-1-p9rJ2wXJ",
        "colab_type": "code",
        "colab": {}
      },
      "cell_type": "code",
      "source": [
        "layer_fc1 = new_fc_layer(input=layer_flat,\n",
        "                        num_inputs=num_features,\n",
        "                        num_outputs=f_size,\n",
        "                        use_relu=True)"
      ],
      "execution_count": 0,
      "outputs": []
    },
    {
      "metadata": {
        "id": "svH2tjq73T8N",
        "colab_type": "code",
        "outputId": "20867ad9-6dbc-4708-f0b3-ef602866a4d0",
        "colab": {
          "base_uri": "https://localhost:8080/",
          "height": 35
        }
      },
      "cell_type": "code",
      "source": [
        "layer_fc1"
      ],
      "execution_count": 25,
      "outputs": [
        {
          "output_type": "execute_result",
          "data": {
            "text/plain": [
              "<tf.Tensor 'Relu_2:0' shape=(?, 128) dtype=float32>"
            ]
          },
          "metadata": {
            "tags": []
          },
          "execution_count": 25
        }
      ]
    },
    {
      "metadata": {
        "id": "N-77wxiu3h20",
        "colab_type": "text"
      },
      "cell_type": "markdown",
      "source": [
        "**Fully-Connected Layer 2**\n",
        "\n",
        "Add another fully-connected layer that outputs vectors of length 10 for determining which of the 10 classes the input image belongs to. Note that ReLU is not used in this layer."
      ]
    },
    {
      "metadata": {
        "id": "82cleBoy3byw",
        "colab_type": "code",
        "colab": {}
      },
      "cell_type": "code",
      "source": [
        "layer_fc2 = new_fc_layer(input=layer_fc1,\n",
        "                         num_inputs=f_size,\n",
        "                         num_outputs=len(num_classes),\n",
        "                         use_relu=False)"
      ],
      "execution_count": 0,
      "outputs": []
    },
    {
      "metadata": {
        "id": "DOC7_8oX3txG",
        "colab_type": "code",
        "outputId": "b2e90437-ca11-4272-e055-7f1e9b2fc9ea",
        "colab": {
          "base_uri": "https://localhost:8080/",
          "height": 35
        }
      },
      "cell_type": "code",
      "source": [
        "layer_fc2"
      ],
      "execution_count": 27,
      "outputs": [
        {
          "output_type": "execute_result",
          "data": {
            "text/plain": [
              "<tf.Tensor 'add_3:0' shape=(?, 10) dtype=float32>"
            ]
          },
          "metadata": {
            "tags": []
          },
          "execution_count": 27
        }
      ]
    },
    {
      "metadata": {
        "id": "eschEroc37TN",
        "colab_type": "text"
      },
      "cell_type": "markdown",
      "source": [
        "**Predicted Class**\n",
        "\n",
        "The second fully-connected layer estimates how likely it is that the input image belongs to each of the 10 classes. However, these estimates are a bit rough and difficult to interpret because the numbers may be very small or large, so we want to normalize them so that each element is limited between zero and one and the 10 elements sum to one. This is calculated using the so-called softmax function and the result is stored in y_pred."
      ]
    },
    {
      "metadata": {
        "id": "ou_hNyTt33lY",
        "colab_type": "code",
        "colab": {}
      },
      "cell_type": "code",
      "source": [
        "y_pred = tf.nn.softmax(layer_fc2)"
      ],
      "execution_count": 0,
      "outputs": []
    },
    {
      "metadata": {
        "id": "SCgA7SiR4JVs",
        "colab_type": "code",
        "colab": {}
      },
      "cell_type": "code",
      "source": [
        "y_pred_cls = tf.argmax(y_pred, axis=1)"
      ],
      "execution_count": 0,
      "outputs": []
    },
    {
      "metadata": {
        "id": "fLTa2cWH4b30",
        "colab_type": "text"
      },
      "cell_type": "markdown",
      "source": [
        "**Cost-function to be optimized**\n",
        "\n",
        "To make the model better at classifying the input images, we must somehow change the variables for all the network layers. To do this we first need to know how well the model currently performs by comparing the predicted output of the model y_pred to the desired output y_true.\n",
        "\n",
        "The cross-entropy is a performance measure used in classification. The cross-entropy is a continuous function that is always positive and if the predicted output of the model exactly matches the desired output then the cross-entropy equals zero. The goal of optimization is therefore to minimize the cross-entropy so it gets as close to zero as possible by changing the variables of the network layers.\n",
        "\n",
        "TensorFlow has a built-in function for calculating the cross-entropy. Note that the function calculates the softmax internally so we must use the output of layer_fc2 directly rather than y_pred which has already had the softmax applied."
      ]
    },
    {
      "metadata": {
        "id": "_2_rCtmF4POF",
        "colab_type": "code",
        "colab": {
          "base_uri": "https://localhost:8080/",
          "height": 181
        },
        "outputId": "012b689b-6d9b-4279-fd57-c368798a154e"
      },
      "cell_type": "code",
      "source": [
        "cross_entropy = tf.nn.softmax_cross_entropy_with_logits(logits=layer_fc2,\n",
        "                                                        labels=y_true)"
      ],
      "execution_count": 30,
      "outputs": [
        {
          "output_type": "stream",
          "text": [
            "WARNING:tensorflow:From <ipython-input-30-2dd067a7547b>:2: softmax_cross_entropy_with_logits (from tensorflow.python.ops.nn_ops) is deprecated and will be removed in a future version.\n",
            "Instructions for updating:\n",
            "\n",
            "Future major versions of TensorFlow will allow gradients to flow\n",
            "into the labels input on backprop by default.\n",
            "\n",
            "See `tf.nn.softmax_cross_entropy_with_logits_v2`.\n",
            "\n"
          ],
          "name": "stdout"
        }
      ]
    },
    {
      "metadata": {
        "id": "e0bEXoSF4r3J",
        "colab_type": "code",
        "colab": {}
      },
      "cell_type": "code",
      "source": [
        "cost = tf.reduce_mean(cross_entropy)"
      ],
      "execution_count": 0,
      "outputs": []
    },
    {
      "metadata": {
        "id": "3O9Akeja47mo",
        "colab_type": "text"
      },
      "cell_type": "markdown",
      "source": [
        "**Optimisation Method**\n",
        "\n",
        "Now that we have a cost measure that must be minimized, we can then create an optimizer. In this case it is the AdamOptimizer which is an advanced form of Gradient Descent.\n",
        "\n",
        "Note that optimization is not performed at this point. In fact, nothing is calculated at all, we just add the optimizer-object to the TensorFlow graph for later execution."
      ]
    },
    {
      "metadata": {
        "id": "_EBU8fZe4z8N",
        "colab_type": "code",
        "colab": {}
      },
      "cell_type": "code",
      "source": [
        "optimizer = tf.train.AdamOptimizer(learning_rate=1e-4).minimize(cost)"
      ],
      "execution_count": 0,
      "outputs": []
    },
    {
      "metadata": {
        "id": "9msb-sf46M9y",
        "colab_type": "text"
      },
      "cell_type": "markdown",
      "source": [
        "**Performance Measures**\n",
        "\n",
        "We need a few more performance measures to display the progress to the user.\n",
        "\n",
        "This is a vector of booleans whether the predicted class equals the true class of each image."
      ]
    },
    {
      "metadata": {
        "id": "QU5jM_0a5Ht_",
        "colab_type": "code",
        "colab": {}
      },
      "cell_type": "code",
      "source": [
        "correct_prediction = tf.equal(y_pred_cls, y_true_cls)"
      ],
      "execution_count": 0,
      "outputs": []
    },
    {
      "metadata": {
        "id": "UCuWRohiCNPB",
        "colab_type": "text"
      },
      "cell_type": "markdown",
      "source": [
        "This calculates the classification accuracy by first type-casting the vector of booleans to floats, so that False becomes 0 and True becomes 1, and then calculating the average of these numbers"
      ]
    },
    {
      "metadata": {
        "id": "XqXjvJU2CIed",
        "colab_type": "code",
        "colab": {}
      },
      "cell_type": "code",
      "source": [
        "accuracy = tf.reduce_mean(tf.cast(correct_prediction, tf.float32))"
      ],
      "execution_count": 0,
      "outputs": []
    },
    {
      "metadata": {
        "id": "HsQLNQDdCisV",
        "colab_type": "text"
      },
      "cell_type": "markdown",
      "source": [
        "**Running The Tensorflow**"
      ]
    },
    {
      "metadata": {
        "id": "iRCapUqaCohU",
        "colab_type": "text"
      },
      "cell_type": "markdown",
      "source": [
        "**Create Tensorflow Session**"
      ]
    },
    {
      "metadata": {
        "id": "rZdbr_2oChr3",
        "colab_type": "code",
        "colab": {}
      },
      "cell_type": "code",
      "source": [
        "session = tf.Session()"
      ],
      "execution_count": 0,
      "outputs": []
    },
    {
      "metadata": {
        "id": "g_egQc23CvQK",
        "colab_type": "text"
      },
      "cell_type": "markdown",
      "source": [
        "**Initialize Variables**\n",
        "\n",
        "The variables for weights and biases must be initialized before we start optimizing them."
      ]
    },
    {
      "metadata": {
        "id": "uv2l-ERRCtdz",
        "colab_type": "code",
        "colab": {}
      },
      "cell_type": "code",
      "source": [
        "session.run(tf.global_variables_initializer())"
      ],
      "execution_count": 0,
      "outputs": []
    },
    {
      "metadata": {
        "id": "ZQdXMHSUDB-8",
        "colab_type": "text"
      },
      "cell_type": "markdown",
      "source": [
        "**Helper-function to perform optimization iterations**"
      ]
    },
    {
      "metadata": {
        "id": "k6WEHCxWC86R",
        "colab_type": "code",
        "colab": {}
      },
      "cell_type": "code",
      "source": [
        "train_batch_size = 64"
      ],
      "execution_count": 0,
      "outputs": []
    },
    {
      "metadata": {
        "id": "HrF_vCkpGCB3",
        "colab_type": "code",
        "colab": {}
      },
      "cell_type": "code",
      "source": [
        "# Helper function for getting batch size\n",
        "def next_batch(num, data, labels):\n",
        "    '''\n",
        "    Return a total of `num` random samples and labels. \n",
        "    '''\n",
        "    idx = np.arange(0 , len(data))\n",
        "    np.random.shuffle(idx)\n",
        "    idx = idx[:num]\n",
        "    data_shuffle = [data[ i] for i in idx]\n",
        "    labels_shuffle = [labels[ i] for i in idx]\n",
        "\n",
        "    return np.asarray(data_shuffle), np.asarray(labels_shuffle)"
      ],
      "execution_count": 0,
      "outputs": []
    },
    {
      "metadata": {
        "id": "myrn2uPSDMVC",
        "colab_type": "code",
        "colab": {}
      },
      "cell_type": "code",
      "source": [
        "total_iterations = 0\n",
        "\n",
        "def optimize(num_iterations):\n",
        "  # Ensure we update the global variable rather than local copy\n",
        "  global total_iterations\n",
        "  \n",
        "  # Start-time used for printing time_usage below\n",
        "  start_time = time.time()\n",
        "  \n",
        "  for i in range(total_iterations,\n",
        "                 total_iterations + num_iterations):\n",
        "    \n",
        "    x_batch, y_true_batch = next_batch(num=train_batch_size,\n",
        "                                          data = X_train,\n",
        "                                          labels = y_train)\n",
        "    \n",
        "    feed_dict_train = { x : x_batch.reshape(-1,784),\n",
        "                        y_true : np.eye(len(num_classes))[y_true_batch] }\n",
        "    \n",
        "    # Run the optimizer using this batch training data\n",
        "    session.run(optimizer, feed_dict=feed_dict_train)\n",
        "    \n",
        "    # Print status every 100 iterations.\n",
        "    \n",
        "    if i % 100 == 0:\n",
        "      # Calculate the accuracy\n",
        "      acc = session.run(accuracy, feed_dict=feed_dict_train)\n",
        "      \n",
        "      msg = 'Optimization Iteration: {0:>6}, Training Accuracy: {1:>6.1%}'\n",
        "      print(msg.format(i+1, acc))\n",
        "    \n",
        "  total_iterations += num_iterations\n",
        "  \n",
        "  end_time = time.time()\n",
        "  \n",
        "  time_dif = end_time - start_time\n",
        "  \n",
        "  print('Time-Usage' + str(timedelta(seconds=int(round(time_dif)))))"
      ],
      "execution_count": 0,
      "outputs": []
    },
    {
      "metadata": {
        "id": "1j1AYY2_IXdA",
        "colab_type": "code",
        "colab": {}
      },
      "cell_type": "code",
      "source": [
        "# Helper function to plot example errors\n",
        "\n",
        "def plot_example_errors(cls_pred, correct):\n",
        "    # This function is called from print_test_accuracy() below.\n",
        "\n",
        "    # cls_pred is an array of the predicted class-number for\n",
        "    # all images in the test-set.\n",
        "\n",
        "    # correct is a boolean array whether the predicted class\n",
        "    # is equal to the true class for each image in the test-set.\n",
        "\n",
        "    # Negate the boolean array.\n",
        "    incorrect = (correct == False)\n",
        "    \n",
        "    # Get the images from the test-set that have been\n",
        "    # incorrectly classified.\n",
        "    images = X_test[incorrect]\n",
        "    \n",
        "    # Get the predicted classes for those images.\n",
        "    cls_pred = cls_pred[incorrect]\n",
        "\n",
        "    # Get the true classes for those images.\n",
        "    cls_true = y_test[incorrect]\n",
        "    \n",
        "    # Plot the first 9 images.\n",
        "    plot_images(images=images[0:9],\n",
        "                cls_true=cls_true[0:9],\n",
        "                cls_pred=cls_pred[0:9])"
      ],
      "execution_count": 0,
      "outputs": []
    },
    {
      "metadata": {
        "id": "1T07dQ9QJmTb",
        "colab_type": "code",
        "colab": {}
      },
      "cell_type": "code",
      "source": [
        "# Helper function to plot confusion matrix\n",
        "\n",
        "\n",
        "def plot_confusion_matrix(cls_pred):\n",
        "    # This is called from print_test_accuracy() below.\n",
        "\n",
        "    # cls_pred is an array of the predicted class-number for\n",
        "    # all images in the test-set.\n",
        "\n",
        "    # Get the true classifications for the test-set.\n",
        "    cls_true = y_test\n",
        "    \n",
        "    # Get the confusion matrix using sklearn.\n",
        "    cm = confusion_matrix(y_true=cls_true,\n",
        "                          y_pred=cls_pred)\n",
        "\n",
        "    # Print the confusion matrix as text.\n",
        "    print(cm)\n",
        "\n",
        "    # Plot the confusion matrix as an image.\n",
        "    plt.matshow(cm)\n",
        "\n",
        "    # Make various adjustments to the plot.\n",
        "    plt.colorbar()\n",
        "    tick_marks = np.arange(len(num_classes))\n",
        "    plt.xticks(tick_marks, range(len(num_classes)))\n",
        "    plt.yticks(tick_marks, range(len(num_classes)))\n",
        "    plt.xlabel('Predicted')\n",
        "    plt.ylabel('True')\n",
        "\n",
        "    # Ensure the plot is shown correctly with multiple plots\n",
        "    # in a single Notebook cell.\n",
        "    plt.show()"
      ],
      "execution_count": 0,
      "outputs": []
    },
    {
      "metadata": {
        "id": "afCx_zgdL5wL",
        "colab_type": "code",
        "colab": {}
      },
      "cell_type": "code",
      "source": [
        "# Helper function for showing performance\n",
        "\n",
        "\n",
        "# Split the test-set into smaller batches of this size.\n",
        "test_batch_size = 256\n",
        "\n",
        "def print_test_accuracy(show_example_errors=False,\n",
        "                        show_confusion_matrix=False):\n",
        "\n",
        "    # Number of images in the test-set.\n",
        "    num_test = X_test.shape[0]\n",
        "\n",
        "    # Allocate an array for the predicted classes which\n",
        "    # will be calculated in batches and filled into this array.\n",
        "    cls_pred = np.zeros(shape=num_test, dtype=np.int)\n",
        "\n",
        "    # Now calculate the predicted classes for the batches.\n",
        "    # We will just iterate through all the batches.\n",
        "\n",
        "    # The starting index for the next batch is denoted i.\n",
        "    i = 0\n",
        "\n",
        "    while i < num_test:\n",
        "        # The ending index for the next batch is denoted j.\n",
        "        j = min(i + test_batch_size, num_test)\n",
        "\n",
        "        # Get the images from the test-set between index i and j.\n",
        "        images = X_test[i:j, :].reshape(-1,784)\n",
        "\n",
        "        # Get the associated labels.\n",
        "        labels = np.eye(len(num_classes))[y_test[i:j]]\n",
        "\n",
        "        # Create a feed-dict with these images and labels.\n",
        "        feed_dict = {x: images,\n",
        "                     y_true: labels}\n",
        "\n",
        "        # Calculate the predicted class using TensorFlow.\n",
        "        cls_pred[i:j] = session.run(y_pred_cls, feed_dict=feed_dict)\n",
        "\n",
        "        # Set the start-index for the next batch to the\n",
        "        # end-index of the current batch.\n",
        "        i = j\n",
        "\n",
        "    # Convenience variable for the true class-numbers of the test-set.\n",
        "    cls_true = y_test\n",
        "\n",
        "    # Create a boolean array whether each image is correctly classified.\n",
        "    correct = (cls_true == cls_pred)\n",
        "\n",
        "    # Calculate the number of correctly classified images.\n",
        "    # When summing a boolean array, False means 0 and True means 1.\n",
        "    correct_sum = correct.sum()\n",
        "\n",
        "    # Classification accuracy is the number of correctly classified\n",
        "    # images divided by the total number of images in the test-set.\n",
        "    acc = float(correct_sum) / num_test\n",
        "\n",
        "    # Print the accuracy.\n",
        "    msg = \"Accuracy on Test-Set: {0:.1%} ({1} / {2})\"\n",
        "    print(msg.format(acc, correct_sum, num_test))\n",
        "\n",
        "    # Plot some examples of mis-classifications, if desired.\n",
        "    if show_example_errors:\n",
        "        print(\"Example errors:\")\n",
        "        plot_example_errors(cls_pred=cls_pred, correct=correct)\n",
        "\n",
        "    # Plot the confusion matrix, if desired.\n",
        "    if show_confusion_matrix:\n",
        "        print(\"Confusion Matrix:\")\n",
        "        plot_confusion_matrix(cls_pred=cls_pred)"
      ],
      "execution_count": 0,
      "outputs": []
    },
    {
      "metadata": {
        "id": "XwYIyBFyO3JP",
        "colab_type": "code",
        "outputId": "855f9a0c-49c2-407c-f771-9f6fe123688f",
        "colab": {
          "base_uri": "https://localhost:8080/",
          "height": 35
        }
      },
      "cell_type": "code",
      "source": [
        "# Performance before any optimisation\n",
        "\n",
        "print_test_accuracy()"
      ],
      "execution_count": 43,
      "outputs": [
        {
          "output_type": "stream",
          "text": [
            "Accuracy on Test-Set: 10.8% (1078 / 10000)\n"
          ],
          "name": "stdout"
        }
      ]
    },
    {
      "metadata": {
        "id": "Fnr_XQ5ZfURG",
        "colab_type": "code",
        "outputId": "d6d59e43-59fe-4f59-be42-8fe598453fa3",
        "colab": {
          "base_uri": "https://localhost:8080/",
          "height": 53
        }
      },
      "cell_type": "code",
      "source": [
        "# Performance after 1 optimisation iteration\n",
        "optimize(num_iterations=1)"
      ],
      "execution_count": 44,
      "outputs": [
        {
          "output_type": "stream",
          "text": [
            "Optimization Iteration:      1, Training Accuracy:  10.9%\n",
            "Time-Usage0:00:00\n"
          ],
          "name": "stdout"
        }
      ]
    },
    {
      "metadata": {
        "id": "7kPJdfLxovYh",
        "colab_type": "code",
        "outputId": "cc8c6d45-5796-4fef-d8a7-ffe13eb3cc39",
        "colab": {
          "base_uri": "https://localhost:8080/",
          "height": 35
        }
      },
      "cell_type": "code",
      "source": [
        "print_test_accuracy()"
      ],
      "execution_count": 45,
      "outputs": [
        {
          "output_type": "stream",
          "text": [
            "Accuracy on Test-Set: 12.4% (1237 / 10000)\n"
          ],
          "name": "stdout"
        }
      ]
    },
    {
      "metadata": {
        "id": "gw1PN1E0o832",
        "colab_type": "code",
        "outputId": "dddfb993-bce6-4245-8f98-7c6e77544caf",
        "colab": {
          "base_uri": "https://localhost:8080/",
          "height": 35
        }
      },
      "cell_type": "code",
      "source": [
        "#Performance after 100 optimisation iterations\n",
        "optimize(num_iterations=99)"
      ],
      "execution_count": 46,
      "outputs": [
        {
          "output_type": "stream",
          "text": [
            "Time-Usage0:00:01\n"
          ],
          "name": "stdout"
        }
      ]
    },
    {
      "metadata": {
        "id": "CcmuODAWpJxq",
        "colab_type": "code",
        "outputId": "d993025a-0542-49a8-ea54-4033539bbb5b",
        "colab": {
          "base_uri": "https://localhost:8080/",
          "height": 298
        }
      },
      "cell_type": "code",
      "source": [
        "print_test_accuracy(show_example_errors=True)"
      ],
      "execution_count": 47,
      "outputs": [
        {
          "output_type": "stream",
          "text": [
            "Accuracy on Test-Set: 81.9% (8191 / 10000)\n",
            "Example errors:\n"
          ],
          "name": "stdout"
        },
        {
          "output_type": "display_data",
          "data": {
            "image/png": "[encoded data removed]",
            "text/plain": [
              "<Figure size 432x288 with 9 Axes>"
            ]
          },
          "metadata": {
            "tags": []
          }
        }
      ]
    },
    {
      "metadata": {
        "id": "zDpuhYLHpVdE",
        "colab_type": "code",
        "outputId": "aee1575b-f789-41fc-9320-9fc144b49bc5",
        "colab": {
          "base_uri": "https://localhost:8080/",
          "height": 197
        }
      },
      "cell_type": "code",
      "source": [
        "#performance after 1000 optimization iterations\n",
        "optimize(num_iterations=900)"
      ],
      "execution_count": 48,
      "outputs": [
        {
          "output_type": "stream",
          "text": [
            "Optimization Iteration:    101, Training Accuracy:  84.4%\n",
            "Optimization Iteration:    201, Training Accuracy:  93.8%\n",
            "Optimization Iteration:    301, Training Accuracy:  92.2%\n",
            "Optimization Iteration:    401, Training Accuracy:  92.2%\n",
            "Optimization Iteration:    501, Training Accuracy:  95.3%\n",
            "Optimization Iteration:    601, Training Accuracy:  92.2%\n",
            "Optimization Iteration:    701, Training Accuracy:  95.3%\n",
            "Optimization Iteration:    801, Training Accuracy:  95.3%\n",
            "Optimization Iteration:    901, Training Accuracy:  98.4%\n",
            "Time-Usage0:00:07\n"
          ],
          "name": "stdout"
        }
      ]
    },
    {
      "metadata": {
        "id": "5EYEKtsGpiTP",
        "colab_type": "code",
        "outputId": "a13d0bec-710a-4b2a-b981-8e7abd27054b",
        "colab": {
          "base_uri": "https://localhost:8080/",
          "height": 298
        }
      },
      "cell_type": "code",
      "source": [
        "print_test_accuracy(show_example_errors=True)"
      ],
      "execution_count": 49,
      "outputs": [
        {
          "output_type": "stream",
          "text": [
            "Accuracy on Test-Set: 95.9% (9588 / 10000)\n",
            "Example errors:\n"
          ],
          "name": "stdout"
        },
        {
          "output_type": "display_data",
          "data": {
            "image/png": "[encoded data removed]",
            "text/plain": [
              "<Figure size 432x288 with 9 Axes>"
            ]
          },
          "metadata": {
            "tags": []
          }
        }
      ]
    },
    {
      "metadata": {
        "id": "teVo6SYdpqWV",
        "colab_type": "code",
        "outputId": "d8f04281-f96f-4535-ec06-9ed14c0a8e01",
        "colab": {
          "base_uri": "https://localhost:8080/",
          "height": 1655
        }
      },
      "cell_type": "code",
      "source": [
        "#performance after 10,000 optimization iterations\n",
        "optimize(num_iterations=9000)"
      ],
      "execution_count": 50,
      "outputs": [
        {
          "output_type": "stream",
          "text": [
            "Optimization Iteration:   1001, Training Accuracy:  95.3%\n",
            "Optimization Iteration:   1101, Training Accuracy:  95.3%\n",
            "Optimization Iteration:   1201, Training Accuracy:  98.4%\n",
            "Optimization Iteration:   1301, Training Accuracy:  96.9%\n",
            "Optimization Iteration:   1401, Training Accuracy:  98.4%\n",
            "Optimization Iteration:   1501, Training Accuracy:  98.4%\n",
            "Optimization Iteration:   1601, Training Accuracy:  98.4%\n",
            "Optimization Iteration:   1701, Training Accuracy: 100.0%\n",
            "Optimization Iteration:   1801, Training Accuracy:  98.4%\n",
            "Optimization Iteration:   1901, Training Accuracy:  93.8%\n",
            "Optimization Iteration:   2001, Training Accuracy:  96.9%\n",
            "Optimization Iteration:   2101, Training Accuracy:  98.4%\n",
            "Optimization Iteration:   2201, Training Accuracy:  95.3%\n",
            "Optimization Iteration:   2301, Training Accuracy:  96.9%\n",
            "Optimization Iteration:   2401, Training Accuracy: 100.0%\n",
            "Optimization Iteration:   2501, Training Accuracy: 100.0%\n",
            "Optimization Iteration:   2601, Training Accuracy: 100.0%\n",
            "Optimization Iteration:   2701, Training Accuracy: 100.0%\n",
            "Optimization Iteration:   2801, Training Accuracy:  98.4%\n",
            "Optimization Iteration:   2901, Training Accuracy:  93.8%\n",
            "Optimization Iteration:   3001, Training Accuracy: 100.0%\n",
            "Optimization Iteration:   3101, Training Accuracy:  98.4%\n",
            "Optimization Iteration:   3201, Training Accuracy:  98.4%\n",
            "Optimization Iteration:   3301, Training Accuracy:  98.4%\n",
            "Optimization Iteration:   3401, Training Accuracy:  98.4%\n",
            "Optimization Iteration:   3501, Training Accuracy:  98.4%\n",
            "Optimization Iteration:   3601, Training Accuracy:  98.4%\n",
            "Optimization Iteration:   3701, Training Accuracy:  98.4%\n",
            "Optimization Iteration:   3801, Training Accuracy:  96.9%\n",
            "Optimization Iteration:   3901, Training Accuracy: 100.0%\n",
            "Optimization Iteration:   4001, Training Accuracy:  98.4%\n",
            "Optimization Iteration:   4101, Training Accuracy: 100.0%\n",
            "Optimization Iteration:   4201, Training Accuracy: 100.0%\n",
            "Optimization Iteration:   4301, Training Accuracy: 100.0%\n",
            "Optimization Iteration:   4401, Training Accuracy:  98.4%\n",
            "Optimization Iteration:   4501, Training Accuracy: 100.0%\n",
            "Optimization Iteration:   4601, Training Accuracy:  98.4%\n",
            "Optimization Iteration:   4701, Training Accuracy:  96.9%\n",
            "Optimization Iteration:   4801, Training Accuracy:  98.4%\n",
            "Optimization Iteration:   4901, Training Accuracy: 100.0%\n",
            "Optimization Iteration:   5001, Training Accuracy:  96.9%\n",
            "Optimization Iteration:   5101, Training Accuracy: 100.0%\n",
            "Optimization Iteration:   5201, Training Accuracy: 100.0%\n",
            "Optimization Iteration:   5301, Training Accuracy: 100.0%\n",
            "Optimization Iteration:   5401, Training Accuracy: 100.0%\n",
            "Optimization Iteration:   5501, Training Accuracy:  98.4%\n",
            "Optimization Iteration:   5601, Training Accuracy: 100.0%\n",
            "Optimization Iteration:   5701, Training Accuracy:  96.9%\n",
            "Optimization Iteration:   5801, Training Accuracy: 100.0%\n",
            "Optimization Iteration:   5901, Training Accuracy: 100.0%\n",
            "Optimization Iteration:   6001, Training Accuracy: 100.0%\n",
            "Optimization Iteration:   6101, Training Accuracy: 100.0%\n",
            "Optimization Iteration:   6201, Training Accuracy: 100.0%\n",
            "Optimization Iteration:   6301, Training Accuracy: 100.0%\n",
            "Optimization Iteration:   6401, Training Accuracy: 100.0%\n",
            "Optimization Iteration:   6501, Training Accuracy: 100.0%\n",
            "Optimization Iteration:   6601, Training Accuracy: 100.0%\n",
            "Optimization Iteration:   6701, Training Accuracy: 100.0%\n",
            "Optimization Iteration:   6801, Training Accuracy: 100.0%\n",
            "Optimization Iteration:   6901, Training Accuracy:  98.4%\n",
            "Optimization Iteration:   7001, Training Accuracy: 100.0%\n",
            "Optimization Iteration:   7101, Training Accuracy: 100.0%\n",
            "Optimization Iteration:   7201, Training Accuracy: 100.0%\n",
            "Optimization Iteration:   7301, Training Accuracy: 100.0%\n",
            "Optimization Iteration:   7401, Training Accuracy: 100.0%\n",
            "Optimization Iteration:   7501, Training Accuracy: 100.0%\n",
            "Optimization Iteration:   7601, Training Accuracy: 100.0%\n",
            "Optimization Iteration:   7701, Training Accuracy:  98.4%\n",
            "Optimization Iteration:   7801, Training Accuracy: 100.0%\n",
            "Optimization Iteration:   7901, Training Accuracy:  98.4%\n",
            "Optimization Iteration:   8001, Training Accuracy: 100.0%\n",
            "Optimization Iteration:   8101, Training Accuracy: 100.0%\n",
            "Optimization Iteration:   8201, Training Accuracy: 100.0%\n",
            "Optimization Iteration:   8301, Training Accuracy:  98.4%\n",
            "Optimization Iteration:   8401, Training Accuracy: 100.0%\n",
            "Optimization Iteration:   8501, Training Accuracy: 100.0%\n",
            "Optimization Iteration:   8601, Training Accuracy: 100.0%\n",
            "Optimization Iteration:   8701, Training Accuracy: 100.0%\n",
            "Optimization Iteration:   8801, Training Accuracy: 100.0%\n",
            "Optimization Iteration:   8901, Training Accuracy: 100.0%\n",
            "Optimization Iteration:   9001, Training Accuracy: 100.0%\n",
            "Optimization Iteration:   9101, Training Accuracy: 100.0%\n",
            "Optimization Iteration:   9201, Training Accuracy: 100.0%\n",
            "Optimization Iteration:   9301, Training Accuracy: 100.0%\n",
            "Optimization Iteration:   9401, Training Accuracy: 100.0%\n",
            "Optimization Iteration:   9501, Training Accuracy: 100.0%\n",
            "Optimization Iteration:   9601, Training Accuracy: 100.0%\n",
            "Optimization Iteration:   9701, Training Accuracy: 100.0%\n",
            "Optimization Iteration:   9801, Training Accuracy: 100.0%\n",
            "Optimization Iteration:   9901, Training Accuracy:  98.4%\n",
            "Time-Usage0:01:07\n"
          ],
          "name": "stdout"
        }
      ]
    },
    {
      "metadata": {
        "id": "f0_Ziye3p0Sn",
        "colab_type": "code",
        "outputId": "f9fbbb4b-3391-434a-cd94-67c4826a3e94",
        "colab": {
          "base_uri": "https://localhost:8080/",
          "height": 739
        }
      },
      "cell_type": "code",
      "source": [
        "print_test_accuracy(show_confusion_matrix=True,\n",
        "                    show_example_errors=True)"
      ],
      "execution_count": 51,
      "outputs": [
        {
          "output_type": "stream",
          "text": [
            "Accuracy on Test-Set: 98.8% (9880 / 10000)\n",
            "Example errors:\n"
          ],
          "name": "stdout"
        },
        {
          "output_type": "display_data",
          "data": {
            "image/png": "[encoded data removed]",
            "text/plain": [
              "<Figure size 432x288 with 9 Axes>"
            ]
          },
          "metadata": {
            "tags": []
          }
        },
        {
          "output_type": "stream",
          "text": [
            "Confusion Matrix:\n",
            "[[ 978    0    1    0    0    0    0    0    1    0]\n",
            " [   0 1133    0    0    0    0    2    0    0    0]\n",
            " [   3    3 1017    2    1    0    0    4    2    0]\n",
            " [   0    0    1 1004    0    2    0    1    2    0]\n",
            " [   1    0    1    0  976    0    1    0    1    2]\n",
            " [   0    1    0    6    0  882    1    0    0    2]\n",
            " [   7    2    0    1    3    6  939    0    0    0]\n",
            " [   0    3    1    1    1    0    0 1015    2    5]\n",
            " [   4    1    1    3    3    3    0    2  954    3]\n",
            " [   3    0    0    3   14    4    0    2    1  982]]\n"
          ],
          "name": "stdout"
        },
        {
          "output_type": "display_data",
          "data": {
            "image/png": "[encoded data removed]",
            "text/plain": [
              "<Figure size 288x288 with 2 Axes>"
            ]
          },
          "metadata": {
            "tags": []
          }
        }
      ]
    },
    {
      "metadata": {
        "id": "vKNgL_z8qSkO",
        "colab_type": "code",
        "colab": {}
      },
      "cell_type": "code",
      "source": [
        ""
      ],
      "execution_count": 0,
      "outputs": []
    }
  ]
}